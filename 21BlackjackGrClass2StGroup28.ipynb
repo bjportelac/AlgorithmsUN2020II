{
  "nbformat": 4,
  "nbformat_minor": 0,
  "metadata": {
    "colab": {
      "name": "21BlackjackGrClass2StGroup28.ipynb",
      "provenance": [],
      "collapsed_sections": []
    },
    "kernelspec": {
      "name": "python3",
      "display_name": "Python 3"
    }
  },
  "cells": [
    {
      "cell_type": "markdown",
      "metadata": {
        "id": "1HnaxxVi1alW"
      },
      "source": [
        "#**Lab 4:**  *Monte Carlo – 21 Blackjack*\n",
        "\n",
        "**Integrantes:** Kevin Leonardo Alvarez Mora, Brayan Rolando Jr Portela Cabrera, Christian Camilo Pabon Useche\n",
        "**Grupo:** 2 - 28"
      ]
    },
    {
      "cell_type": "code",
      "metadata": {
        "id": "oU1lVOP7zuIh"
      },
      "source": [
        "import numpy as np \n",
        "import math\n",
        "import random as r\n",
        "import matplotlib.pyplot as plt\n",
        "import pandas as pd\n",
        "import statistics as stts\n",
        "%matplotlib inline"
      ],
      "execution_count": 1,
      "outputs": []
    },
    {
      "cell_type": "markdown",
      "metadata": {
        "id": "47L8hq5j2eNy"
      },
      "source": [
        "### **P1:**\n",
        "\n",
        "Estimate the probability of getting a 21, the average number of cards required to complete 21 and plot the experimental distribution of the number of card required to complete 21 drawing cards sequentially from a shuffled Spanish 48-card deck with standard card values  and from a shuffled Poker 52-card using Montecarlo with 10 millions simulations."
      ]
    },
    {
      "cell_type": "markdown",
      "metadata": {
        "id": "vxRkXb1lclxu"
      },
      "source": [
        "**As the same code is used all along the laboratory, from now on only mayor changes on it will be highlited**"
      ]
    },
    {
      "cell_type": "markdown",
      "metadata": {
        "id": "1RaFz1HtSaxy"
      },
      "source": [
        "#### *Spanish 48-Deck with Standard Cards*"
      ]
    },
    {
      "cell_type": "code",
      "metadata": {
        "id": "zqDk9I9Oz7HB",
        "outputId": "6a3339ac-cf08-45bd-bc4d-b4a2d25ab5d4",
        "colab": {
          "base_uri": "https://localhost:8080/",
          "height": 379
        }
      },
      "source": [
        "#1) Baraja española de 48 cartas\n",
        "cardCounter=[]\n",
        "succsessCounter=[]\n",
        "f,j,c,cardCount =0,0,0,0\n",
        "while j <= 10000000:\n",
        "  i = 0                               #iniciamos la mano en 0\n",
        "  nSdeck = [1,2,3,4,5,6,7,8,9,10,11,12,1,2,3,4,5,6,7,8,9,10,11,12,1,2,3,4,5,6,7,8,9,10,11,12,1,2,3,4,5,6,7,8,9,10,11,12]\n",
        "  cardCount=0\n",
        "  while i < 21:\n",
        "    rand = r.randrange(len(nSdeck))   # toma un valor aleatorio en el mazo\n",
        "    i += nSdeck[rand]                 # Suma a la mano el valor de la carta\n",
        "    nSdeck.remove(nSdeck[rand])       # quita la carta de la baraja y no su primer ocurrencia\n",
        "    cardCount+=1                      # sumamos una carta por cada carta que sacamos\n",
        "  if i == 21:\n",
        "    c +=1 \n",
        "    cardCounter.append(cardCount)\n",
        "    succsessCounter.append(c)         # Si se obtiene una 21 se cuenta como exito\n",
        "\n",
        "  j+=1\n",
        "\n",
        "print(\"Cantidad de 21 obtenidos:\" ,c)\n",
        "print(\"Probabilidad de obtener 21 en 10'000.000 intentos\",c/j)\n",
        "print(\"Media de cartas necesaria para obtener 21:\",stts.mean(cardCounter))\n",
        "data = pd.DataFrame({'numero de cartas': cardCounter, '21 Exitos': succsessCounter})\n",
        "\n",
        "data.groupby('numero de cartas').count()\n",
        "\n"
      ],
      "execution_count": 2,
      "outputs": [
        {
          "output_type": "stream",
          "text": [
            "Cantidad de 21 obtenidos: 1578141\n",
            "Probabilidad de obtener 21 en 10'000.000 intentos 0.15781408421859158\n",
            "Media de cartas necesaria para obtener 21: 3.4164615202317155\n"
          ],
          "name": "stdout"
        },
        {
          "output_type": "execute_result",
          "data": {
            "text/html": [
              "<div>\n",
              "<style scoped>\n",
              "    .dataframe tbody tr th:only-of-type {\n",
              "        vertical-align: middle;\n",
              "    }\n",
              "\n",
              "    .dataframe tbody tr th {\n",
              "        vertical-align: top;\n",
              "    }\n",
              "\n",
              "    .dataframe thead th {\n",
              "        text-align: right;\n",
              "    }\n",
              "</style>\n",
              "<table border=\"1\" class=\"dataframe\">\n",
              "  <thead>\n",
              "    <tr style=\"text-align: right;\">\n",
              "      <th></th>\n",
              "      <th>21 Exitos</th>\n",
              "    </tr>\n",
              "    <tr>\n",
              "      <th>numero de cartas</th>\n",
              "      <th></th>\n",
              "    </tr>\n",
              "  </thead>\n",
              "  <tbody>\n",
              "    <tr>\n",
              "      <th>2</th>\n",
              "      <td>282912</td>\n",
              "    </tr>\n",
              "    <tr>\n",
              "      <th>3</th>\n",
              "      <td>627760</td>\n",
              "    </tr>\n",
              "    <tr>\n",
              "      <th>4</th>\n",
              "      <td>449296</td>\n",
              "    </tr>\n",
              "    <tr>\n",
              "      <th>5</th>\n",
              "      <td>171101</td>\n",
              "    </tr>\n",
              "    <tr>\n",
              "      <th>6</th>\n",
              "      <td>40297</td>\n",
              "    </tr>\n",
              "    <tr>\n",
              "      <th>7</th>\n",
              "      <td>6144</td>\n",
              "    </tr>\n",
              "    <tr>\n",
              "      <th>8</th>\n",
              "      <td>604</td>\n",
              "    </tr>\n",
              "    <tr>\n",
              "      <th>9</th>\n",
              "      <td>27</td>\n",
              "    </tr>\n",
              "  </tbody>\n",
              "</table>\n",
              "</div>"
            ],
            "text/plain": [
              "                  21 Exitos\n",
              "numero de cartas           \n",
              "2                    282912\n",
              "3                    627760\n",
              "4                    449296\n",
              "5                    171101\n",
              "6                     40297\n",
              "7                      6144\n",
              "8                       604\n",
              "9                        27"
            ]
          },
          "metadata": {
            "tags": []
          },
          "execution_count": 2
        }
      ]
    },
    {
      "cell_type": "code",
      "metadata": {
        "id": "He6gpyfTCkbT",
        "outputId": "8c98327c-3cf0-4e29-e4fe-48027e4f34b3",
        "colab": {
          "base_uri": "https://localhost:8080/",
          "height": 866
        }
      },
      "source": [
        "data.groupby('numero de cartas').count().plot()\n",
        "data.groupby('numero de cartas').count().plot.bar()\n",
        "data.hist(bins=10)"
      ],
      "execution_count": 3,
      "outputs": [
        {
          "output_type": "execute_result",
          "data": {
            "text/plain": [
              "array([[<matplotlib.axes._subplots.AxesSubplot object at 0x7faa3fb42198>,\n",
              "        <matplotlib.axes._subplots.AxesSubplot object at 0x7faa3fb74198>]],\n",
              "      dtype=object)"
            ]
          },
          "metadata": {
            "tags": []
          },
          "execution_count": 3
        },
        {
          "output_type": "display_data",
          "data": {
            "image/png": "[encoded data removed]",
            "text/plain": [
              "<Figure size 432x288 with 1 Axes>"
            ]
          },
          "metadata": {
            "tags": [],
            "needs_background": "light"
          }
        },
        {
          "output_type": "display_data",
          "data": {
            "image/png": "[encoded data removed]",
            "text/plain": [
              "<Figure size 432x288 with 1 Axes>"
            ]
          },
          "metadata": {
            "tags": [],
            "needs_background": "light"
          }
        },
        {
          "output_type": "display_data",
          "data": {
            "image/png": "[encoded data removed]",
            "text/plain": [
              "<Figure size 432x288 with 2 Axes>"
            ]
          },
          "metadata": {
            "tags": [],
            "needs_background": "light"
          }
        }
      ]
    },
    {
      "cell_type": "markdown",
      "metadata": {
        "id": "LIWedCFmSuSO"
      },
      "source": [
        "#### *Poker 52-Deck with Standard Cards*"
      ]
    },
    {
      "cell_type": "code",
      "metadata": {
        "id": "4xxw9uOf9D1k",
        "outputId": "d65f3fbb-da25-424a-d944-6e34c73d4a0a",
        "colab": {
          "base_uri": "https://localhost:8080/",
          "height": 379
        }
      },
      "source": [
        "#1)Baraja de Poker de 52 cartas\n",
        "cardCounter2=[]\n",
        "succsessCounter2=[]\n",
        "j2 = 0   \n",
        "c2 = 0 \n",
        "cardCount2=0\n",
        "while j2 <= 10000000:\n",
        "  i2 = 0\n",
        "  nSdeck2 = [1,2,3,4,5,6,7,8,9,10,11,12,13,1,2,3,4,5,6,7,8,9,10,11,12,13,1,2,3,4,5,6,7,8,9,10,11,12,13,1,2,3,4,5,6,7,8,9,10,11,12,13]\n",
        "  cardCount2=0\n",
        "  while i2 < 21:\n",
        "    rand2 = r.randrange(len(nSdeck2)) \n",
        "    i2 += nSdeck2[rand2]\n",
        "    nSdeck2.remove(nSdeck2[rand2]) \n",
        "    cardCount2+=1\n",
        "  if i2 == 21:\n",
        "    c2 +=1\n",
        "    cardCounter2.append(cardCount2)\n",
        "    succsessCounter2.append(c2)\n",
        "\n",
        "  j2+=1\n",
        "\n",
        "print(\"Cantidad de 21 obtenidos POKER:\" ,c2)\n",
        "print(\"Probabilidad de obtener 21 en 10'000.000 intentos Poker\",c2/j2)\n",
        "print(\"Media de cartas necesaria para obtener 21:\",stts.mean(cardCounter2))\n",
        "data2 = pd.DataFrame({'numero de cartas': cardCounter2, '21 Exitos': succsessCounter2})\n",
        "\n",
        "data2.groupby('numero de cartas').count()\n",
        "\n"
      ],
      "execution_count": 4,
      "outputs": [
        {
          "output_type": "stream",
          "text": [
            "Cantidad de 21 obtenidos POKER: 1447712\n",
            "Probabilidad de obtener 21 en 10'000.000 intentos Poker 0.14477118552288146\n",
            "Media de cartas necesaria para obtener 21: 3.2145751364912356\n"
          ],
          "name": "stdout"
        },
        {
          "output_type": "execute_result",
          "data": {
            "text/html": [
              "<div>\n",
              "<style scoped>\n",
              "    .dataframe tbody tr th:only-of-type {\n",
              "        vertical-align: middle;\n",
              "    }\n",
              "\n",
              "    .dataframe tbody tr th {\n",
              "        vertical-align: top;\n",
              "    }\n",
              "\n",
              "    .dataframe thead th {\n",
              "        text-align: right;\n",
              "    }\n",
              "</style>\n",
              "<table border=\"1\" class=\"dataframe\">\n",
              "  <thead>\n",
              "    <tr style=\"text-align: right;\">\n",
              "      <th></th>\n",
              "      <th>21 Exitos</th>\n",
              "    </tr>\n",
              "    <tr>\n",
              "      <th>numero de cartas</th>\n",
              "      <th></th>\n",
              "    </tr>\n",
              "  </thead>\n",
              "  <tbody>\n",
              "    <tr>\n",
              "      <th>2</th>\n",
              "      <td>362592</td>\n",
              "    </tr>\n",
              "    <tr>\n",
              "      <th>3</th>\n",
              "      <td>588990</td>\n",
              "    </tr>\n",
              "    <tr>\n",
              "      <th>4</th>\n",
              "      <td>351313</td>\n",
              "    </tr>\n",
              "    <tr>\n",
              "      <th>5</th>\n",
              "      <td>116587</td>\n",
              "    </tr>\n",
              "    <tr>\n",
              "      <th>6</th>\n",
              "      <td>24491</td>\n",
              "    </tr>\n",
              "    <tr>\n",
              "      <th>7</th>\n",
              "      <td>3429</td>\n",
              "    </tr>\n",
              "    <tr>\n",
              "      <th>8</th>\n",
              "      <td>301</td>\n",
              "    </tr>\n",
              "    <tr>\n",
              "      <th>9</th>\n",
              "      <td>9</td>\n",
              "    </tr>\n",
              "  </tbody>\n",
              "</table>\n",
              "</div>"
            ],
            "text/plain": [
              "                  21 Exitos\n",
              "numero de cartas           \n",
              "2                    362592\n",
              "3                    588990\n",
              "4                    351313\n",
              "5                    116587\n",
              "6                     24491\n",
              "7                      3429\n",
              "8                       301\n",
              "9                         9"
            ]
          },
          "metadata": {
            "tags": []
          },
          "execution_count": 4
        }
      ]
    },
    {
      "cell_type": "code",
      "metadata": {
        "id": "moO_hUsyCdvd",
        "outputId": "c708b27f-1a83-40f2-a730-970c6708bede",
        "colab": {
          "base_uri": "https://localhost:8080/",
          "height": 866
        }
      },
      "source": [
        "data2.groupby('numero de cartas').count().plot()\n",
        "data2.groupby('numero de cartas').count().plot.bar()\n",
        "data2.hist(bins=5)"
      ],
      "execution_count": 5,
      "outputs": [
        {
          "output_type": "execute_result",
          "data": {
            "text/plain": [
              "array([[<matplotlib.axes._subplots.AxesSubplot object at 0x7faa3c7faf60>,\n",
              "        <matplotlib.axes._subplots.AxesSubplot object at 0x7faa3c82ab70>]],\n",
              "      dtype=object)"
            ]
          },
          "metadata": {
            "tags": []
          },
          "execution_count": 5
        },
        {
          "output_type": "display_data",
          "data": {
            "image/png": "[encoded data removed]",
            "text/plain": [
              "<Figure size 432x288 with 1 Axes>"
            ]
          },
          "metadata": {
            "tags": [],
            "needs_background": "light"
          }
        },
        {
          "output_type": "display_data",
          "data": {
            "image/png": "[encoded data removed]",
            "text/plain": [
              "<Figure size 432x288 with 1 Axes>"
            ]
          },
          "metadata": {
            "tags": [],
            "needs_background": "light"
          }
        },
        {
          "output_type": "display_data",
          "data": {
            "image/png": "[encoded data removed]",
            "text/plain": [
              "<Figure size 432x288 with 2 Axes>"
            ]
          },
          "metadata": {
            "tags": [],
            "needs_background": "light"
          }
        }
      ]
    },
    {
      "cell_type": "markdown",
      "metadata": {
        "id": "Gzp9W26e5OAp"
      },
      "source": [
        "### **P2:**\n",
        "Estimate the probability of getting a 21, the average number of cards required to complete 21 and plot the experimental distribution of the number of card required to complete 21 drawing cards sequentially from a shuffled Spanish 48-card deck with  card value 10 for the figures,  and from a shuffled Poker 52-card deck with card value 10 for the figures using Montecarlo with 10 millions simulations."
      ]
    },
    {
      "cell_type": "markdown",
      "metadata": {
        "id": "YE9dseUaUCg_"
      },
      "source": [
        "#### *Spanish 48-Deck modified: 10 As High Figures*"
      ]
    },
    {
      "cell_type": "code",
      "metadata": {
        "id": "HuI7EJ6G-Obt",
        "outputId": "b2d3a1cc-733d-4446-889f-bd22e39d090e",
        "colab": {
          "base_uri": "https://localhost:8080/",
          "height": 348
        }
      },
      "source": [
        "#2)Segundo Punto Baraja Española Modificada \n",
        "cardCounterESP2=[]\n",
        "succsessCounterESP2=[]\n",
        "jESP2 = 0   \n",
        "cESP2 = 0 \n",
        "cardCountESP2=0\n",
        "while jESP2 <= 10000000:\n",
        "  iESP2 = 0\n",
        "  nSdeckESP2 = [1,2,3,4,5,6,7,8,9,10,10,10,1,2,3,4,5,6,7,8,9,10,10,10,1,2,3,4,5,6,7,8,9,10,10,10,1,2,3,4,5,6,7,8,9,10,10,10]\n",
        "  cardCountESP2=0\n",
        "  while iESP2 < 21:\n",
        "    randESP2 = r.randrange(len(nSdeckESP2))\n",
        "    iESP2 += nSdeckESP2[randESP2]\n",
        "    nSdeckESP2.remove(nSdeckESP2[randESP2]) \n",
        "    cardCountESP2+=1\n",
        "  if iESP2 == 21:\n",
        "    cESP2 +=1\n",
        "    cardCounterESP2.append(cardCountESP2)\n",
        "    succsessCounterESP2.append(cESP2)\n",
        "  \n",
        "  jESP2+=1\n",
        "\n",
        "print(\"Cantidad de 21 obtenidos ESPAÑOLA PUNTO 2:\" ,cESP2)\n",
        "print(\"Probabilidad de obtener 21 en 10'000.000 intentos Poker\",cESP2/jESP2)\n",
        "print(\"Media de cartas para obtener 21:\",stts.mean(cardCounterESP2))\n",
        "dataESP2 = pd.DataFrame({'numero de cartas': cardCounterESP2, '21 Exitos': succsessCounterESP2})\n",
        "dataESP2.groupby('numero de cartas').count()\n",
        "\n"
      ],
      "execution_count": 6,
      "outputs": [
        {
          "output_type": "stream",
          "text": [
            "Cantidad de 21 obtenidos ESPAÑOLA PUNTO 2: 1494832\n",
            "Probabilidad de obtener 21 en 10'000.000 intentos Poker 0.14948318505168148\n",
            "Media de cartas para obtener 21: 3.6993956511500956\n"
          ],
          "name": "stdout"
        },
        {
          "output_type": "execute_result",
          "data": {
            "text/html": [
              "<div>\n",
              "<style scoped>\n",
              "    .dataframe tbody tr th:only-of-type {\n",
              "        vertical-align: middle;\n",
              "    }\n",
              "\n",
              "    .dataframe tbody tr th {\n",
              "        vertical-align: top;\n",
              "    }\n",
              "\n",
              "    .dataframe thead th {\n",
              "        text-align: right;\n",
              "    }\n",
              "</style>\n",
              "<table border=\"1\" class=\"dataframe\">\n",
              "  <thead>\n",
              "    <tr style=\"text-align: right;\">\n",
              "      <th></th>\n",
              "      <th>21 Exitos</th>\n",
              "    </tr>\n",
              "    <tr>\n",
              "      <th>numero de cartas</th>\n",
              "      <th></th>\n",
              "    </tr>\n",
              "  </thead>\n",
              "  <tbody>\n",
              "    <tr>\n",
              "      <th>3</th>\n",
              "      <td>750000</td>\n",
              "    </tr>\n",
              "    <tr>\n",
              "      <th>4</th>\n",
              "      <td>502663</td>\n",
              "    </tr>\n",
              "    <tr>\n",
              "      <th>5</th>\n",
              "      <td>191275</td>\n",
              "    </tr>\n",
              "    <tr>\n",
              "      <th>6</th>\n",
              "      <td>43910</td>\n",
              "    </tr>\n",
              "    <tr>\n",
              "      <th>7</th>\n",
              "      <td>6409</td>\n",
              "    </tr>\n",
              "    <tr>\n",
              "      <th>8</th>\n",
              "      <td>550</td>\n",
              "    </tr>\n",
              "    <tr>\n",
              "      <th>9</th>\n",
              "      <td>25</td>\n",
              "    </tr>\n",
              "  </tbody>\n",
              "</table>\n",
              "</div>"
            ],
            "text/plain": [
              "                  21 Exitos\n",
              "numero de cartas           \n",
              "3                    750000\n",
              "4                    502663\n",
              "5                    191275\n",
              "6                     43910\n",
              "7                      6409\n",
              "8                       550\n",
              "9                        25"
            ]
          },
          "metadata": {
            "tags": []
          },
          "execution_count": 6
        }
      ]
    },
    {
      "cell_type": "code",
      "metadata": {
        "id": "UnqCYblVCzOM",
        "outputId": "f9b8d514-65ce-44f6-d85c-5ff05622916f",
        "colab": {
          "base_uri": "https://localhost:8080/",
          "height": 866
        }
      },
      "source": [
        "dataESP2.groupby('numero de cartas').count().plot()\n",
        "dataESP2.groupby('numero de cartas').count().plot.bar()\n",
        "dataESP2.hist(bins=10)"
      ],
      "execution_count": 7,
      "outputs": [
        {
          "output_type": "execute_result",
          "data": {
            "text/plain": [
              "array([[<matplotlib.axes._subplots.AxesSubplot object at 0x7faa39817198>,\n",
              "        <matplotlib.axes._subplots.AxesSubplot object at 0x7faa397c1ba8>]],\n",
              "      dtype=object)"
            ]
          },
          "metadata": {
            "tags": []
          },
          "execution_count": 7
        },
        {
          "output_type": "display_data",
          "data": {
            "image/png": "[encoded data removed]",
            "text/plain": [
              "<Figure size 432x288 with 1 Axes>"
            ]
          },
          "metadata": {
            "tags": [],
            "needs_background": "light"
          }
        },
        {
          "output_type": "display_data",
          "data": {
            "image/png": "[encoded data removed]",
            "text/plain": [
              "<Figure size 432x288 with 1 Axes>"
            ]
          },
          "metadata": {
            "tags": [],
            "needs_background": "light"
          }
        },
        {
          "output_type": "display_data",
          "data": {
            "image/png": "[encoded data removed]",
            "text/plain": [
              "<Figure size 432x288 with 2 Axes>"
            ]
          },
          "metadata": {
            "tags": [],
            "needs_background": "light"
          }
        }
      ]
    },
    {
      "cell_type": "markdown",
      "metadata": {
        "id": "D57XM0ILUS1P"
      },
      "source": [
        "#### *Poker 52-Deck Modified: 10 As High figures*"
      ]
    },
    {
      "cell_type": "code",
      "metadata": {
        "id": "7fSfGa9bAbot",
        "outputId": "7ae64464-bf37-403b-c11c-d5e77df0a5bc",
        "colab": {
          "base_uri": "https://localhost:8080/",
          "height": 348
        }
      },
      "source": [
        "#2)Segundo Punto Baraja de Poker Modificada\n",
        "cardCounterPOKER2=[]\n",
        "succsessCounterPOKER2=[]\n",
        "jPOKER2 = 0   \n",
        "cPOKER2 = 0 \n",
        "cardCountPOKER2=0\n",
        "while jPOKER2 <= 10000000:\n",
        "  iPOKER2 = 0\n",
        "  nSdeckPOKER2 = [1,2,3,4,5,6,7,8,9,10,10,10,10,1,2,3,4,5,6,7,8,9,10,10,10,10,1,2,3,4,5,6,7,8,9,10,10,10,10,1,2,3,4,5,6,7,8,9,10,10,10,10]\n",
        "  cardCountPOKER2=0\n",
        "  while iPOKER2 < 21:\n",
        "    randPOKER2 = r.randrange(len(nSdeckPOKER2)) \n",
        "    iPOKER2 += nSdeckPOKER2[randPOKER2]\n",
        "    nSdeckPOKER2.remove(nSdeckPOKER2[randPOKER2])\n",
        "    cardCountPOKER2+=1 \n",
        "  if iPOKER2 == 21:\n",
        "    cPOKER2 +=1\n",
        "    cardCounterPOKER2.append(cardCountPOKER2)\n",
        "    succsessCounterPOKER2.append(cPOKER2)\n",
        "    \n",
        "  jPOKER2+=1\n",
        "\n",
        "print(\"Cantidad de 21 obtenidos POKER PUNTO 2:\" ,cPOKER2)\n",
        "print(\"Probabilidad de obtener 21 en 10'000.000 intentos Poker\",cPOKER2/jPOKER2)\n",
        "print(\"Media de cartas para obtener 21:\",stts.mean(cardCounterPOKER2))\n",
        "dataPOKER2 = pd.DataFrame({'Numero de cartas': cardCounterPOKER2, '21 Obtenidos': succsessCounterPOKER2})\n",
        "dataPOKER2.groupby('Numero de cartas').count()\n"
      ],
      "execution_count": 8,
      "outputs": [
        {
          "output_type": "stream",
          "text": [
            "Cantidad de 21 obtenidos POKER PUNTO 2: 1401233\n",
            "Probabilidad de obtener 21 en 10'000.000 intentos Poker 0.1401232859876714\n",
            "Media de cartas para obtener 21: 3.5783178101001045\n"
          ],
          "name": "stdout"
        },
        {
          "output_type": "execute_result",
          "data": {
            "text/html": [
              "<div>\n",
              "<style scoped>\n",
              "    .dataframe tbody tr th:only-of-type {\n",
              "        vertical-align: middle;\n",
              "    }\n",
              "\n",
              "    .dataframe tbody tr th {\n",
              "        vertical-align: top;\n",
              "    }\n",
              "\n",
              "    .dataframe thead th {\n",
              "        text-align: right;\n",
              "    }\n",
              "</style>\n",
              "<table border=\"1\" class=\"dataframe\">\n",
              "  <thead>\n",
              "    <tr style=\"text-align: right;\">\n",
              "      <th></th>\n",
              "      <th>21 Obtenidos</th>\n",
              "    </tr>\n",
              "    <tr>\n",
              "      <th>Numero de cartas</th>\n",
              "      <th></th>\n",
              "    </tr>\n",
              "  </thead>\n",
              "  <tbody>\n",
              "    <tr>\n",
              "      <th>3</th>\n",
              "      <td>801141</td>\n",
              "    </tr>\n",
              "    <tr>\n",
              "      <th>4</th>\n",
              "      <td>426169</td>\n",
              "    </tr>\n",
              "    <tr>\n",
              "      <th>5</th>\n",
              "      <td>141877</td>\n",
              "    </tr>\n",
              "    <tr>\n",
              "      <th>6</th>\n",
              "      <td>28066</td>\n",
              "    </tr>\n",
              "    <tr>\n",
              "      <th>7</th>\n",
              "      <td>3678</td>\n",
              "    </tr>\n",
              "    <tr>\n",
              "      <th>8</th>\n",
              "      <td>287</td>\n",
              "    </tr>\n",
              "    <tr>\n",
              "      <th>9</th>\n",
              "      <td>15</td>\n",
              "    </tr>\n",
              "  </tbody>\n",
              "</table>\n",
              "</div>"
            ],
            "text/plain": [
              "                  21 Obtenidos\n",
              "Numero de cartas              \n",
              "3                       801141\n",
              "4                       426169\n",
              "5                       141877\n",
              "6                        28066\n",
              "7                         3678\n",
              "8                          287\n",
              "9                           15"
            ]
          },
          "metadata": {
            "tags": []
          },
          "execution_count": 8
        }
      ]
    },
    {
      "cell_type": "code",
      "metadata": {
        "id": "_pdelvwuC7th",
        "outputId": "3ea77145-eb13-4d9d-cf05-50805027113a",
        "colab": {
          "base_uri": "https://localhost:8080/",
          "height": 866
        }
      },
      "source": [
        "dataPOKER2.groupby('Numero de cartas').count().plot()\n",
        "dataPOKER2.groupby('Numero de cartas').count().plot.bar()\n",
        "dataPOKER2.hist(bins=10)"
      ],
      "execution_count": 9,
      "outputs": [
        {
          "output_type": "execute_result",
          "data": {
            "text/plain": [
              "array([[<matplotlib.axes._subplots.AxesSubplot object at 0x7faa36ad0c18>,\n",
              "        <matplotlib.axes._subplots.AxesSubplot object at 0x7faa36a92438>]],\n",
              "      dtype=object)"
            ]
          },
          "metadata": {
            "tags": []
          },
          "execution_count": 9
        },
        {
          "output_type": "display_data",
          "data": {
            "image/png": "[encoded data removed]",
            "text/plain": [
              "<Figure size 432x288 with 1 Axes>"
            ]
          },
          "metadata": {
            "tags": [],
            "needs_background": "light"
          }
        },
        {
          "output_type": "display_data",
          "data": {
            "image/png": "[encoded data removed]",
            "text/plain": [
              "<Figure size 432x288 with 1 Axes>"
            ]
          },
          "metadata": {
            "tags": [],
            "needs_background": "light"
          }
        },
        {
          "output_type": "display_data",
          "data": {
            "image/png": "[encoded data removed]",
            "text/plain": [
              "<Figure size 432x288 with 2 Axes>"
            ]
          },
          "metadata": {
            "tags": [],
            "needs_background": "light"
          }
        }
      ]
    },
    {
      "cell_type": "markdown",
      "metadata": {
        "id": "bDALNOsJ9eom"
      },
      "source": [
        "###**P3:**\n",
        "Estimate the probability of getting a 21, the average total number of cards required to complete 21 (including the three that you start with) and plot the experimental distribution of the number of card required to complete 21 with drawing cards sequentially from a shuffled Spanish 48-card deck with 3 10’s and a shuffled Poker 52-card deck with 4 10’s.\n",
        " \n",
        "Assuming that you have in your hand the cards [7,7,5]as and the remaining deck has n/2 cards. You can pick the $n/2$ cards in the remaining deck in whatever way you choose but with restriction that this has maximum two 7s and three 5, you have to keep the remaining deck fixed through the simulations, use Montecarlo with 10 millions simulations."
      ]
    },
    {
      "cell_type": "markdown",
      "metadata": {
        "id": "rGPo5KGwiNIp"
      },
      "source": [
        "#### *Shuffled spanish 48-card deck with 3 10’s*"
      ]
    },
    {
      "cell_type": "code",
      "metadata": {
        "id": "xmK2MPZ2AbpH",
        "outputId": "477c16fc-98bb-4530-adb8-2004db7fe6bc",
        "colab": {
          "base_uri": "https://localhost:8080/",
          "height": 193
        }
      },
      "source": [
        "\n",
        "cardCounterESP3=[]\n",
        "succsessCounterESP3=[]\n",
        "jESP3 = 0   \n",
        "cESP3 = 0 \n",
        "scsESP3 = []\n",
        "cardCountESP3=0\n",
        "while jESP3 <= 10000000:\n",
        "  iESP3 = 19\n",
        "  nSdeckESP3 = [1,2,3,4,5,6,7,8,9,10,10,10,10,1,2,3,4,5,6,7,8,9,10,10,10,10]\n",
        "  handESP3 = [7,7,5]\n",
        "  cardCountESP3=0\n",
        "  while iESP3 < 21:\n",
        "    randESP3 = r.randrange(len(nSdeckESP3)) \n",
        "    iESP3 += nSdeckESP3[randESP3]\n",
        "    handESP3.append(nSdeckESP3[randESP3])\n",
        "    nSdeckESP3.remove(nSdeckESP3[randESP3]) \n",
        "    cardCountESP3+=1\n",
        "  if iESP3 == 21:\n",
        "    cESP3 +=1\n",
        "    scsESP3.append(len(handESP3))\n",
        "    cardCounterESP3.append(cardCountESP3)\n",
        "    succsessCounterESP3.append(cESP3)\n",
        "  jESP3+=1\n",
        "\n",
        "print(\"Cantidad de 21 obtenidos:\" ,cESP3)\n",
        "print(\"Probabilidad de obtener 21 en 10'000.000 intentos\",cESP3/jESP3)\n",
        "print(\"Media de cartas necesarias bara obtener 21:\",stts.mean(cardCounterESP3))\n",
        "dataESP3 = pd.DataFrame({'numero de cartas': cardCounterESP3, '21 Exitos': succsessCounterESP3})\n",
        "dataESP3.groupby('numero de cartas').count()"
      ],
      "execution_count": 10,
      "outputs": [
        {
          "output_type": "stream",
          "text": [
            "Cantidad de 21 obtenidos: 800495\n",
            "Probabilidad de obtener 21 en 10'000.000 intentos 0.0800494919950508\n",
            "Media de cartas necesarias bara obtener 21: 1.0381039231975215\n"
          ],
          "name": "stdout"
        },
        {
          "output_type": "execute_result",
          "data": {
            "text/html": [
              "<div>\n",
              "<style scoped>\n",
              "    .dataframe tbody tr th:only-of-type {\n",
              "        vertical-align: middle;\n",
              "    }\n",
              "\n",
              "    .dataframe tbody tr th {\n",
              "        vertical-align: top;\n",
              "    }\n",
              "\n",
              "    .dataframe thead th {\n",
              "        text-align: right;\n",
              "    }\n",
              "</style>\n",
              "<table border=\"1\" class=\"dataframe\">\n",
              "  <thead>\n",
              "    <tr style=\"text-align: right;\">\n",
              "      <th></th>\n",
              "      <th>21 Exitos</th>\n",
              "    </tr>\n",
              "    <tr>\n",
              "      <th>numero de cartas</th>\n",
              "      <th></th>\n",
              "    </tr>\n",
              "  </thead>\n",
              "  <tbody>\n",
              "    <tr>\n",
              "      <th>1</th>\n",
              "      <td>769993</td>\n",
              "    </tr>\n",
              "    <tr>\n",
              "      <th>2</th>\n",
              "      <td>30502</td>\n",
              "    </tr>\n",
              "  </tbody>\n",
              "</table>\n",
              "</div>"
            ],
            "text/plain": [
              "                  21 Exitos\n",
              "numero de cartas           \n",
              "1                    769993\n",
              "2                     30502"
            ]
          },
          "metadata": {
            "tags": []
          },
          "execution_count": 10
        }
      ]
    },
    {
      "cell_type": "code",
      "metadata": {
        "id": "18wSlPgI6bOu",
        "outputId": "e622f281-db4e-4308-e28c-f0b5606f4c22",
        "colab": {
          "base_uri": "https://localhost:8080/",
          "height": 856
        }
      },
      "source": [
        "dataESP3.groupby('numero de cartas').count().plot()\n",
        "dataESP3.groupby('numero de cartas').count().plot.bar()\n",
        "dataESP3.hist(bins=5)"
      ],
      "execution_count": 11,
      "outputs": [
        {
          "output_type": "execute_result",
          "data": {
            "text/plain": [
              "array([[<matplotlib.axes._subplots.AxesSubplot object at 0x7faa39887cc0>,\n",
              "        <matplotlib.axes._subplots.AxesSubplot object at 0x7faa3c6f4550>]],\n",
              "      dtype=object)"
            ]
          },
          "metadata": {
            "tags": []
          },
          "execution_count": 11
        },
        {
          "output_type": "display_data",
          "data": {
            "image/png": "[encoded data removed]",
            "text/plain": [
              "<Figure size 432x288 with 1 Axes>"
            ]
          },
          "metadata": {
            "tags": [],
            "needs_background": "light"
          }
        },
        {
          "output_type": "display_data",
          "data": {
            "image/png": "[encoded data removed]",
            "text/plain": [
              "<Figure size 432x288 with 1 Axes>"
            ]
          },
          "metadata": {
            "tags": [],
            "needs_background": "light"
          }
        },
        {
          "output_type": "display_data",
          "data": {
            "image/png": "[encoded data removed]",
            "text/plain": [
              "<Figure size 432x288 with 2 Axes>"
            ]
          },
          "metadata": {
            "tags": [],
            "needs_background": "light"
          }
        }
      ]
    },
    {
      "cell_type": "markdown",
      "metadata": {
        "id": "WAzBrv7WCpK2"
      },
      "source": [
        "#### *Shuffled Poker 52-card deck with 4 10’s*"
      ]
    },
    {
      "cell_type": "code",
      "metadata": {
        "id": "XkwID-hHC2gA",
        "outputId": "c77375ab-5d86-4bdf-c92b-04cabdc67873",
        "colab": {
          "base_uri": "https://localhost:8080/",
          "height": 193
        }
      },
      "source": [
        "\n",
        "cardCounterPOKER3=[]\n",
        "succsessCounterPOKER3=[]\n",
        "jPOKER3 = 0   \n",
        "cPOKER3 = 0 \n",
        "scsPOKER3 = []\n",
        "cardCountPOKER2=0\n",
        "while jPOKER3 <= 10000000:\n",
        "  iPOKER3 = 19\n",
        "  nSdeckPOKER3 = [1,2,3,4,5,6,7,8,9,10,10,10,10,1,2,3,4,5,6,7,8,9,10,10,10,10]\n",
        "  handPOKER3 = [7,7,5]\n",
        "  cardCountPOKER3=0\n",
        "  while iPOKER3 < 21:\n",
        "    randPOKER3 = r.randrange(len(nSdeckPOKER3)) # toma un valor aleatorio en el mazo\n",
        "    iPOKER3 += nSdeckPOKER3[randPOKER3]\n",
        "    handPOKER3.append(nSdeckPOKER3[randPOKER3])\n",
        "    nSdeckPOKER3.remove(nSdeckPOKER3[randPOKER3]) # quita la carta de la baraja\n",
        "    cardCountPOKER3+=1\n",
        "  if iPOKER3 == 21:\n",
        "    cPOKER3 +=1\n",
        "    scsPOKER3.append(len(handPOKER3))\n",
        "    cardCounterPOKER3.append(cardCountPOKER3)\n",
        "    succsessCounterPOKER3.append(cPOKER3)\n",
        "  jPOKER3+=1\n",
        "\n",
        "print(\"Cantidad de 21 obtenidos:\" ,cPOKER3)\n",
        "print(\"Probabilidad de obtener 21 en 10'000.000 intentos\",cPOKER3/jPOKER3)\n",
        "print(\"Media de cartas necesarias bara obtener 21:\",stts.mean(cardCounterPOKER3))\n",
        "dataPOKER3 = pd.DataFrame({'numero de cartas': cardCounterPOKER3, '21 Exitos': succsessCounterPOKER3})\n",
        "dataPOKER3.groupby('numero de cartas').count()"
      ],
      "execution_count": 12,
      "outputs": [
        {
          "output_type": "stream",
          "text": [
            "Cantidad de 21 obtenidos: 798736\n",
            "Probabilidad de obtener 21 en 10'000.000 intentos 0.0798735920126408\n",
            "Media de cartas necesarias bara obtener 21: 1.038425712625949\n"
          ],
          "name": "stdout"
        },
        {
          "output_type": "execute_result",
          "data": {
            "text/html": [
              "<div>\n",
              "<style scoped>\n",
              "    .dataframe tbody tr th:only-of-type {\n",
              "        vertical-align: middle;\n",
              "    }\n",
              "\n",
              "    .dataframe tbody tr th {\n",
              "        vertical-align: top;\n",
              "    }\n",
              "\n",
              "    .dataframe thead th {\n",
              "        text-align: right;\n",
              "    }\n",
              "</style>\n",
              "<table border=\"1\" class=\"dataframe\">\n",
              "  <thead>\n",
              "    <tr style=\"text-align: right;\">\n",
              "      <th></th>\n",
              "      <th>21 Exitos</th>\n",
              "    </tr>\n",
              "    <tr>\n",
              "      <th>numero de cartas</th>\n",
              "      <th></th>\n",
              "    </tr>\n",
              "  </thead>\n",
              "  <tbody>\n",
              "    <tr>\n",
              "      <th>1</th>\n",
              "      <td>768044</td>\n",
              "    </tr>\n",
              "    <tr>\n",
              "      <th>2</th>\n",
              "      <td>30692</td>\n",
              "    </tr>\n",
              "  </tbody>\n",
              "</table>\n",
              "</div>"
            ],
            "text/plain": [
              "                  21 Exitos\n",
              "numero de cartas           \n",
              "1                    768044\n",
              "2                     30692"
            ]
          },
          "metadata": {
            "tags": []
          },
          "execution_count": 12
        }
      ]
    },
    {
      "cell_type": "code",
      "metadata": {
        "id": "0l2A8yxh6p6E",
        "outputId": "2653b660-8495-4200-f2e8-aa6382142e51",
        "colab": {
          "base_uri": "https://localhost:8080/",
          "height": 858
        }
      },
      "source": [
        "dataPOKER3.groupby('numero de cartas').count().plot()\n",
        "dataPOKER3.groupby('numero de cartas').count().plot.bar()\n",
        "dataPOKER3.hist(bins=5)"
      ],
      "execution_count": 13,
      "outputs": [
        {
          "output_type": "execute_result",
          "data": {
            "text/plain": [
              "array([[<matplotlib.axes._subplots.AxesSubplot object at 0x7faa338a1240>,\n",
              "        <matplotlib.axes._subplots.AxesSubplot object at 0x7faa33848e10>]],\n",
              "      dtype=object)"
            ]
          },
          "metadata": {
            "tags": []
          },
          "execution_count": 13
        },
        {
          "output_type": "display_data",
          "data": {
            "image/png": "[encoded data removed]",
            "text/plain": [
              "<Figure size 432x288 with 1 Axes>"
            ]
          },
          "metadata": {
            "tags": [],
            "needs_background": "light"
          }
        },
        {
          "output_type": "display_data",
          "data": {
            "image/png": "[encoded data removed]",
            "text/plain": [
              "<Figure size 432x288 with 1 Axes>"
            ]
          },
          "metadata": {
            "tags": [],
            "needs_background": "light"
          }
        },
        {
          "output_type": "display_data",
          "data": {
            "image/png": "[encoded data removed]",
            "text/plain": [
              "<Figure size 432x288 with 2 Axes>"
            ]
          },
          "metadata": {
            "tags": [],
            "needs_background": "light"
          }
        }
      ]
    },
    {
      "cell_type": "markdown",
      "metadata": {
        "id": "595Y1tZmDSqO"
      },
      "source": [
        "Resulta que sin importar la distribucion de las cartas en la barja las probabilidades convergen a los mismos valores, ya que con base en lo que tenemos en la mano necesitamos solo 2 cartas posibles **Un 2 o Dos 1** asi que la probabilidad de sar estas cartas es la que determina la probabilidad de exito. **Por ende se discrimina el resto de la baraja**"
      ]
    },
    {
      "cell_type": "markdown",
      "metadata": {
        "id": "onCRHdTjm5BF"
      },
      "source": [
        "### **P4:**\n",
        "\n",
        "Find two remaining decks with 10 cards; for a Spanish 48-card deck with 3 10’s and for a Poker \n",
        "52-card deck with 4 10’s; \n",
        "\n",
        "* One remaining has the highest probability of getting 21 (hot deck) and the other remainings that has the lowest probability of getting 21(cold deck) assuming that you have in your hand the cards [7,7,5]. \n",
        "* Calculate analytically the probabilities of getting a 21 for both the hot an cold deck, estimate this probabilities of getting a 21, the average total number of cards required to complete 21 (including the three that you start with) and plot the experimental distribution of the total number of card required to complete 21 (including the three that you start with) using Montecarlo with 10 millions simulations.\n",
        "\n",
        "\n"
      ]
    },
    {
      "cell_type": "markdown",
      "metadata": {
        "id": "EYkDr8f1AF0z"
      },
      "source": [
        "####  *Poker 52-card deck with 4 10’s*"
      ]
    },
    {
      "cell_type": "markdown",
      "metadata": {
        "id": "HNSx0B6-tyP5"
      },
      "source": [
        "##### Hotdeck"
      ]
    },
    {
      "cell_type": "markdown",
      "metadata": {
        "id": "NkhOyZBP8_X0"
      },
      "source": [
        "**Analytically:** For the hot deck used for the poker deck, the probability of obtaining a 21 is based on the probability of drawing a card or combination of cards that add up to 21, in this particular deck we have:\n",
        "\n",
        "**hotdeck** = [2, 2, 2, 2, 1, 1, 1, 1, 3, 3]\n",
        "\n",
        "$S= \\textrm{Get a card that added whith the hand adds up to 21}$\n",
        "\n",
        "$D= \\textrm{Chance of getting a 2 on the hot deck}$\n",
        "\n",
        "$U= \\textrm{Probability of getting a 1 on the hot deck}$\n",
        "\n",
        "As the ammount of cards reduces as you get ones from the deck these event is dependand so its probablity will depend on the amount of ones remaining on the deck. Then the probability of $S$ happening is\n",
        "\n",
        "$P(S) =P(D)+P(U) \\ $ where $\\ P(U) = \\frac{x}{n} \\times \\frac{x-1}{n-1}\\times\\frac{x-2}{n-2} ...$ n is the ammount of cards remaining on the hotdeck and x represents the ammount of ones remaining\n",
        "\n",
        "$P(S) =  \\frac{4}{10} + ( \\frac{4}{10} \\times  \\frac{3}{9})  = 8/15 \\approx 0.5333333... $\n",
        "\n"
      ]
    },
    {
      "cell_type": "code",
      "metadata": {
        "id": "PStHhkPAq9gE",
        "outputId": "3a03aee6-b5de-4bba-a0f8-fc34168a2e0d",
        "colab": {
          "base_uri": "https://localhost:8080/",
          "height": 193
        }
      },
      "source": [
        "cardCounterPOK410=[]\n",
        "succsessCounterPOK410=[]\n",
        "jPOK410 = 0   \n",
        "cPOK410 = 0 \n",
        "scsPOK410 = []\n",
        "cardCountPOK410=0\n",
        "while jPOK410 <= 10000000:\n",
        "  iPOK410 = 19\n",
        "  nSdeckPOK410 = [2, 2, 2, 2, 1, 1, 1, 1, 10, 10]\n",
        "  handPOK410 = [7,7,5]\n",
        "  cardCountPOK410=0\n",
        "  while iPOK410 < 21:\n",
        "    randPOK410 = r.randrange(len(nSdeckPOK410)) \n",
        "    iPOK410 += nSdeckPOK410[randPOK410]\n",
        "    handPOK410.append(nSdeckPOK410[randPOK410])# quita la carta de la baraja\n",
        "    cardCountPOK410+=1\n",
        "  if iPOK410 == 21:\n",
        "    cPOK410 +=1\n",
        "    scsPOK410.append(len(handPOK410))\n",
        "    cardCounterPOK410.append(cardCountPOK410)\n",
        "    succsessCounterPOK410.append(cPOK410)\n",
        "  jPOK410+=1\n",
        "\n",
        "print(\"Cantidad de 21 obtenidos:\" ,cPOK410)\n",
        "print(\"Probabilidad de obtener 21 en 10'000.000 intentos\",cPOK410/jPOK410)\n",
        "print(\"Media para obtener 21 cartas:\",stts.mean(cardCounterPOK410))\n",
        "dataPOK410 = pd.DataFrame({'numero de cartas': cardCounterPOK410, '21 Exitos': succsessCounterPOK410})\n",
        "dataPOK410.groupby('numero de cartas').count()"
      ],
      "execution_count": 14,
      "outputs": [
        {
          "output_type": "stream",
          "text": [
            "Cantidad de 21 obtenidos: 5598462\n",
            "Probabilidad de obtener 21 en 10'000.000 intentos 0.5598461440153856\n",
            "Media para obtener 21 cartas: 1.2857886683878537\n"
          ],
          "name": "stdout"
        },
        {
          "output_type": "execute_result",
          "data": {
            "text/html": [
              "<div>\n",
              "<style scoped>\n",
              "    .dataframe tbody tr th:only-of-type {\n",
              "        vertical-align: middle;\n",
              "    }\n",
              "\n",
              "    .dataframe tbody tr th {\n",
              "        vertical-align: top;\n",
              "    }\n",
              "\n",
              "    .dataframe thead th {\n",
              "        text-align: right;\n",
              "    }\n",
              "</style>\n",
              "<table border=\"1\" class=\"dataframe\">\n",
              "  <thead>\n",
              "    <tr style=\"text-align: right;\">\n",
              "      <th></th>\n",
              "      <th>21 Exitos</th>\n",
              "    </tr>\n",
              "    <tr>\n",
              "      <th>numero de cartas</th>\n",
              "      <th></th>\n",
              "    </tr>\n",
              "  </thead>\n",
              "  <tbody>\n",
              "    <tr>\n",
              "      <th>1</th>\n",
              "      <td>3998485</td>\n",
              "    </tr>\n",
              "    <tr>\n",
              "      <th>2</th>\n",
              "      <td>1599977</td>\n",
              "    </tr>\n",
              "  </tbody>\n",
              "</table>\n",
              "</div>"
            ],
            "text/plain": [
              "                  21 Exitos\n",
              "numero de cartas           \n",
              "1                   3998485\n",
              "2                   1599977"
            ]
          },
          "metadata": {
            "tags": []
          },
          "execution_count": 14
        }
      ]
    },
    {
      "cell_type": "code",
      "metadata": {
        "id": "bnIV_yZm8gWl",
        "outputId": "2f4d8288-f830-412b-a5ce-a8e55fe21576",
        "colab": {
          "base_uri": "https://localhost:8080/",
          "height": 888
        }
      },
      "source": [
        "dataPOK410.groupby('numero de cartas').count().plot()\n",
        "dataPOK410.groupby('numero de cartas').count().plot.bar()\n",
        "dataPOK410.hist(bins=5)"
      ],
      "execution_count": 15,
      "outputs": [
        {
          "output_type": "execute_result",
          "data": {
            "text/plain": [
              "array([[<matplotlib.axes._subplots.AxesSubplot object at 0x7faa288f3048>,\n",
              "        <matplotlib.axes._subplots.AxesSubplot object at 0x7faa28923358>]],\n",
              "      dtype=object)"
            ]
          },
          "metadata": {
            "tags": []
          },
          "execution_count": 15
        },
        {
          "output_type": "display_data",
          "data": {
            "image/png": "[encoded data removed]",
            "text/plain": [
              "<Figure size 432x288 with 1 Axes>"
            ]
          },
          "metadata": {
            "tags": [],
            "needs_background": "light"
          }
        },
        {
          "output_type": "display_data",
          "data": {
            "image/png": "[encoded data removed]",
            "text/plain": [
              "<Figure size 432x288 with 1 Axes>"
            ]
          },
          "metadata": {
            "tags": [],
            "needs_background": "light"
          }
        },
        {
          "output_type": "display_data",
          "data": {
            "image/png": "[encoded data removed]",
            "text/plain": [
              "<Figure size 432x288 with 2 Axes>"
            ]
          },
          "metadata": {
            "tags": [],
            "needs_background": "light"
          }
        }
      ]
    },
    {
      "cell_type": "markdown",
      "metadata": {
        "id": "zwX0f5LMt14W"
      },
      "source": [
        "##### Colddeck"
      ]
    },
    {
      "cell_type": "markdown",
      "metadata": {
        "id": "0sZSPNOH-ui_"
      },
      "source": [
        "**Analytically:** For the cold deck used for the poker deck, the probability of obtaining a 21 is based on the probability of drawing a card or combination of cards that add up to 21, in this particular deck we have:\n",
        "\n",
        "**Colddeck** = [4, 6, 8, 3, 1, 5, 3, 1, 7, 9]\n",
        "\n",
        "$S= \\textrm{Get a card that added whith the hand adds up to 21}$\n",
        "\n",
        "$D= \\textrm{Chance of getting a 2 on the hot deck}$\n",
        "\n",
        "$U= \\textrm{Probability of getting a 1 on the hot deck}$\n",
        "\n",
        "Then as there is only two 1's inside our cold deck the chances of obtaining a 21 are $P(S) =P(D)+P(U) \\ $ where $\\ P(U) = \\frac{x}{n} \\times \\frac{x-1}{n-1}\\times\\frac{x-2}{n-2} ...$ n is the ammount of cards remaining on the hotdeck and x represents the ammount of ones remaining\n",
        "\n",
        "$P(S) = 0 + ( \\frac{2}{10} \\times  \\frac{1}{9})  = 1/45 \\approx 0.022222... $\n",
        "\n",
        "\n"
      ]
    },
    {
      "cell_type": "code",
      "metadata": {
        "id": "r0Wd5EAi8g57",
        "outputId": "5e7ce09c-64f0-4cb5-c794-27c7c176a736",
        "colab": {
          "base_uri": "https://localhost:8080/",
          "height": 162
        }
      },
      "source": [
        "cardCounterPOK410B=[]\n",
        "succsessCounterPOK410B=[]\n",
        "j = 0   \n",
        "c = 0 \n",
        "scs = []\n",
        "cardCountPOK410B=0\n",
        "while j <= 10000000:\n",
        "  i = 19\n",
        "  nSdeck = [4, 6, 8, 3, 1, 5, 3, 1, 7, 9]\n",
        "  hand = [7,7,5]\n",
        "  cardCountPOK410B=0\n",
        "  while i < 21:\n",
        "    rand = r.randrange(len(nSdeck)) \n",
        "    i += nSdeck[rand]\n",
        "    hand.append(nSdeck[rand])\n",
        "    nSdeck.remove(nSdeck[rand]) \n",
        "    cardCountPOK410B+=1\n",
        "  if i == 21:\n",
        "    c +=1\n",
        "    scs.append(len(hand))\n",
        "\n",
        "    cardCounterPOK410B.append(cardCountPOK410B)\n",
        "    succsessCounterPOK410B.append(c)\n",
        "    \n",
        "  j+=1\n",
        "\n",
        "print(\"Cantidad de 21 obtenidos:\" ,c)\n",
        "print(\"Probabilidad de obtener 21 en 10'000.000 intentos\",c/j)\n",
        "print(\"Media para obtener 21 cartas:\",stts.mean(cardCounterPOK410B))\n",
        "dataPOK410B = pd.DataFrame({'numero de cartas': cardCountPOK410B, '21 Exitos': succsessCounterPOK410B})\n",
        "dataPOK410B.groupby('numero de cartas').count()"
      ],
      "execution_count": 16,
      "outputs": [
        {
          "output_type": "stream",
          "text": [
            "Cantidad de 21 obtenidos: 221988\n",
            "Probabilidad de obtener 21 en 10'000.000 intentos 0.02219879778012022\n",
            "Media para obtener 21 cartas: 2\n"
          ],
          "name": "stdout"
        },
        {
          "output_type": "execute_result",
          "data": {
            "text/html": [
              "<div>\n",
              "<style scoped>\n",
              "    .dataframe tbody tr th:only-of-type {\n",
              "        vertical-align: middle;\n",
              "    }\n",
              "\n",
              "    .dataframe tbody tr th {\n",
              "        vertical-align: top;\n",
              "    }\n",
              "\n",
              "    .dataframe thead th {\n",
              "        text-align: right;\n",
              "    }\n",
              "</style>\n",
              "<table border=\"1\" class=\"dataframe\">\n",
              "  <thead>\n",
              "    <tr style=\"text-align: right;\">\n",
              "      <th></th>\n",
              "      <th>21 Exitos</th>\n",
              "    </tr>\n",
              "    <tr>\n",
              "      <th>numero de cartas</th>\n",
              "      <th></th>\n",
              "    </tr>\n",
              "  </thead>\n",
              "  <tbody>\n",
              "    <tr>\n",
              "      <th>1</th>\n",
              "      <td>221988</td>\n",
              "    </tr>\n",
              "  </tbody>\n",
              "</table>\n",
              "</div>"
            ],
            "text/plain": [
              "                  21 Exitos\n",
              "numero de cartas           \n",
              "1                    221988"
            ]
          },
          "metadata": {
            "tags": []
          },
          "execution_count": 16
        }
      ]
    },
    {
      "cell_type": "code",
      "metadata": {
        "id": "08kjoGgv9rE4",
        "outputId": "862067e4-7210-44e0-fdba-deb8ab64c18d",
        "colab": {
          "base_uri": "https://localhost:8080/",
          "height": 591
        }
      },
      "source": [
        "\n",
        "dataPOK410B.groupby('numero de cartas').count().plot.bar()\n",
        "dataPOK410B.hist(bins=5)"
      ],
      "execution_count": 17,
      "outputs": [
        {
          "output_type": "execute_result",
          "data": {
            "text/plain": [
              "array([[<matplotlib.axes._subplots.AxesSubplot object at 0x7faa2811b470>,\n",
              "        <matplotlib.axes._subplots.AxesSubplot object at 0x7faa280cf9b0>]],\n",
              "      dtype=object)"
            ]
          },
          "metadata": {
            "tags": []
          },
          "execution_count": 17
        },
        {
          "output_type": "display_data",
          "data": {
            "image/png": "[encoded data removed]",
            "text/plain": [
              "<Figure size 432x288 with 1 Axes>"
            ]
          },
          "metadata": {
            "tags": [],
            "needs_background": "light"
          }
        },
        {
          "output_type": "display_data",
          "data": {
            "image/png": "[encoded data removed]",
            "text/plain": [
              "<Figure size 432x288 with 2 Axes>"
            ]
          },
          "metadata": {
            "tags": [],
            "needs_background": "light"
          }
        }
      ]
    },
    {
      "cell_type": "markdown",
      "metadata": {
        "id": "Fz2E0JtRCsux"
      },
      "source": [
        "####*Spanish 48-card deck with 3 10’s*\n"
      ]
    },
    {
      "cell_type": "markdown",
      "metadata": {
        "id": "u4h8ATABDAGn"
      },
      "source": [
        "#####Hotdeck"
      ]
    },
    {
      "cell_type": "markdown",
      "metadata": {
        "id": "11kEtFg8EByF"
      },
      "source": [
        "**Analytically:** For the hot deck used for the spanish deck, the probability of obtaining a 21 is based on the probability of drawing a card or combination of cards that add up to 21, in this particular deck we have:\n",
        "\n",
        "**hotdeck** = [2, 2, 2, 2, 1, 1, 1, 1, 10, 4]\n",
        "\n",
        "$S= \\textrm{Get a card that added whith the hand adds up to 21}$\n",
        "\n",
        "$D= \\textrm{Chance of getting a 2 on the hot deck}$\n",
        "\n",
        "$U= \\textrm{Probability of getting a 1 on the hot deck}$\n",
        "\n",
        "As the ammount of cards reduces as you get ones from the deck these event is dependand so its probablity will depend on the amount of ones remaining on the deck. Then the probability of $S$ happening is\n",
        "\n",
        "$P(S) =P(D)+P(U) \\ $ where $\\ P(U) = \\frac{x}{n} \\times \\frac{x-1}{n-1}\\times\\frac{x-2}{n-2} ...$ n is the ammount of cards remaining on the hotdeck and x represents the ammount of ones remaining\n",
        "\n",
        "$P(S) =  \\frac{4}{10} + ( \\frac{4}{10} \\times  \\frac{3}{9})  = 8/15 \\approx 0.5333333... $"
      ]
    },
    {
      "cell_type": "code",
      "metadata": {
        "id": "dMJ_XYvzE5Mz",
        "outputId": "f1d2e1c3-6500-4773-f86a-bffd5de25413",
        "colab": {
          "base_uri": "https://localhost:8080/",
          "height": 193
        }
      },
      "source": [
        "cardCounterESP410=[]\n",
        "succsessCounterESP410=[]\n",
        "j=0\n",
        "c = 0 \n",
        "scs = []\n",
        "cardCountESP410=0\n",
        "while j <= 10000000:\n",
        "  i = 19\n",
        "  nSdeck =  [2, 2, 2, 2, 1, 1, 1, 1, 10, 4]\n",
        "  hand = [7,7,5]\n",
        "  cardCountESP410=0\n",
        "  while i < 21:\n",
        "    rand = r.randrange(len(nSdeck)) \n",
        "    i += nSdeck[rand]\n",
        "    hand.append(nSdeck[rand])\n",
        "    nSdeck.remove(nSdeck[rand]) \n",
        "    cardCountESP410+=1\n",
        "    if i == 21:\n",
        "     c+=1\n",
        "     scs.append(len(hand))\n",
        "     cardCounterESP410.append(cardCountESP410)\n",
        "     succsessCounterESP410.append(c)\n",
        "  j+=1\n",
        "\n",
        "print(\"Cantidad de 21 obtenidos:\" ,c)\n",
        "print(\"Probabilidad de obtener 21 en 10'000.000 intentos\",c/j)\n",
        "print(\"Media de cartas necesarias para obtener 21:\",stts.mean(cardCounterESP410))\n",
        "dataESP410 = pd.DataFrame({'numero de cartas': cardCounterESP410, '21 Exitos': succsessCounterESP410})\n",
        "dataESP410.groupby('numero de cartas').count()"
      ],
      "execution_count": 18,
      "outputs": [
        {
          "output_type": "stream",
          "text": [
            "Cantidad de 21 obtenidos: 5333268\n",
            "Probabilidad de obtener 21 en 10'000.000 intentos 0.5333267466673254\n",
            "Media de cartas necesarias para obtener 21: 1.2499758122036995\n"
          ],
          "name": "stdout"
        },
        {
          "output_type": "execute_result",
          "data": {
            "text/html": [
              "<div>\n",
              "<style scoped>\n",
              "    .dataframe tbody tr th:only-of-type {\n",
              "        vertical-align: middle;\n",
              "    }\n",
              "\n",
              "    .dataframe tbody tr th {\n",
              "        vertical-align: top;\n",
              "    }\n",
              "\n",
              "    .dataframe thead th {\n",
              "        text-align: right;\n",
              "    }\n",
              "</style>\n",
              "<table border=\"1\" class=\"dataframe\">\n",
              "  <thead>\n",
              "    <tr style=\"text-align: right;\">\n",
              "      <th></th>\n",
              "      <th>21 Exitos</th>\n",
              "    </tr>\n",
              "    <tr>\n",
              "      <th>numero de cartas</th>\n",
              "      <th></th>\n",
              "    </tr>\n",
              "  </thead>\n",
              "  <tbody>\n",
              "    <tr>\n",
              "      <th>1</th>\n",
              "      <td>4000080</td>\n",
              "    </tr>\n",
              "    <tr>\n",
              "      <th>2</th>\n",
              "      <td>1333188</td>\n",
              "    </tr>\n",
              "  </tbody>\n",
              "</table>\n",
              "</div>"
            ],
            "text/plain": [
              "                  21 Exitos\n",
              "numero de cartas           \n",
              "1                   4000080\n",
              "2                   1333188"
            ]
          },
          "metadata": {
            "tags": []
          },
          "execution_count": 18
        }
      ]
    },
    {
      "cell_type": "code",
      "metadata": {
        "id": "PJYTEFOaGS0h",
        "outputId": "473967e3-934c-4387-bbd9-c0b100477801",
        "colab": {
          "base_uri": "https://localhost:8080/",
          "height": 888
        }
      },
      "source": [
        "dataESP410.groupby('numero de cartas').count().plot()\n",
        "dataESP410.groupby('numero de cartas').count().plot.bar()\n",
        "dataESP410.hist(bins=5)"
      ],
      "execution_count": 19,
      "outputs": [
        {
          "output_type": "execute_result",
          "data": {
            "text/plain": [
              "array([[<matplotlib.axes._subplots.AxesSubplot object at 0x7faa28963240>,\n",
              "        <matplotlib.axes._subplots.AxesSubplot object at 0x7faa288841d0>]],\n",
              "      dtype=object)"
            ]
          },
          "metadata": {
            "tags": []
          },
          "execution_count": 19
        },
        {
          "output_type": "display_data",
          "data": {
            "image/png": "[encoded data removed]",
            "text/plain": [
              "<Figure size 432x288 with 1 Axes>"
            ]
          },
          "metadata": {
            "tags": [],
            "needs_background": "light"
          }
        },
        {
          "output_type": "display_data",
          "data": {
            "image/png": "[encoded data removed]",
            "text/plain": [
              "<Figure size 432x288 with 1 Axes>"
            ]
          },
          "metadata": {
            "tags": [],
            "needs_background": "light"
          }
        },
        {
          "output_type": "display_data",
          "data": {
            "image/png": "[encoded data removed]",
            "text/plain": [
              "<Figure size 432x288 with 2 Axes>"
            ]
          },
          "metadata": {
            "tags": [],
            "needs_background": "light"
          }
        }
      ]
    },
    {
      "cell_type": "markdown",
      "metadata": {
        "id": "iluwuFiWu23M"
      },
      "source": [
        "#####Colddeck"
      ]
    },
    {
      "cell_type": "markdown",
      "metadata": {
        "id": "JMGxV1svFEFv"
      },
      "source": [
        "**Analytically:** For the cold deck used for the spanish deck, the probability of obtaining a 21 is based on the probability of drawing a card or combination of cards that add up to 21, in this particular deck we have:\n",
        "\n",
        "**Colddeck** = [5, 3, 1, 4, 1, 7, 8, 8, 5, 10]\n",
        "\n",
        "$S= \\textrm{Get a card that added whith the hand adds up to 21}$\n",
        "\n",
        "$D= \\textrm{Chance of getting a 2 on the hot deck}$\n",
        "\n",
        "$U= \\textrm{Probability of getting a 1 on the hot deck}$\n",
        "\n",
        "Then as there is only two 1's inside our cold deck the chances of obtaining a 21 are $P(S) =P(D)+P(U) \\ $ where $\\ P(U) = \\frac{x}{n} \\times \\frac{x-1}{n-1}\\times\\frac{x-2}{n-2} ...$ n is the ammount of cards remaining on the hotdeck and x represents the ammount of ones remaining\n",
        "\n",
        "$P(S) = 0 + ( \\frac{2}{10} \\times  \\frac{1}{9})  = 1/45 \\approx 0.022222... $\n"
      ]
    },
    {
      "cell_type": "code",
      "metadata": {
        "id": "cixC41bIF9Gq",
        "outputId": "255fdbff-c9bf-405e-9c3c-b4b56cc4ee70",
        "colab": {
          "base_uri": "https://localhost:8080/",
          "height": 162
        }
      },
      "source": [
        "cardCounterESP410B=[]\n",
        "succsessCounterESP410B=[]\n",
        "j = 0   \n",
        "c = 0 \n",
        "scs = []\n",
        "cardCountESP410B=0\n",
        "while j <= 10000000:\n",
        "  i = 19\n",
        "  nSdeck = [5, 3, 1, 4, 1, 7, 8, 8, 5, 10]\n",
        "  hand = [7,7,5]\n",
        "  cardCountESP410B=0\n",
        "  while i < 21:\n",
        "    rand = r.randrange(len(nSdeck)) \n",
        "    i += nSdeck[rand]\n",
        "    hand.append(nSdeck[rand])\n",
        "    nSdeck.remove(nSdeck[rand]) \n",
        "    cardCountESP410B+=1\n",
        "  if i == 21:\n",
        "    c +=1\n",
        "    scs.append(len(hand))\n",
        "    \n",
        "    cardCounterESP410B.append(cardCountESP410B)\n",
        "    succsessCounterESP410B.append(c)\n",
        "  j+=1\n",
        "\n",
        "print(\"Cantidad de 21 obtenidos:\" ,c)\n",
        "print(\"Probabilidad de obtener 21 en 10000 intentos\",c/j)\n",
        "print(\"Media de cartas necesaria para obtener 21:\",stts.mean(cardCounterESP410B))\n",
        "dataESP410B = pd.DataFrame({'numero de cartas': cardCounterESP410B, '21 Exitos': succsessCounterESP410B})\n",
        "dataESP410B.groupby('numero de cartas').count()\n"
      ],
      "execution_count": 20,
      "outputs": [
        {
          "output_type": "stream",
          "text": [
            "Cantidad de 21 obtenidos: 222361\n",
            "Probabilidad de obtener 21 en 10000 intentos 0.022236097776390223\n",
            "Media de cartas necesaria para obtener 21: 2\n"
          ],
          "name": "stdout"
        },
        {
          "output_type": "execute_result",
          "data": {
            "text/html": [
              "<div>\n",
              "<style scoped>\n",
              "    .dataframe tbody tr th:only-of-type {\n",
              "        vertical-align: middle;\n",
              "    }\n",
              "\n",
              "    .dataframe tbody tr th {\n",
              "        vertical-align: top;\n",
              "    }\n",
              "\n",
              "    .dataframe thead th {\n",
              "        text-align: right;\n",
              "    }\n",
              "</style>\n",
              "<table border=\"1\" class=\"dataframe\">\n",
              "  <thead>\n",
              "    <tr style=\"text-align: right;\">\n",
              "      <th></th>\n",
              "      <th>21 Exitos</th>\n",
              "    </tr>\n",
              "    <tr>\n",
              "      <th>numero de cartas</th>\n",
              "      <th></th>\n",
              "    </tr>\n",
              "  </thead>\n",
              "  <tbody>\n",
              "    <tr>\n",
              "      <th>2</th>\n",
              "      <td>222361</td>\n",
              "    </tr>\n",
              "  </tbody>\n",
              "</table>\n",
              "</div>"
            ],
            "text/plain": [
              "                  21 Exitos\n",
              "numero de cartas           \n",
              "2                    222361"
            ]
          },
          "metadata": {
            "tags": []
          },
          "execution_count": 20
        }
      ]
    },
    {
      "cell_type": "code",
      "metadata": {
        "id": "E6Qctx6_Jd0_",
        "outputId": "ba3a2ff3-6a6d-437a-9c32-4f66ba582bfc",
        "colab": {
          "base_uri": "https://localhost:8080/",
          "height": 591
        }
      },
      "source": [
        "\n",
        "dataESP410B.groupby('numero de cartas').count().plot.bar()\n",
        "dataESP410B.hist(bins=5)"
      ],
      "execution_count": 21,
      "outputs": [
        {
          "output_type": "execute_result",
          "data": {
            "text/plain": [
              "array([[<matplotlib.axes._subplots.AxesSubplot object at 0x7faa3fc70f60>,\n",
              "        <matplotlib.axes._subplots.AxesSubplot object at 0x7faa3c897ba8>]],\n",
              "      dtype=object)"
            ]
          },
          "metadata": {
            "tags": []
          },
          "execution_count": 21
        },
        {
          "output_type": "display_data",
          "data": {
            "image/png": "[encoded data removed]",
            "text/plain": [
              "<Figure size 432x288 with 1 Axes>"
            ]
          },
          "metadata": {
            "tags": [],
            "needs_background": "light"
          }
        },
        {
          "output_type": "display_data",
          "data": {
            "image/png": "[encoded data removed]",
            "text/plain": [
              "<Figure size 432x288 with 2 Axes>"
            ]
          },
          "metadata": {
            "tags": [],
            "needs_background": "light"
          }
        }
      ]
    },
    {
      "cell_type": "markdown",
      "metadata": {
        "id": "9g7JKnv0T-1M"
      },
      "source": [
        "### P5:\n",
        "\n",
        "Estimate the average amount of money (expected value) that Ben wins or losses on a weekend if Ben goes to Vegas every weekend (Friday, Saturday and Sunday), plays every weekend day 10 hours, each game takes 3 mins. \n",
        "\n",
        "* Assume that for each game he gets two possibilities, in one he gets in his hand the cards [7,7,5] and a remaining hot deck cards with which case he bets $\\$ $1000  this happens with probability 1/10; \n",
        "* In the other one he gets no cards in his hand a complete shuffled deck in which case he bets $\\$ $10 ,this happens with the remaining probability 9/10. \n",
        "\n",
        "Use 10000 Montecarlo simulations to estimated the expected amount of money that Ben wins or losses on a weekend for a Spanish 48-card deck with 3 10’s and for a Poker 52-card deck with 4 10’s."
      ]
    },
    {
      "cell_type": "markdown",
      "metadata": {
        "id": "wkAUNlTWwkWy"
      },
      "source": [
        "##### *Spanish 48-card deck card deck with 3 10’s*"
      ]
    },
    {
      "cell_type": "code",
      "metadata": {
        "id": "u6buGCFhVT2D",
        "outputId": "76e79966-a931-46de-b3fc-9533a3d1f8ba",
        "colab": {
          "base_uri": "https://localhost:8080/",
          "height": 227
        }
      },
      "source": [
        "cardCounterESP5H=[]\n",
        "succsessCounterESP5H=[]\n",
        "cardCountESP5H=0\n",
        "cardCounterESP5C=[]\n",
        "succsessCounterESP5C=[]\n",
        "cardCountESP5C=0\n",
        "\n",
        "jc ,cc,ch,jh ,games ,earned = 0,0,0,0,0,0\n",
        "scs_c,hand_c,scs_h,hand_h = [],[],[],[]\n",
        "\n",
        "while games <= 600:\n",
        "  if r.uniform(0,1) < 0.1:             \n",
        "    while jh <= 10000:\n",
        "      i = 19\n",
        "      nSdeck = [2, 2, 2, 2, 1, 1, 1, 1]\n",
        "      hand_h= [7,7,5]\n",
        "      bet = 1000\n",
        "      cardCountESP5H=0\n",
        "      while i < 21:\n",
        "        rand = r.randrange(len(nSdeck)) \n",
        "        i += nSdeck[rand]\n",
        "        hand_h.append(nSdeck[rand])\n",
        "        nSdeck.remove(nSdeck[rand])\n",
        "        cardCountESP5H+=1\n",
        "        if i == 21:\n",
        "          ch +=1\n",
        "          earned += 2*bet\n",
        "          scs_h.append(len(hand_h))\n",
        "          cardCounterESP5H.append(cardCountESP5H)\n",
        "          succsessCounterESP5H.append(ch)\n",
        "        earned -= bet\n",
        "        jh+=1    \n",
        "  else:                        \n",
        "    while jc <= 10000:\n",
        "      i = 0\n",
        "      nSdeck = [1,2,3,4,5,6,7,8,9,10,10,10,1,2,3,4,5,6,7,8,9,10,10,10,1,2,3,4,5,6,7,8,9,10,10,10,1,2,3,4,5,6,7,8,9,10,10,10]\n",
        "      hand_c= []\n",
        "      bet = 10\n",
        "      cardCountESP5C=0\n",
        "      while i < 21:\n",
        "        rand = r.randrange(len(nSdeck)) \n",
        "        i += nSdeck[rand]\n",
        "        hand_c.append(nSdeck[rand])\n",
        "        nSdeck.remove(nSdeck[rand])\n",
        "        cardCountESP5C+=1\n",
        "        if i == 21:\n",
        "          cc +=1\n",
        "          earned += 2*bet\n",
        "          scs_c.append(len(hand_c))\n",
        "          cardCounterESP5C.append(cardCountESP5C)\n",
        "          succsessCounterESP5C.append(cc)\n",
        "        earned -= bet\n",
        "        jc+=1\n",
        "  games +=1        \n",
        "\n",
        "print(\"Cantidad de 21 obtenidos(hot):\" ,ch)\n",
        "print(\"Probabilidad de obtener 21 en 10000 intentos\",ch/jh)\n",
        "\n",
        "print(\"Cantidad de 21 obtenidos(cold):\" ,cc)\n",
        "print(\"Probabilidad de obtener 21 en 10000 intentos\",cc/jc)\n",
        "\n",
        "print(\"Ganancias o perdidas de Ben\",earned)\n",
        "\n",
        "dataESP5H = pd.DataFrame({'numero de cartas HOT': cardCounterESP5H, '21 Exitos HOT': succsessCounterESP5H})\n",
        "dataESP5H.groupby('numero de cartas HOT').count()\n",
        "\n",
        "\n"
      ],
      "execution_count": 22,
      "outputs": [
        {
          "output_type": "stream",
          "text": [
            "Cantidad de 21 obtenidos(hot): 4693\n",
            "Probabilidad de obtener 21 en 10000 intentos 0.46920615876824634\n",
            "Cantidad de 21 obtenidos(cold): 385\n",
            "Probabilidad de obtener 21 en 10000 intentos 0.03848460615753699\n",
            "Ganancias o perdidas de Ben -708340\n"
          ],
          "name": "stdout"
        },
        {
          "output_type": "execute_result",
          "data": {
            "text/html": [
              "<div>\n",
              "<style scoped>\n",
              "    .dataframe tbody tr th:only-of-type {\n",
              "        vertical-align: middle;\n",
              "    }\n",
              "\n",
              "    .dataframe tbody tr th {\n",
              "        vertical-align: top;\n",
              "    }\n",
              "\n",
              "    .dataframe thead th {\n",
              "        text-align: right;\n",
              "    }\n",
              "</style>\n",
              "<table border=\"1\" class=\"dataframe\">\n",
              "  <thead>\n",
              "    <tr style=\"text-align: right;\">\n",
              "      <th></th>\n",
              "      <th>21 Exitos HOT</th>\n",
              "    </tr>\n",
              "    <tr>\n",
              "      <th>numero de cartas HOT</th>\n",
              "      <th></th>\n",
              "    </tr>\n",
              "  </thead>\n",
              "  <tbody>\n",
              "    <tr>\n",
              "      <th>1</th>\n",
              "      <td>3284</td>\n",
              "    </tr>\n",
              "    <tr>\n",
              "      <th>2</th>\n",
              "      <td>1409</td>\n",
              "    </tr>\n",
              "  </tbody>\n",
              "</table>\n",
              "</div>"
            ],
            "text/plain": [
              "                      21 Exitos HOT\n",
              "numero de cartas HOT               \n",
              "1                              3284\n",
              "2                              1409"
            ]
          },
          "metadata": {
            "tags": []
          },
          "execution_count": 22
        }
      ]
    },
    {
      "cell_type": "code",
      "metadata": {
        "id": "gK7s0gQyOEsh",
        "outputId": "d0ca6f0d-35b6-4ddb-c08a-af30b6d62272",
        "colab": {
          "base_uri": "https://localhost:8080/",
          "height": 857
        }
      },
      "source": [
        "dataESP5H.groupby('numero de cartas HOT').count().plot(ylim=(0,5000))\n",
        "dataESP5H.groupby('numero de cartas HOT').count().plot.bar()\n",
        "dataESP5H.hist(bins=5)\n"
      ],
      "execution_count": 23,
      "outputs": [
        {
          "output_type": "execute_result",
          "data": {
            "text/plain": [
              "array([[<matplotlib.axes._subplots.AxesSubplot object at 0x7faa3fa30c18>,\n",
              "        <matplotlib.axes._subplots.AxesSubplot object at 0x7faa2807f390>]],\n",
              "      dtype=object)"
            ]
          },
          "metadata": {
            "tags": []
          },
          "execution_count": 23
        },
        {
          "output_type": "display_data",
          "data": {
            "image/png": "[encoded data removed]",
            "text/plain": [
              "<Figure size 432x288 with 1 Axes>"
            ]
          },
          "metadata": {
            "tags": [],
            "needs_background": "light"
          }
        },
        {
          "output_type": "display_data",
          "data": {
            "image/png": "[encoded data removed]",
            "text/plain": [
              "<Figure size 432x288 with 1 Axes>"
            ]
          },
          "metadata": {
            "tags": [],
            "needs_background": "light"
          }
        },
        {
          "output_type": "display_data",
          "data": {
            "image/png": "[encoded data removed]",
            "text/plain": [
              "<Figure size 432x288 with 2 Axes>"
            ]
          },
          "metadata": {
            "tags": [],
            "needs_background": "light"
          }
        }
      ]
    },
    {
      "cell_type": "code",
      "metadata": {
        "id": "2sBHe973OgQf",
        "outputId": "7e0ac49c-87eb-4b0f-a755-c4a9df7ab932",
        "colab": {
          "base_uri": "https://localhost:8080/",
          "height": 235
        }
      },
      "source": [
        "dataESP5C = pd.DataFrame({'numero de cartas COLD': cardCounterESP5C, '21 Exitos COLD': succsessCounterESP5C})\n",
        "dataESP5C.groupby('numero de cartas COLD').count()"
      ],
      "execution_count": 24,
      "outputs": [
        {
          "output_type": "execute_result",
          "data": {
            "text/html": [
              "<div>\n",
              "<style scoped>\n",
              "    .dataframe tbody tr th:only-of-type {\n",
              "        vertical-align: middle;\n",
              "    }\n",
              "\n",
              "    .dataframe tbody tr th {\n",
              "        vertical-align: top;\n",
              "    }\n",
              "\n",
              "    .dataframe thead th {\n",
              "        text-align: right;\n",
              "    }\n",
              "</style>\n",
              "<table border=\"1\" class=\"dataframe\">\n",
              "  <thead>\n",
              "    <tr style=\"text-align: right;\">\n",
              "      <th></th>\n",
              "      <th>21 Exitos COLD</th>\n",
              "    </tr>\n",
              "    <tr>\n",
              "      <th>numero de cartas COLD</th>\n",
              "      <th></th>\n",
              "    </tr>\n",
              "  </thead>\n",
              "  <tbody>\n",
              "    <tr>\n",
              "      <th>3</th>\n",
              "      <td>201</td>\n",
              "    </tr>\n",
              "    <tr>\n",
              "      <th>4</th>\n",
              "      <td>124</td>\n",
              "    </tr>\n",
              "    <tr>\n",
              "      <th>5</th>\n",
              "      <td>45</td>\n",
              "    </tr>\n",
              "    <tr>\n",
              "      <th>6</th>\n",
              "      <td>12</td>\n",
              "    </tr>\n",
              "    <tr>\n",
              "      <th>7</th>\n",
              "      <td>3</td>\n",
              "    </tr>\n",
              "  </tbody>\n",
              "</table>\n",
              "</div>"
            ],
            "text/plain": [
              "                       21 Exitos COLD\n",
              "numero de cartas COLD                \n",
              "3                                 201\n",
              "4                                 124\n",
              "5                                  45\n",
              "6                                  12\n",
              "7                                   3"
            ]
          },
          "metadata": {
            "tags": []
          },
          "execution_count": 24
        }
      ]
    },
    {
      "cell_type": "code",
      "metadata": {
        "id": "467s5RI6OriZ",
        "outputId": "7c1e8260-76d0-4ef0-d422-38c8dd0e2988",
        "colab": {
          "base_uri": "https://localhost:8080/",
          "height": 853
        }
      },
      "source": [
        "dataESP5C.groupby('numero de cartas COLD').count().plot()\n",
        "dataESP5C.groupby('numero de cartas COLD').count().plot.bar()\n",
        "dataESP5C.hist(bins=5)"
      ],
      "execution_count": 25,
      "outputs": [
        {
          "output_type": "execute_result",
          "data": {
            "text/plain": [
              "array([[<matplotlib.axes._subplots.AxesSubplot object at 0x7faa1d2de7b8>,\n",
              "        <matplotlib.axes._subplots.AxesSubplot object at 0x7faa1d28bb70>]],\n",
              "      dtype=object)"
            ]
          },
          "metadata": {
            "tags": []
          },
          "execution_count": 25
        },
        {
          "output_type": "display_data",
          "data": {
            "image/png": "[encoded data removed]",
            "text/plain": [
              "<Figure size 432x288 with 1 Axes>"
            ]
          },
          "metadata": {
            "tags": [],
            "needs_background": "light"
          }
        },
        {
          "output_type": "display_data",
          "data": {
            "image/png": "[encoded data removed]",
            "text/plain": [
              "<Figure size 432x288 with 1 Axes>"
            ]
          },
          "metadata": {
            "tags": [],
            "needs_background": "light"
          }
        },
        {
          "output_type": "display_data",
          "data": {
            "image/png": "[encoded data removed]",
            "text/plain": [
              "<Figure size 432x288 with 2 Axes>"
            ]
          },
          "metadata": {
            "tags": [],
            "needs_background": "light"
          }
        }
      ]
    },
    {
      "cell_type": "markdown",
      "metadata": {
        "id": "ey64ovGmxPBv"
      },
      "source": [
        "##### *Poker 52-card deck with 4 10’s*"
      ]
    },
    {
      "cell_type": "code",
      "metadata": {
        "id": "Jj6nWASCxSef",
        "outputId": "8e05f1c6-9bd3-4969-97b9-74e4b0b1e8aa",
        "colab": {
          "base_uri": "https://localhost:8080/",
          "height": 227
        }
      },
      "source": [
        "\n",
        "cardCounterPOKH=[]\n",
        "succsessCounterPOKH=[]\n",
        "cardCountPOKH=0\n",
        "cardCounterPOKC=[]\n",
        "succsessCounterPOKC=[]\n",
        "cardCountPOKC=0\n",
        "\n",
        "\n",
        "jc ,cc,ch,jh ,games ,earned = 0,0,0,0,0,0\n",
        "scs_c,hand_c,scs_h,hand_h = [],[],[],[]\n",
        "\n",
        "while games <= 600:\n",
        "  if r.uniform(0,1) < 0.1:\n",
        "    while jh <= 10000:\n",
        "      i = 19\n",
        "      nSdeck = [2, 2, 2, 2, 1, 1, 1, 1]\n",
        "      hand_h= [7,7,5]\n",
        "      bet = 1000\n",
        "      cardCountPOKH=0\n",
        "      while i < 21:\n",
        "        rand = r.randrange(len(nSdeck)) \n",
        "        i += nSdeck[rand]\n",
        "        hand_h.append(nSdeck[rand])\n",
        "        nSdeck.remove(nSdeck[rand])\n",
        "        cardCountPOKH+=1\n",
        "        if i == 21:\n",
        "          ch +=1\n",
        "          earned += 2*bet\n",
        "          scs_h.append(len(hand_h))\n",
        "          cardCounterPOKH.append(cardCountPOKH)\n",
        "          succsessCounterPOKH.append(ch)\n",
        "        earned -= bet\n",
        "        jh+=1    \n",
        "  else:\n",
        "    while jc <= 10000:\n",
        "      i = 0\n",
        "      nSdeck = [1,2,3,4,5,6,7,8,9,10,10,10,10,1,2,3,4,5,6,7,8,9,10,10,10,10,1,2,3,4,5,6,7,8,9,10,10,10,10,1,2,3,4,5,6,7,8,9,10,10,10,10]\n",
        "      hand_c= []\n",
        "      bet = 10\n",
        "      cardCountPOKC=0\n",
        "      while i < 21:\n",
        "        rand = r.randrange(len(nSdeck)) \n",
        "        i += nSdeck[rand]\n",
        "        hand_c.append(nSdeck[rand])\n",
        "        nSdeck.remove(nSdeck[rand])\n",
        "        cardCountPOKC+=1\n",
        "        if i == 21:\n",
        "          cc +=1\n",
        "          earned += 2*bet\n",
        "          scs_c.append(len(hand_c))\n",
        "          cardCounterPOKC.append(cardCountPOKC)\n",
        "          succsessCounterPOKC.append(cc)\n",
        "        earned -= bet\n",
        "        jc+=1\n",
        "  games +=1        \n",
        "\n",
        "print(\"Cantidad de 21 obtenidos(hot):\" ,ch)\n",
        "print(\"Probabilidad de obtener 21 en 10000 intentos\",ch/jh)\n",
        "\n",
        "print(\"Cantidad de 21 obtenidos(cold):\" ,cc)\n",
        "print(\"Probabilidad de obtener 21 en 10000 intentos\",cc/jc)\n",
        "\n",
        "print(\"Ganancias o perdidas de Ben\",earned)\n",
        "\n",
        "dataPOKH = pd.DataFrame({'numero de cartas HOT': cardCounterPOKH, '21 Exitos HOT': succsessCounterPOKH})\n",
        "dataPOKH.groupby('numero de cartas HOT').count()"
      ],
      "execution_count": 26,
      "outputs": [
        {
          "output_type": "stream",
          "text": [
            "Cantidad de 21 obtenidos(hot): 4807\n",
            "Probabilidad de obtener 21 en 10000 intentos 0.48065193480651935\n",
            "Cantidad de 21 obtenidos(cold): 363\n",
            "Probabilidad de obtener 21 en 10000 intentos 0.03629274145170966\n",
            "Ganancias o perdidas de Ben -479760\n"
          ],
          "name": "stdout"
        },
        {
          "output_type": "execute_result",
          "data": {
            "text/html": [
              "<div>\n",
              "<style scoped>\n",
              "    .dataframe tbody tr th:only-of-type {\n",
              "        vertical-align: middle;\n",
              "    }\n",
              "\n",
              "    .dataframe tbody tr th {\n",
              "        vertical-align: top;\n",
              "    }\n",
              "\n",
              "    .dataframe thead th {\n",
              "        text-align: right;\n",
              "    }\n",
              "</style>\n",
              "<table border=\"1\" class=\"dataframe\">\n",
              "  <thead>\n",
              "    <tr style=\"text-align: right;\">\n",
              "      <th></th>\n",
              "      <th>21 Exitos HOT</th>\n",
              "    </tr>\n",
              "    <tr>\n",
              "      <th>numero de cartas HOT</th>\n",
              "      <th></th>\n",
              "    </tr>\n",
              "  </thead>\n",
              "  <tbody>\n",
              "    <tr>\n",
              "      <th>1</th>\n",
              "      <td>3359</td>\n",
              "    </tr>\n",
              "    <tr>\n",
              "      <th>2</th>\n",
              "      <td>1448</td>\n",
              "    </tr>\n",
              "  </tbody>\n",
              "</table>\n",
              "</div>"
            ],
            "text/plain": [
              "                      21 Exitos HOT\n",
              "numero de cartas HOT               \n",
              "1                              3359\n",
              "2                              1448"
            ]
          },
          "metadata": {
            "tags": []
          },
          "execution_count": 26
        }
      ]
    },
    {
      "cell_type": "code",
      "metadata": {
        "id": "syLeAkKKPrdb",
        "outputId": "1b7efc1f-5cd7-4ab7-9097-3585ebf21f30",
        "colab": {
          "base_uri": "https://localhost:8080/",
          "height": 859
        }
      },
      "source": [
        "dataPOKH.groupby('numero de cartas HOT').count().plot(ylim=(0,5000))\n",
        "dataPOKH.groupby('numero de cartas HOT').count().plot.bar()\n",
        "dataPOKH.hist(bins=5)"
      ],
      "execution_count": 27,
      "outputs": [
        {
          "output_type": "execute_result",
          "data": {
            "text/plain": [
              "array([[<matplotlib.axes._subplots.AxesSubplot object at 0x7faa1d0cf128>,\n",
              "        <matplotlib.axes._subplots.AxesSubplot object at 0x7faa1d07d0f0>]],\n",
              "      dtype=object)"
            ]
          },
          "metadata": {
            "tags": []
          },
          "execution_count": 27
        },
        {
          "output_type": "display_data",
          "data": {
            "image/png": "[encoded data removed]",
            "text/plain": [
              "<Figure size 432x288 with 1 Axes>"
            ]
          },
          "metadata": {
            "tags": [],
            "needs_background": "light"
          }
        },
        {
          "output_type": "display_data",
          "data": {
            "image/png": "[encoded data removed]",
            "text/plain": [
              "<Figure size 432x288 with 1 Axes>"
            ]
          },
          "metadata": {
            "tags": [],
            "needs_background": "light"
          }
        },
        {
          "output_type": "display_data",
          "data": {
            "image/png": "[encoded data removed]",
            "text/plain": [
              "<Figure size 432x288 with 2 Axes>"
            ]
          },
          "metadata": {
            "tags": [],
            "needs_background": "light"
          }
        }
      ]
    },
    {
      "cell_type": "code",
      "metadata": {
        "id": "i4_ax27xPyO4",
        "outputId": "21dbe9f4-3e36-4afd-a1e4-1a5a5ee2e694",
        "colab": {
          "base_uri": "https://localhost:8080/",
          "height": 235
        }
      },
      "source": [
        "dataPOKC = pd.DataFrame({'numero de cartas COLD': cardCounterPOKC, '21 Exitos COLD': succsessCounterPOKC})\n",
        "dataPOKC.groupby('numero de cartas COLD').count()"
      ],
      "execution_count": 28,
      "outputs": [
        {
          "output_type": "execute_result",
          "data": {
            "text/html": [
              "<div>\n",
              "<style scoped>\n",
              "    .dataframe tbody tr th:only-of-type {\n",
              "        vertical-align: middle;\n",
              "    }\n",
              "\n",
              "    .dataframe tbody tr th {\n",
              "        vertical-align: top;\n",
              "    }\n",
              "\n",
              "    .dataframe thead th {\n",
              "        text-align: right;\n",
              "    }\n",
              "</style>\n",
              "<table border=\"1\" class=\"dataframe\">\n",
              "  <thead>\n",
              "    <tr style=\"text-align: right;\">\n",
              "      <th></th>\n",
              "      <th>21 Exitos COLD</th>\n",
              "    </tr>\n",
              "    <tr>\n",
              "      <th>numero de cartas COLD</th>\n",
              "      <th></th>\n",
              "    </tr>\n",
              "  </thead>\n",
              "  <tbody>\n",
              "    <tr>\n",
              "      <th>3</th>\n",
              "      <td>211</td>\n",
              "    </tr>\n",
              "    <tr>\n",
              "      <th>4</th>\n",
              "      <td>118</td>\n",
              "    </tr>\n",
              "    <tr>\n",
              "      <th>5</th>\n",
              "      <td>28</td>\n",
              "    </tr>\n",
              "    <tr>\n",
              "      <th>6</th>\n",
              "      <td>2</td>\n",
              "    </tr>\n",
              "    <tr>\n",
              "      <th>7</th>\n",
              "      <td>4</td>\n",
              "    </tr>\n",
              "  </tbody>\n",
              "</table>\n",
              "</div>"
            ],
            "text/plain": [
              "                       21 Exitos COLD\n",
              "numero de cartas COLD                \n",
              "3                                 211\n",
              "4                                 118\n",
              "5                                  28\n",
              "6                                   2\n",
              "7                                   4"
            ]
          },
          "metadata": {
            "tags": []
          },
          "execution_count": 28
        }
      ]
    },
    {
      "cell_type": "code",
      "metadata": {
        "id": "NOlGDgfMP7E5",
        "outputId": "2a874ec0-f73c-408e-d028-9b3cbaa08556",
        "colab": {
          "base_uri": "https://localhost:8080/",
          "height": 853
        }
      },
      "source": [
        "dataPOKC.groupby('numero de cartas COLD').count().plot()\n",
        "dataPOKC.groupby('numero de cartas COLD').count().plot.bar()\n",
        "dataPOKC.hist(bins=5)"
      ],
      "execution_count": 29,
      "outputs": [
        {
          "output_type": "execute_result",
          "data": {
            "text/plain": [
              "array([[<matplotlib.axes._subplots.AxesSubplot object at 0x7faa1d16a160>,\n",
              "        <matplotlib.axes._subplots.AxesSubplot object at 0x7faa1d20fac8>]],\n",
              "      dtype=object)"
            ]
          },
          "metadata": {
            "tags": []
          },
          "execution_count": 29
        },
        {
          "output_type": "display_data",
          "data": {
            "image/png": "[encoded data removed]",
            "text/plain": [
              "<Figure size 432x288 with 1 Axes>"
            ]
          },
          "metadata": {
            "tags": [],
            "needs_background": "light"
          }
        },
        {
          "output_type": "display_data",
          "data": {
            "image/png": "[encoded data removed]",
            "text/plain": [
              "<Figure size 432x288 with 1 Axes>"
            ]
          },
          "metadata": {
            "tags": [],
            "needs_background": "light"
          }
        },
        {
          "output_type": "display_data",
          "data": {
            "image/png": "[encoded data removed]",
            "text/plain": [
              "<Figure size 432x288 with 2 Axes>"
            ]
          },
          "metadata": {
            "tags": [],
            "needs_background": "light"
          }
        }
      ]
    }
  ]
}