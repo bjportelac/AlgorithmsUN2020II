{
  "nbformat": 4,
  "nbformat_minor": 0,
  "metadata": {
    "colab": {
      "name": "GaleShapely.ipynb",
      "provenance": [],
      "collapsed_sections": [],
      "toc_visible": true
    },
    "kernelspec": {
      "name": "python3",
      "display_name": "Python 3"
    }
  },
  "cells": [
    {
      "cell_type": "markdown",
      "metadata": {
        "id": "2jPV3raxgAGq"
      },
      "source": [
        "# **Gale - Shapely - Irving Algortihm**\n",
        "\n",
        "\n",
        "\n",
        "*   **Nombre:** Brayan Portela Cabrera\n",
        "*   **Grupo:** 2\n",
        "\n"
      ]
    },
    {
      "cell_type": "markdown",
      "metadata": {
        "id": "4lxUwYJ37JAg"
      },
      "source": [
        "## Punto 1\n",
        "Find the best and worst cases for the Gale-Shapley and Irving ( An Efficient Algorithm for the “Stable Roommates” Problem) Algorithms and run in Colab these algorithms for those cases for n=4 and 40.\n",
        "\n",
        "* Gale–Shapley algorithm simply explained – towardsdatascience\n",
        "* Stable Marriage Problem\n"
      ]
    },
    {
      "cell_type": "markdown",
      "metadata": {
        "id": "oQUhQ1xDRXIE"
      },
      "source": [
        "### Gale–Shapley algorithm simply explained\n",
        "Towards Data Science implementation for n= 4 and n = 40."
      ]
    },
    {
      "cell_type": "markdown",
      "metadata": {
        "id": "p8TCFCIINF8_"
      },
      "source": [
        "#### **N=4**"
      ]
    },
    {
      "cell_type": "code",
      "metadata": {
        "id": "OJ93cFP8yT-6"
      },
      "source": [
        "import random as rd\n",
        "import pandas as pd\n",
        "import numpy as np\n",
        "from collections import Counter\n",
        "from copy import copy\n",
        "\n",
        "#listas de participantes para n = 4\n",
        "man_list = ['M1', 'M2', 'M3', 'M4']\n",
        "women_list = ['F1', 'F2', 'F3', 'F4']"
      ],
      "execution_count": 1,
      "outputs": []
    },
    {
      "cell_type": "code",
      "metadata": {
        "id": "-znfR1Id7xbZ"
      },
      "source": [
        "#Creamos una Base y una lista copia para solo necesitar modificar la base\n",
        "base = [1,2,3,4]\n",
        "copy = base[:]\n",
        "#rd.sample(copy,len(copy))"
      ],
      "execution_count": 2,
      "outputs": []
    },
    {
      "cell_type": "code",
      "metadata": {
        "colab": {
          "base_uri": "https://localhost:8080/",
          "height": 175
        },
        "id": "qhJENvIqKwFc",
        "outputId": "2e01fc5a-b406-487b-9365-2b88bce704d0"
      },
      "source": [
        "women_df = pd.DataFrame({'F1':[4,2,1,3],\n",
        "                         'F2':[3,2,1,4],\n",
        "                         'F3':[1,3,4,2],\n",
        "                         'F4':[4,3,1,2]})\n",
        "women_df.index = man_list\n",
        "women_df"
      ],
      "execution_count": 3,
      "outputs": [
        {
          "output_type": "execute_result",
          "data": {
            "text/html": [
              "<div>\n",
              "<style scoped>\n",
              "    .dataframe tbody tr th:only-of-type {\n",
              "        vertical-align: middle;\n",
              "    }\n",
              "\n",
              "    .dataframe tbody tr th {\n",
              "        vertical-align: top;\n",
              "    }\n",
              "\n",
              "    .dataframe thead th {\n",
              "        text-align: right;\n",
              "    }\n",
              "</style>\n",
              "<table border=\"1\" class=\"dataframe\">\n",
              "  <thead>\n",
              "    <tr style=\"text-align: right;\">\n",
              "      <th></th>\n",
              "      <th>F1</th>\n",
              "      <th>F2</th>\n",
              "      <th>F3</th>\n",
              "      <th>F4</th>\n",
              "    </tr>\n",
              "  </thead>\n",
              "  <tbody>\n",
              "    <tr>\n",
              "      <th>M1</th>\n",
              "      <td>4</td>\n",
              "      <td>3</td>\n",
              "      <td>1</td>\n",
              "      <td>4</td>\n",
              "    </tr>\n",
              "    <tr>\n",
              "      <th>M2</th>\n",
              "      <td>2</td>\n",
              "      <td>2</td>\n",
              "      <td>3</td>\n",
              "      <td>3</td>\n",
              "    </tr>\n",
              "    <tr>\n",
              "      <th>M3</th>\n",
              "      <td>1</td>\n",
              "      <td>1</td>\n",
              "      <td>4</td>\n",
              "      <td>1</td>\n",
              "    </tr>\n",
              "    <tr>\n",
              "      <th>M4</th>\n",
              "      <td>3</td>\n",
              "      <td>4</td>\n",
              "      <td>2</td>\n",
              "      <td>2</td>\n",
              "    </tr>\n",
              "  </tbody>\n",
              "</table>\n",
              "</div>"
            ],
            "text/plain": [
              "    F1  F2  F3  F4\n",
              "M1   4   3   1   4\n",
              "M2   2   2   3   3\n",
              "M3   1   1   4   1\n",
              "M4   3   4   2   2"
            ]
          },
          "metadata": {
            "tags": []
          },
          "execution_count": 3
        }
      ]
    },
    {
      "cell_type": "code",
      "metadata": {
        "colab": {
          "base_uri": "https://localhost:8080/",
          "height": 175
        },
        "id": "PhViUPPTK11k",
        "outputId": "009778c5-fdbd-4e8f-a235-b81a6346113c"
      },
      "source": [
        "man_df = pd.DataFrame({'F1':[2,4,3,1],\n",
        "                       'F2':[1,4,2,3],\n",
        "                       'F3':[3,4,1,2],\n",
        "                       'F4':[3,1,2,4]})\n",
        "man_df.index = man_list\n",
        "man_df"
      ],
      "execution_count": 4,
      "outputs": [
        {
          "output_type": "execute_result",
          "data": {
            "text/html": [
              "<div>\n",
              "<style scoped>\n",
              "    .dataframe tbody tr th:only-of-type {\n",
              "        vertical-align: middle;\n",
              "    }\n",
              "\n",
              "    .dataframe tbody tr th {\n",
              "        vertical-align: top;\n",
              "    }\n",
              "\n",
              "    .dataframe thead th {\n",
              "        text-align: right;\n",
              "    }\n",
              "</style>\n",
              "<table border=\"1\" class=\"dataframe\">\n",
              "  <thead>\n",
              "    <tr style=\"text-align: right;\">\n",
              "      <th></th>\n",
              "      <th>F1</th>\n",
              "      <th>F2</th>\n",
              "      <th>F3</th>\n",
              "      <th>F4</th>\n",
              "    </tr>\n",
              "  </thead>\n",
              "  <tbody>\n",
              "    <tr>\n",
              "      <th>M1</th>\n",
              "      <td>2</td>\n",
              "      <td>1</td>\n",
              "      <td>3</td>\n",
              "      <td>3</td>\n",
              "    </tr>\n",
              "    <tr>\n",
              "      <th>M2</th>\n",
              "      <td>4</td>\n",
              "      <td>4</td>\n",
              "      <td>4</td>\n",
              "      <td>1</td>\n",
              "    </tr>\n",
              "    <tr>\n",
              "      <th>M3</th>\n",
              "      <td>3</td>\n",
              "      <td>2</td>\n",
              "      <td>1</td>\n",
              "      <td>2</td>\n",
              "    </tr>\n",
              "    <tr>\n",
              "      <th>M4</th>\n",
              "      <td>1</td>\n",
              "      <td>3</td>\n",
              "      <td>2</td>\n",
              "      <td>4</td>\n",
              "    </tr>\n",
              "  </tbody>\n",
              "</table>\n",
              "</div>"
            ],
            "text/plain": [
              "    F1  F2  F3  F4\n",
              "M1   2   1   3   3\n",
              "M2   4   4   4   1\n",
              "M3   3   2   1   2\n",
              "M4   1   3   2   4"
            ]
          },
          "metadata": {
            "tags": []
          },
          "execution_count": 4
        }
      ]
    },
    {
      "cell_type": "code",
      "metadata": {
        "id": "X8CyilEapgzi",
        "colab": {
          "base_uri": "https://localhost:8080/"
        },
        "outputId": "c04cc49a-d93a-4f49-de68-1d19710f6d94"
      },
      "source": [
        "%time()\n",
        "%timeit()\n",
        "# dict to control which women each man can make proposals\n",
        "women_available = {man:women_list for man in man_list}\n",
        "# waiting list of men that were able to create pair on each iteration\n",
        "waiting_list = []\n",
        "# dict to store created pairs\n",
        "proposals = {}\n",
        "# variable to count number of iterations\n",
        "count = 0\n",
        "\n",
        "# while not all men have pairs\n",
        "while len(waiting_list)<len(man_list):\n",
        "    # man makes proposals\n",
        "    for man in man_list:\n",
        "        if man not in waiting_list:\n",
        "            # each man make proposal to the top women from it's list\n",
        "            women = women_available[man]\n",
        "            best_choice = man_df.loc[man][man_df.loc[man].index.isin(women)].idxmin()\n",
        "            proposals[(man, best_choice)]=(man_df.loc[man][best_choice],\n",
        "                                                 women_df.loc[man][best_choice])\n",
        "    # if women have more than one proposals \n",
        "    # she will choose the best option\n",
        "    overlays = Counter([key[1] for key in proposals.keys()])\n",
        "    # cycle to choose the best options\n",
        "    for women in overlays.keys():\n",
        "        if overlays[women]>1:\n",
        "            # pairs to drop from proposals\n",
        "            pairs_to_drop = sorted({pair: proposals[pair] for pair in proposals.keys() \n",
        "                    if women in pair}.items(), \n",
        "                   key=lambda x: x[1][1]\n",
        "                  )[1:]\n",
        "            # if man was rejected by woman\n",
        "            # there is no pint for him to make proposal \n",
        "            # second time to the same woman\n",
        "            for p_to_drop in pairs_to_drop:\n",
        "                del proposals[p_to_drop[0]]\n",
        "                _women = copy(women_available[p_to_drop[0][0]])\n",
        "                _women.remove(p_to_drop[0][1])\n",
        "                women_available[p_to_drop[0][0]] = _women\n",
        "    # man who successfully created pairs must be added to the waiting list \n",
        "    waiting_list = [man[0] for man in proposals.keys()]\n",
        "    # update counter\n",
        "    count+=1"
      ],
      "execution_count": 5,
      "outputs": [
        {
          "output_type": "stream",
          "text": [
            "CPU times: user 2 µs, sys: 0 ns, total: 2 µs\n",
            "Wall time: 5.25 µs\n",
            "100000000 loops, best of 3: 14 ns per loop\n"
          ],
          "name": "stdout"
        }
      ]
    },
    {
      "cell_type": "code",
      "metadata": {
        "colab": {
          "base_uri": "https://localhost:8080/"
        },
        "id": "Dbsv3PsQkCyQ",
        "outputId": "d10dd0ec-a496-4273-fa8c-35604740ddf4"
      },
      "source": [
        "count"
      ],
      "execution_count": 6,
      "outputs": [
        {
          "output_type": "execute_result",
          "data": {
            "text/plain": [
              "1"
            ]
          },
          "metadata": {
            "tags": []
          },
          "execution_count": 6
        }
      ]
    },
    {
      "cell_type": "code",
      "metadata": {
        "colab": {
          "base_uri": "https://localhost:8080/"
        },
        "id": "qPI2QcJrMBi6",
        "outputId": "05ccfdc7-0d1d-454d-92a6-2654e749e5da"
      },
      "source": [
        "proposals"
      ],
      "execution_count": 7,
      "outputs": [
        {
          "output_type": "execute_result",
          "data": {
            "text/plain": [
              "{('M1', 'F2'): (1, 3),\n",
              " ('M2', 'F4'): (1, 3),\n",
              " ('M3', 'F3'): (1, 4),\n",
              " ('M4', 'F1'): (1, 3)}"
            ]
          },
          "metadata": {
            "tags": []
          },
          "execution_count": 7
        }
      ]
    },
    {
      "cell_type": "markdown",
      "metadata": {
        "id": "WetKIE3bNLV7"
      },
      "source": [
        "#### **N=40**"
      ]
    },
    {
      "cell_type": "code",
      "metadata": {
        "id": "_vSUsbcxVfE0"
      },
      "source": [
        "base40 = [1,2,3,4,5,6,7,8,9,10,11,12,13,14,15,16,17,18,19,20,21,\n",
        "          22,23,24,25,26,27,28,29,30,31,32,33,34,35,36,37,38,39,40]  \n",
        "#copy40 = base40[:]\n",
        "\n",
        "man40_list = ['M1','M2','M3','M4','M5','M6','M7','M8','M9','M10','M11','M12','M13','M14','M15','M16','M17','M18','M19','M20','M21',\n",
        "            'M22','M23','M24','M25','M26','M27','M28','M29','M30','M31','M32','M33','M34','M35','M36','M37','M38','M39','M40']\n",
        "      \n",
        "women40_list = ['F1','F2','F3','F4','F5','F6','F7','F8','F9','F10','F11','F12','F13','F14','F15','F16','F17','F18','F19','F20','F21',\n",
        "            'F22','F23','F24','F25','F26','F27','F28','F29','F30','F31','F32','F33','F34','F35','F36','F37','F38','F39','F40']\n",
        "\n",
        "male_dict = {'F1': [29, 5, 14, 28, 15, 12, 21, 6, 4, 20, 22, 31, 32, 17, 1, 19, 35, 25, 7, 3, 36, 16, 23, 18, 9, 10, 13, 26, 2, 34, 37, 39, 11, 30, 38, 27, 8, 33, 24, 40],\n",
        " 'F2': [39, 14, 30, 12, 36, 31, 33, 16, 20, 22, 38, 7, 35, 9, 15, 25, 6, 5, 40, 23, 34, 10, 1, 13, 4, 26, 17, 8, 19, 27, 37, 32, 21, 2, 11, 3, 24, 18, 28, 29],\n",
        " 'F3': [5, 27, 1, 39, 36, 32, 24, 22, 14, 26, 7, 19, 8, 10, 34, 20, 9, 11, 30, 17, 16, 15, 2, 21, 25, 3, 38, 4, 13, 35, 28, 37, 40, 33, 18, 31, 12, 29, 6, 23],\n",
        " 'F4': [38, 26, 19, 35, 7, 11, 4, 20, 14, 22, 30, 36, 34, 21, 13, 1, 2, 8, 10, 33, 6, 18, 40, 15, 31, 25, 17, 24, 16, 9, 37, 23, 3, 39, 12, 29, 32, 27, 28, 5],\n",
        " 'F5': [23, 26, 17, 6, 14, 9, 1, 19, 20, 22, 32, 8, 34, 38, 15, 18, 13, 28, 40, 25, 21, 7, 27, 5, 4, 11, 2, 37, 35, 31, 33, 16, 3, 30, 29, 10, 39, 24, 12, 36],\n",
        " 'F6': [27, 19, 37, 7, 26, 9, 40, 6, 39, 12, 34, 24, 28, 16, 4, 2, 32, 15, 31, 38, 33, 8, 36, 25, 21, 23, 1, 10, 14, 20, 29, 5, 3, 17, 30, 22, 35, 18, 11, 13],\n",
        " 'F7': [16, 3, 10, 30, 36, 26, 22, 31, 35, 39, 21, 34, 38, 2, 27, 11, 33, 15, 28, 8, 5, 37, 13, 1, 40, 25, 6, 19, 9, 4, 18, 23, 12, 29, 7, 20, 17, 14, 32, 24],\n",
        " 'F8': [18, 21, 40, 28, 10, 8, 19, 31, 26, 5, 29, 25, 11, 35, 36, 30, 22, 15, 39, 3, 13, 2, 33, 9, 32, 34, 24, 20, 12, 6, 23, 1, 16, 7, 14, 37, 38, 4, 17, 27],\n",
        " 'F9': [17, 32, 5, 7, 14, 40, 28, 11, 13, 6, 34, 25, 20, 38, 19, 26, 35, 10, 18, 24, 3, 8, 21, 30, 4, 31, 37, 16, 33, 36, 12, 9, 1, 27, 23, 22, 2, 39, 29, 15],\n",
        " 'F10': [25, 3, 29, 16, 40, 39, 8, 11, 17, 35, 14, 27, 15, 12, 18, 9, 13, 37, 38, 28, 30, 23, 19, 26, 5, 33, 4, 1, 2, 10, 20, 22, 36, 6, 24, 32, 21, 7, 34, 31],\n",
        " 'F11': [33, 27, 4, 8, 22, 14, 32, 39, 19, 1, 11, 13, 25, 18, 21, 5, 17, 2, 20, 37, 36, 23, 31, 38, 28, 29, 10, 16, 3, 15, 34, 9, 35, 24, 30, 40, 6, 7, 26, 12],\n",
        " 'F12': [22, 14, 30, 6, 21, 8, 10, 24, 33, 34, 28, 25, 13, 38, 15, 12, 32, 7, 27, 11, 3, 36, 29, 16, 40, 2, 31, 23, 1, 35, 37, 4, 17, 39, 9, 26, 20, 19, 5, 18],\n",
        " 'F13': [35, 1, 6, 38, 7, 37, 31, 29, 15, 34, 12, 33, 22, 2, 27, 5, 3, 21, 20, 28, 9, 32, 4, 8, 13, 17, 23, 39, 26, 11, 24, 16, 40, 25, 14, 30, 19, 18, 36, 10],\n",
        " 'F14': [28, 33, 9, 27, 21, 6, 13, 7, 3, 35, 32, 12, 14, 26, 23, 31, 22, 39, 18, 5, 16, 36, 2, 11, 29, 8, 1, 38, 40, 15, 37, 17, 34, 10, 19, 24, 25, 30, 4, 20],\n",
        " 'F15': [30, 26, 8, 27, 21, 20, 2, 22, 40, 10, 19, 17, 37, 31, 34, 3, 4, 1, 5, 9, 38, 35, 32, 25, 12, 6, 28, 7, 24, 23, 18, 16, 36, 13, 33, 39, 14, 29, 11, 15],\n",
        " 'F16': [16, 13, 34, 11, 22, 8, 5, 32, 37, 12, 14, 15, 38, 29, 20, 2, 6, 31, 19, 7, 4, 30, 26, 35, 17, 33, 40, 27, 1, 18, 21, 9, 23, 39, 24, 10, 3, 25, 36, 28],\n",
        " 'F17': [21, 28, 30, 31, 34, 20, 19, 27, 25, 6, 39, 13, 1, 32, 3, 24, 15, 7, 26, 22, 5, 18, 23, 35, 17, 9, 40, 8, 4, 38, 14, 29, 37, 11, 10, 16, 36, 2, 12, 33],\n",
        " 'F18': [38, 37, 33, 15, 8, 9, 13, 17, 39, 24, 25, 36, 10, 32, 3, 20, 12, 23, 22, 11, 29, 34, 40, 5, 14, 28, 1, 27, 30, 18, 31, 4, 7, 16, 2, 19, 26, 21, 6, 35],\n",
        " 'F19': [37, 18, 22, 1, 25, 2, 30, 39, 36, 14, 17, 11, 15, 29, 35, 31, 10, 27, 7, 12, 34, 40, 13, 5, 33, 9, 8, 4, 23, 28, 32, 20, 16, 24, 6, 19, 26, 38, 21, 3],\n",
        " 'F20': [31, 39, 3, 6, 40, 33, 9, 8, 16, 38, 25, 30, 19, 22, 29, 37, 35, 23, 26, 5, 4, 13, 28, 24, 7, 27, 15, 10, 11, 2, 12, 1, 34, 14, 17, 20, 21, 36, 32, 18],\n",
        " 'F21': [3, 20, 19, 8, 4, 18, 11, 12, 25, 27, 1, 31, 40, 9, 29, 14, 7, 13, 10, 6, 34, 23, 22, 30, 37, 2, 5, 35, 28, 15, 17, 38, 21, 32, 16, 36, 39, 33, 26, 24],\n",
        " 'F22': [31, 38, 21, 24, 11, 8, 16, 35, 33, 23, 7, 29, 6, 18, 1, 26, 14, 22, 34, 37, 19, 2, 4, 30, 40, 12, 36, 10, 25, 32, 13, 9, 27, 39, 17, 5, 20, 28, 15, 3],\n",
        " 'F23': [33, 13, 5, 1, 24, 6, 32, 11, 19, 12, 20, 16, 8, 26, 34, 23, 17, 31, 25, 39, 35, 7, 3, 37, 2, 14, 9, 27, 28, 40, 10, 36, 22, 21, 18, 38, 29, 15, 4, 30],\n",
        " 'F24': [11, 3, 13, 12, 21, 18, 36, 20, 5, 40, 4, 7, 9, 39, 17, 14, 37, 33, 2, 26, 27, 25, 29, 35, 16, 15, 38, 19, 8, 6, 22, 10, 23, 32, 30, 31, 1, 34, 24, 28],\n",
        " 'F25': [14, 8, 21, 24, 31, 25, 2, 36, 11, 17, 4, 38, 1, 19, 33, 34, 10, 5, 20, 37, 9, 40, 23, 22, 30, 15, 13, 32, 27, 16, 6, 35, 3, 39, 12, 28, 18, 29, 7, 26],\n",
        " 'F26': [20, 38, 29, 18, 25, 39, 17, 8, 15, 30, 28, 22, 27, 2, 12, 21, 37, 6, 4, 33, 5, 36, 1, 3, 35, 9, 10, 14, 19, 11, 16, 40, 24, 32, 31, 7, 26, 13, 23, 34],\n",
        " 'F27': [28, 1, 29, 21, 18, 9, 4, 13, 31, 8, 5, 25, 30, 36, 2, 34, 11, 39, 17, 15, 19, 12, 40, 38, 7, 27, 33, 37, 35, 22, 14, 23, 32, 10, 16, 3, 26, 6, 20, 24],\n",
        " 'F28': [12, 4, 34, 33, 1, 39, 16, 37, 11, 20, 6, 10, 27, 36, 22, 35, 38, 25, 32, 26, 18, 28, 31, 21, 9, 8, 17, 7, 3, 29, 19, 15, 23, 30, 40, 5, 13, 2, 24, 14],\n",
        " 'F29': [4, 38, 19, 33, 26, 22, 10, 21, 36, 28, 17, 20, 24, 5, 15, 14, 39, 2, 37, 30, 12, 25, 6, 27, 40, 31, 8, 11, 3, 9, 1, 7, 35, 29, 13, 34, 18, 23, 16, 32],\n",
        " 'F30': [14, 40, 10, 1, 39, 7, 18, 37, 6, 13, 2, 24, 9, 4, 26, 12, 15, 36, 29, 25, 8, 23, 30, 34, 5, 21, 17, 31, 16, 32, 33, 20, 22, 28, 11, 27, 3, 19, 35, 38],\n",
        " 'F31': [40, 26, 4, 5, 31, 37, 2, 20, 39, 38, 10, 6, 11, 17, 18, 8, 19, 23, 35, 32, 14, 34, 28, 3, 16, 33, 12, 22, 24, 36, 30, 1, 21, 13, 15, 29, 9, 25, 7, 27],\n",
        " 'F32': [29, 1, 31, 7, 40, 23, 17, 4, 15, 30, 21, 33, 16, 24, 2, 39, 38, 32, 26, 34, 14, 22, 37, 27, 13, 3, 25, 28, 36, 8, 18, 35, 20, 10, 9, 12, 5, 6, 19, 11],\n",
        " 'F33': [7, 17, 4, 12, 11, 33, 30, 28, 32, 18, 10, 20, 13, 36, 2, 25, 31, 8, 21, 9, 19, 14, 22, 37, 16, 40, 27, 6, 35, 1, 5, 26, 34, 24, 3, 38, 39, 15, 29, 23],\n",
        " 'F34': [20, 4, 11, 39, 27, 10, 8, 13, 7, 28, 22, 2, 3, 23, 30, 38, 1, 33, 24, 26, 14, 17, 12, 35, 36, 15, 6, 25, 9, 21, 29, 37, 34, 19, 31, 16, 18, 5, 40, 32],\n",
        " 'F35': [28, 4, 3, 23, 21, 6, 17, 5, 37, 22, 25, 29, 1, 7, 27, 16, 35, 33, 12, 10, 13, 19, 36, 40, 18, 11, 38, 2, 20, 8, 39, 9, 24, 26, 30, 31, 34, 32, 14, 15],\n",
        " 'F36': [1, 4, 3, 13, 18, 25, 24, 20, 39, 23, 5, 6, 35, 15, 16, 19, 27, 28, 30, 26, 11, 36, 34, 8, 38, 2, 37, 12, 29, 14, 10, 31, 9, 33, 22, 32, 17, 7, 40, 21],\n",
        " 'F37': [8, 34, 32, 24, 2, 27, 14, 12, 25, 1, 15, 35, 9, 18, 19, 23, 31, 16, 36, 7, 40, 21, 30, 22, 5, 37, 4, 28, 20, 39, 29, 6, 38, 13, 10, 11, 33, 26, 3, 17],\n",
        " 'F38': [38, 31, 10, 28, 13, 40, 7, 17, 32, 22, 25, 5, 20, 24, 37, 34, 35, 23, 39, 14, 27, 36, 4, 2, 18, 26, 9, 16, 19, 1, 12, 15, 33, 30, 3, 6, 21, 11, 8, 29],\n",
        " 'F39': [5, 1, 18, 12, 39, 20, 38, 23, 33, 34, 35, 36, 14, 40, 8, 16, 17, 22, 32, 11, 28, 27, 10, 24, 30, 9, 13, 31, 25, 15, 2, 7, 3, 21, 19, 6, 29, 4, 37, 26],\n",
        " 'F40': [12, 27, 20, 37, 18, 13, 16, 15, 31, 5, 32, 38, 14, 36, 2, 3, 21, 24, 6, 11, 30, 9, 25, 35, 17, 22, 8, 29, 28, 23, 7, 10, 33, 34, 1, 4, 40, 19, 39, 26]}\n",
        "\n",
        "female_dict = {'F1': [19, 35, 32, 34, 5, 31, 2, 3, 4, 21, 20, 22, 7, 37, 33, 23, 38, 30, 1, 17, 11, 29, 27, 13, 16, 14, 8, 28, 10, 36, 24, 15, 25, 26, 18, 39, 40, 12, 9, 6],\n",
        " 'F2': [18, 40, 23, 13, 5, 4, 29, 39, 8, 28, 27, 36, 12, 17, 10, 1, 33, 2, 37, 16, 15, 22, 7, 24, 11, 35, 19, 3, 38, 31, 20, 21, 32, 14, 26, 34, 25, 9, 30, 6],\n",
        " 'F3': [18, 31, 10, 39, 8, 36, 16, 40, 29, 4, 32, 26, 13, 20, 17, 5, 9, 6, 11, 3, 14, 25, 23, 27, 19, 33, 1, 2, 7, 28, 34, 24, 38, 35, 12, 21, 37, 30, 22, 15],\n",
        " 'F4': [26, 22, 16, 40, 2, 7, 28, 37, 10, 11, 9, 13, 12, 4, 32, 1, 24, 29, 19, 8, 15, 23, 18, 39, 35, 25, 38, 36, 31, 5, 34, 17, 6, 3, 27, 20, 33, 21, 30, 14],\n",
        " 'F5': [8, 35, 37, 24, 32, 4, 27, 30, 7, 20, 1, 23, 12, 3, 13, 11, 17, 10, 14, 5, 38, 40, 21, 31, 25, 39, 16, 26, 22, 18, 29, 34, 28, 15, 19, 36, 33, 2, 9, 6],\n",
        " 'F6': [36, 4, 3, 26, 6, 14, 38, 7, 19, 15, 40, 25, 22, 23, 10, 30, 2, 8, 13, 1, 27, 33, 5, 18, 16, 9, 32, 21, 29, 11, 24, 12, 39, 31, 35, 17, 20, 28, 37, 34],\n",
        " 'F7': [30, 16, 35, 20, 1, 14, 11, 15, 19, 36, 25, 39, 9, 37, 31, 7, 24, 40, 32, 3, 10, 4, 8, 29, 26, 27, 23, 33, 6, 18, 5, 17, 2, 22, 12, 34, 13, 28, 38, 21],\n",
        " 'F8': [11, 2, 6, 20, 16, 15, 37, 10, 3, 19, 36, 14, 4, 23, 28, 5, 31, 9, 25, 21, 39, 33, 22, 32, 13, 1, 18, 7, 35, 29, 27, 34, 30, 17, 8, 26, 40, 38, 24, 12],\n",
        " 'F9': [10, 26, 9, 32, 40, 2, 3, 28, 24, 25, 23, 8, 15, 27, 21, 17, 14, 35, 29, 5, 38, 4, 20, 36, 18, 33, 30, 11, 39, 6, 31, 12, 34, 22, 16, 37, 19, 1, 7, 13],\n",
        " 'F10': [26, 15, 21, 14, 28, 22, 37, 34, 31, 24, 7, 19, 20, 27, 36, 40, 25, 30, 10, 17, 32, 39, 13, 29, 11, 35, 2, 8, 1, 9, 18, 23, 38, 3, 6, 33, 12, 5, 16, 4],\n",
        " 'F11': [5, 37, 24, 21, 20, 7, 39, 35, 15, 8, 13, 30, 23, 32, 3, 4, 6, 34, 10, 40, 29, 26, 16, 28, 1, 2, 38, 19, 25, 31, 17, 36, 14, 22, 18, 11, 27, 12, 9, 33],\n",
        " 'F12': [5, 35, 8, 15, 1, 27, 33, 14, 4, 9, 21, 11, 20, 40, 18, 34, 3, 30, 22, 13, 25, 7, 31, 23, 6, 16, 32, 10, 24, 37, 17, 36, 29, 28, 26, 39, 38, 12, 19, 2],\n",
        " 'F13': [12, 3, 16, 5, 9, 35, 7, 19, 34, 23, 37, 21, 8, 15, 22, 14, 31, 27, 1, 39, 10, 13, 26, 24, 20, 30, 40, 33, 32, 17, 11, 18, 4, 2, 29, 28, 6, 36, 25, 38],\n",
        " 'F14': [39, 6, 35, 11, 18, 4, 28, 21, 31, 17, 32, 15, 36, 9, 3, 27, 2, 12, 14, 29, 20, 34, 5, 26, 16, 40, 37, 19, 25, 23, 22, 24, 1, 10, 13, 33, 8, 30, 38, 7],\n",
        " 'F15': [12, 7, 11, 4, 38, 33, 28, 25, 32, 20, 26, 40, 39, 29, 10, 2, 36, 6, 27, 8, 5, 1, 3, 19, 22, 35, 24, 18, 37, 34, 15, 9, 30, 23, 31, 14, 21, 17, 16, 13],\n",
        " 'F16': [29, 6, 10, 26, 25, 7, 27, 9, 12, 3, 34, 20, 24, 35, 40, 8, 33, 1, 19, 31, 32, 21, 30, 38, 22, 28, 4, 14, 23, 18, 39, 17, 15, 37, 11, 16, 2, 36, 13, 5],\n",
        " 'F17': [26, 6, 8, 30, 21, 3, 24, 37, 12, 4, 5, 17, 33, 22, 36, 15, 9, 28, 29, 39, 7, 34, 35, 38, 2, 19, 10, 14, 18, 20, 32, 1, 31, 25, 23, 16, 27, 11, 13, 40],\n",
        " 'F18': [25, 18, 3, 14, 23, 28, 7, 4, 2, 27, 24, 13, 19, 35, 17, 5, 30, 32, 1, 37, 29, 20, 21, 8, 39, 10, 26, 16, 15, 34, 6, 11, 33, 12, 31, 40, 22, 9, 36, 38],\n",
        " 'F19': [32, 2, 14, 16, 17, 15, 10, 22, 23, 6, 12, 5, 7, 25, 26, 20, 3, 11, 8, 39, 21, 29, 27, 33, 1, 13, 18, 4, 35, 30, 9, 38, 19, 34, 40, 36, 31, 28, 24, 37],\n",
        " 'F20': [5, 34, 16, 37, 3, 18, 8, 10, 11, 14, 7, 2, 6, 24, 15, 40, 31, 36, 4, 26, 27, 12, 28, 19, 29, 1, 20, 35, 13, 23, 17, 30, 39, 21, 33, 38, 32, 9, 22, 25],\n",
        " 'F21': [39, 25, 38, 37, 18, 15, 30, 3, 34, 14, 21, 20, 11, 23, 31, 7, 10, 35, 33, 32, 17, 1, 12, 13, 29, 4, 36, 19, 40, 9, 16, 6, 27, 2, 8, 24, 5, 28, 26, 22],\n",
        " 'F22': [36, 13, 7, 8, 22, 39, 15, 27, 29, 31, 10, 24, 2, 32, 28, 25, 9, 35, 17, 5, 21, 4, 40, 34, 30, 11, 20, 3, 37, 6, 38, 19, 12, 14, 1, 18, 16, 33, 23, 26],\n",
        " 'F23': [1, 26, 4, 33, 3, 30, 10, 2, 8, 31, 23, 6, 38, 39, 32, 28, 17, 12, 19, 34, 35, 5, 7, 15, 25, 27, 18, 16, 14, 9, 36, 24, 20, 13, 40, 11, 21, 22, 29, 37],\n",
        " 'F24': [36, 30, 27, 5, 38, 24, 3, 34, 8, 10, 23, 14, 39, 31, 7, 21, 15, 20, 29, 22, 2, 35, 1, 17, 12, 25, 33, 6, 16, 19, 11, 9, 40, 4, 18, 28, 37, 32, 13, 26],\n",
        " 'F25': [5, 14, 4, 31, 17, 18, 3, 32, 1, 6, 9, 27, 38, 40, 19, 13, 37, 15, 29, 10, 12, 39, 20, 25, 34, 21, 33, 23, 28, 26, 24, 2, 22, 7, 8, 36, 16, 30, 11, 35],\n",
        " 'F26': [40, 20, 1, 27, 12, 13, 14, 26, 7, 16, 5, 30, 3, 21, 25, 6, 32, 2, 17, 8, 38, 34, 35, 36, 37, 10, 22, 29, 15, 18, 4, 33, 23, 31, 24, 19, 28, 9, 11, 39],\n",
        " 'F27': [34, 29, 8, 28, 27, 6, 37, 35, 18, 36, 40, 3, 2, 24, 15, 9, 31, 20, 11, 7, 17, 30, 19, 22, 25, 16, 14, 26, 21, 33, 12, 13, 23, 5, 39, 4, 1, 38, 32, 10],\n",
        " 'F28': [2, 30, 16, 37, 9, 35, 6, 32, 7, 34, 8, 25, 15, 1, 38, 33, 13, 29, 14, 31, 21, 36, 24, 39, 26, 23, 17, 27, 10, 3, 4, 22, 18, 28, 19, 5, 20, 40, 11, 12],\n",
        " 'F29': [6, 39, 26, 31, 4, 37, 14, 15, 2, 32, 40, 21, 8, 20, 10, 16, 3, 29, 36, 27, 22, 23, 25, 9, 30, 24, 5, 17, 18, 13, 34, 1, 33, 35, 28, 11, 12, 19, 38, 7],\n",
        " 'F30': [11, 20, 25, 28, 10, 9, 15, 17, 38, 40, 7, 18, 8, 3, 12, 39, 34, 29, 30, 4, 35, 2, 31, 5, 22, 16, 36, 6, 26, 33, 14, 21, 24, 19, 23, 27, 37, 13, 1, 32],\n",
        " 'F31': [34, 8, 16, 40, 12, 2, 37, 11, 10, 35, 15, 26, 31, 13, 21, 30, 19, 39, 1, 25, 36, 14, 5, 18, 33, 3, 22, 17, 38, 32, 29, 9, 6, 23, 20, 27, 7, 28, 4, 24],\n",
        " 'F32': [8, 24, 7, 33, 12, 27, 30, 16, 37, 5, 34, 15, 29, 11, 18, 35, 9, 22, 32, 6, 38, 40, 28, 23, 2, 3, 19, 20, 36, 17, 31, 14, 21, 26, 39, 1, 4, 13, 25, 10],\n",
        " 'F33': [36, 15, 10, 12, 1, 3, 32, 2, 4, 37, 39, 34, 16, 40, 21, 17, 9, 27, 22, 20, 23, 28, 31, 33, 35, 18, 7, 25, 30, 5, 6, 14, 38, 13, 29, 11, 8, 26, 24, 19],\n",
        " 'F34': [27, 24, 10, 11, 26, 18, 33, 34, 35, 40, 25, 1, 29, 36, 23, 5, 37, 38, 22, 13, 14, 9, 2, 28, 31, 12, 20, 17, 3, 7, 6, 8, 15, 4, 21, 16, 30, 19, 39, 32],\n",
        " 'F35': [33, 20, 15, 4, 39, 25, 18, 8, 23, 29, 17, 13, 26, 40, 27, 24, 35, 14, 28, 11, 12, 10, 5, 7, 6, 1, 30, 16, 37, 2, 9, 3, 32, 22, 21, 38, 36, 34, 31, 19],\n",
        " 'F36': [5, 6, 12, 25, 28, 13, 17, 35, 8, 33, 9, 21, 16, 39, 38, 14, 26, 31, 23, 30, 24, 27, 11, 10, 20, 3, 18, 4, 22, 34, 29, 36, 37, 2, 32, 1, 7, 40, 15, 19],\n",
        " 'F37': [11, 26, 4, 14, 16, 28, 29, 18, 36, 35, 25, 15, 8, 12, 31, 27, 23, 40, 30, 7, 17, 19, 5, 3, 21, 20, 38, 10, 39, 34, 6, 1, 32, 13, 9, 24, 33, 22, 37, 2],\n",
        " 'F38': [7, 34, 1, 23, 40, 10, 37, 4, 8, 29, 17, 25, 6, 9, 13, 36, 26, 22, 28, 15, 19, 33, 5, 38, 11, 32, 20, 3, 39, 14, 18, 16, 21, 35, 12, 30, 24, 31, 2, 27],\n",
        " 'F39': [38, 3, 7, 22, 8, 32, 15, 20, 4, 26, 34, 2, 9, 14, 37, 40, 10, 25, 33, 24, 17, 11, 35, 31, 23, 6, 21, 27, 18, 19, 36, 28, 5, 16, 12, 30, 39, 29, 1, 13],\n",
        " 'F40': [28, 40, 29, 10, 19, 11, 13, 1, 3, 21, 20, 7, 23, 22, 25, 9, 30, 16, 17, 38, 26, 6, 39, 18, 27, 35, 12, 37, 24, 15, 2, 4, 32, 34, 5, 14, 31, 36, 8, 33]}\n",
        "\n",
        "#Filling list with permutations\n",
        "#male_per = [] \n",
        "#female_per = []\n",
        "#for m in range(40):\n",
        "#    male_per.append(rd.sample(copy40,len(copy40)))\n",
        "#    female_per.append(rd.sample(copy40,len(copy40)))\n",
        "\n",
        "#filing dicts with the generated preferences \n",
        "#for f in women_list:\n",
        "#  for p in female_per:\n",
        "#    female_dict = dict(zip(women_list,female_per))\n",
        "\n",
        "\n"
      ],
      "execution_count": 8,
      "outputs": []
    },
    {
      "cell_type": "code",
      "metadata": {
        "id": "Mst5_06aWGTo"
      },
      "source": [
        "women40_df = pd.DataFrame(female_dict)\n",
        "women40_df.index = man40_list"
      ],
      "execution_count": 9,
      "outputs": []
    },
    {
      "cell_type": "code",
      "metadata": {
        "id": "tzdEp1EQkb8S"
      },
      "source": [
        "man40_df = pd.DataFrame(male_dict)\n",
        "man40_df.index = man40_list"
      ],
      "execution_count": 10,
      "outputs": []
    },
    {
      "cell_type": "code",
      "metadata": {
        "id": "7FqPUxAsk2sO",
        "colab": {
          "base_uri": "https://localhost:8080/",
          "height": 301
        },
        "outputId": "df204c0e-6180-4069-c405-5dfed47be1ab"
      },
      "source": [
        "%time()\n",
        "%timeit()\n",
        "# dict to control which women each man can make proposals\n",
        "women_available40 = {man:women40_list for man in man40_list}\n",
        "# waiting list of men that were able to create pair on each iteration\n",
        "waiting40_list = []\n",
        "# dict to store created pairs\n",
        "proposals40 = {}\n",
        "# variable to count number of iterations\n",
        "count = 0\n",
        "\n",
        "# while not all men have pairs\n",
        "while len(waiting40_list)<len(man40_list):\n",
        "    # man makes proposals40\n",
        "    for man in man40_list:\n",
        "        if man not in waiting40_list:\n",
        "            # each man make proposal to the top women40 from it's list\n",
        "            women40 = women_available40[man]\n",
        "            best40_choice = man40_df.loc[man][man40_df.loc[man].index.isin(women40)].idxmin()\n",
        "            proposals40[(man, best40_choice)]=(man40_df.loc[man][best40_choice],\n",
        "                                                 women40_df.loc[man][best40_choice])\n",
        "    # if women40 have more than one proposals40 \n",
        "    # she will choose the best option\n",
        "    overlays = Counter([key[1] for key in proposals40.keys()])\n",
        "    # cycle to choose the best options\n",
        "    for women40 in overlays.keys():\n",
        "        if overlays[women40]>1:\n",
        "            # pairs to drop from proposals40\n",
        "            pairs_to_drop = sorted({pair: proposals40[pair] for pair in proposals40.keys() \n",
        "                    if women40 in pair}.items(), \n",
        "                   key=lambda x: x[1][1]\n",
        "                  )[1:]\n",
        "            # if man was rejected by woman\n",
        "            # there is no pint for him to make proposal \n",
        "            # second time to the same woman\n",
        "            for p_to_drop in pairs_to_drop:\n",
        "                del proposals40[p_to_drop[0]]\n",
        "                _women40 = copy(women_available40[p_to_drop[0][0]])\n",
        "                _women40.remove(p_to_drop[0][1])\n",
        "                women_available40[p_to_drop[0][0]] = _women40\n",
        "    # man who successfully created pairs must be added to the waiting list \n",
        "    waiting40_list = [man[0] for man in proposals40.keys()]\n",
        "    # update count40er\n",
        "    count+=1"
      ],
      "execution_count": 11,
      "outputs": [
        {
          "output_type": "stream",
          "text": [
            "CPU times: user 3 µs, sys: 0 ns, total: 3 µs\n",
            "Wall time: 5.25 µs\n",
            "100000000 loops, best of 3: 14 ns per loop\n"
          ],
          "name": "stdout"
        },
        {
          "output_type": "error",
          "ename": "TypeError",
          "evalue": "ignored",
          "traceback": [
            "\u001b[0;31m---------------------------------------------------------------------------\u001b[0m",
            "\u001b[0;31mTypeError\u001b[0m                                 Traceback (most recent call last)",
            "\u001b[0;32m<ipython-input-11-0657ad778038>\u001b[0m in \u001b[0;36m<module>\u001b[0;34m()\u001b[0m\n\u001b[1;32m     36\u001b[0m             \u001b[0;32mfor\u001b[0m \u001b[0mp_to_drop\u001b[0m \u001b[0;32min\u001b[0m \u001b[0mpairs_to_drop\u001b[0m\u001b[0;34m:\u001b[0m\u001b[0;34m\u001b[0m\u001b[0;34m\u001b[0m\u001b[0m\n\u001b[1;32m     37\u001b[0m                 \u001b[0;32mdel\u001b[0m \u001b[0mproposals40\u001b[0m\u001b[0;34m[\u001b[0m\u001b[0mp_to_drop\u001b[0m\u001b[0;34m[\u001b[0m\u001b[0;36m0\u001b[0m\u001b[0;34m]\u001b[0m\u001b[0;34m]\u001b[0m\u001b[0;34m\u001b[0m\u001b[0;34m\u001b[0m\u001b[0m\n\u001b[0;32m---> 38\u001b[0;31m                 \u001b[0m_women40\u001b[0m \u001b[0;34m=\u001b[0m \u001b[0mcopy\u001b[0m\u001b[0;34m(\u001b[0m\u001b[0mwomen_available40\u001b[0m\u001b[0;34m[\u001b[0m\u001b[0mp_to_drop\u001b[0m\u001b[0;34m[\u001b[0m\u001b[0;36m0\u001b[0m\u001b[0;34m]\u001b[0m\u001b[0;34m[\u001b[0m\u001b[0;36m0\u001b[0m\u001b[0;34m]\u001b[0m\u001b[0;34m]\u001b[0m\u001b[0;34m)\u001b[0m\u001b[0;34m\u001b[0m\u001b[0;34m\u001b[0m\u001b[0m\n\u001b[0m\u001b[1;32m     39\u001b[0m                 \u001b[0m_women40\u001b[0m\u001b[0;34m.\u001b[0m\u001b[0mremove\u001b[0m\u001b[0;34m(\u001b[0m\u001b[0mp_to_drop\u001b[0m\u001b[0;34m[\u001b[0m\u001b[0;36m0\u001b[0m\u001b[0;34m]\u001b[0m\u001b[0;34m[\u001b[0m\u001b[0;36m1\u001b[0m\u001b[0;34m]\u001b[0m\u001b[0;34m)\u001b[0m\u001b[0;34m\u001b[0m\u001b[0;34m\u001b[0m\u001b[0m\n\u001b[1;32m     40\u001b[0m                 \u001b[0mwomen_available40\u001b[0m\u001b[0;34m[\u001b[0m\u001b[0mp_to_drop\u001b[0m\u001b[0;34m[\u001b[0m\u001b[0;36m0\u001b[0m\u001b[0;34m]\u001b[0m\u001b[0;34m[\u001b[0m\u001b[0;36m0\u001b[0m\u001b[0;34m]\u001b[0m\u001b[0;34m]\u001b[0m \u001b[0;34m=\u001b[0m \u001b[0m_women40\u001b[0m\u001b[0;34m\u001b[0m\u001b[0;34m\u001b[0m\u001b[0m\n",
            "\u001b[0;31mTypeError\u001b[0m: 'list' object is not callable"
          ]
        }
      ]
    },
    {
      "cell_type": "code",
      "metadata": {
        "colab": {
          "base_uri": "https://localhost:8080/"
        },
        "id": "I6EghjppkP6G",
        "outputId": "acb9716f-ed9f-4436-ac48-57996dcbff44"
      },
      "source": [
        "count"
      ],
      "execution_count": 12,
      "outputs": [
        {
          "output_type": "execute_result",
          "data": {
            "text/plain": [
              "0"
            ]
          },
          "metadata": {
            "tags": []
          },
          "execution_count": 12
        }
      ]
    },
    {
      "cell_type": "code",
      "metadata": {
        "colab": {
          "base_uri": "https://localhost:8080/"
        },
        "id": "BBkuc9b4k5ss",
        "outputId": "a369ed57-cc66-4bf0-f775-e95da5d9e486"
      },
      "source": [
        "proposals40"
      ],
      "execution_count": 13,
      "outputs": [
        {
          "output_type": "execute_result",
          "data": {
            "text/plain": [
              "{('M1', 'F36'): (1, 5),\n",
              " ('M10', 'F11'): (1, 8),\n",
              " ('M11', 'F21'): (1, 21),\n",
              " ('M12', 'F34'): (2, 1),\n",
              " ('M13', 'F17'): (1, 33),\n",
              " ('M14', 'F7'): (2, 37),\n",
              " ('M15', 'F1'): (1, 33),\n",
              " ('M16', 'F4'): (1, 1),\n",
              " ('M17', 'F34'): (1, 37),\n",
              " ('M18', 'F15'): (1, 6),\n",
              " ('M19', 'F24'): (2, 29),\n",
              " ('M2', 'F13'): (1, 3),\n",
              " ('M20', 'F1'): (3, 17),\n",
              " ('M21', 'F9'): (3, 38),\n",
              " ('M22', 'F8'): (2, 33),\n",
              " ('M23', 'F2'): (1, 7),\n",
              " ('M24', 'F7'): (1, 29),\n",
              " ('M25', 'F23'): (2, 25),\n",
              " ('M26', 'F12'): (2, 16),\n",
              " ('M27', 'F6'): (1, 32),\n",
              " ('M28', 'F10'): (1, 8),\n",
              " ('M29', 'F12'): (1, 24),\n",
              " ('M3', 'F3'): (1, 10),\n",
              " ('M30', 'F33'): (1, 5),\n",
              " ('M31', 'F29'): (1, 34),\n",
              " ('M32', 'F8'): (1, 34),\n",
              " ('M33', 'F9'): (1, 34),\n",
              " ('M34', 'F2'): (2, 14),\n",
              " ('M35', 'F40'): (1, 5),\n",
              " ('M36', 'F2'): (3, 34),\n",
              " ('M37', 'F24'): (1, 37),\n",
              " ('M38', 'F17'): (2, 11),\n",
              " ('M39', 'F37'): (3, 37),\n",
              " ('M40', 'F19'): (3, 37),\n",
              " ('M5', 'F28'): (1, 9),\n",
              " ('M6', 'F19'): (2, 15),\n",
              " ('M7', 'F5'): (1, 27),\n",
              " ('M8', 'F32'): (4, 16),\n",
              " ('M9', 'F14'): (3, 31)}"
            ]
          },
          "metadata": {
            "tags": []
          },
          "execution_count": 13
        }
      ]
    },
    {
      "cell_type": "markdown",
      "metadata": {
        "id": "HXsOp3cf3tSk"
      },
      "source": [
        "### Stable Marriage Problem: \n",
        "**Geeks for Geeks version:** Input & Output: Input is a 2D matrix of size (2*N)*N where N is number of women or men. Rows from 0 to N-1 represent preference lists of men and rows from N to 2*N – 1 represent preference lists of women. So men are numbered from 0 to N-1 and women are numbered from N to 2*N – 1. The output is list of married pairs."
      ]
    },
    {
      "cell_type": "markdown",
      "metadata": {
        "id": "HmqZOBjRN2Tb"
      },
      "source": [
        "#### **N=4**"
      ]
    },
    {
      "cell_type": "code",
      "metadata": {
        "colab": {
          "base_uri": "https://localhost:8080/"
        },
        "id": "rN2WB6t16Dfe",
        "outputId": "7027ed35-3f2b-47d4-a0ce-1076e4485e39"
      },
      "source": [
        "%time()\n",
        "%timeit()\n",
        "# Python3 program for stable marriage problem \n",
        "  \n",
        "# Number of Men or Women \n",
        "N = 4\n",
        "  \n",
        "# This function returns true if  \n",
        "# woman 'w' prefers man 'm1' over man 'm' \n",
        "def wPrefersM1OverM(prefer, w, m, m1): \n",
        "      \n",
        "    # Check if w prefers m over her  \n",
        "    # current engagment m1 \n",
        "    for i in range(N): \n",
        "          \n",
        "        # If m1 comes before m in lisr of w,  \n",
        "        # then w prefers her current engagement, \n",
        "        # don't do anything \n",
        "        if (prefer[w][i] == m1): \n",
        "            return True\n",
        "  \n",
        "        # If m cmes before m1 in w's list,  \n",
        "        # then free her current engagement  \n",
        "        # and engage her with m \n",
        "        if (prefer[w][i] == m): \n",
        "            return False\n",
        "  \n",
        "# Prints stable matching for N boys and N girls.  \n",
        "# Boys are numbered as 0 to N-1.  \n",
        "# Girls are numbereed as N to 2N-1. \n",
        "def stableMarriage(prefer): \n",
        "      \n",
        "    # Stores partner of women. This is our output  \n",
        "    # array that stores paing information.  \n",
        "    # The value of wPartner[i] indicates the partner  \n",
        "    # assigned to woman N+i. Note that the woman numbers  \n",
        "    # between N and 2*N-1. The value -1 indicates  \n",
        "    # that (N+i)'th woman is free \n",
        "    wPartner = [-1 for i in range(N)] \n",
        "  \n",
        "    # An array to store availability of men.  \n",
        "    # If mFree[i] is false, then man 'i' is free, \n",
        "    # otherwise engaged. \n",
        "    mFree = [False for i in range(N)] \n",
        "  \n",
        "    freeCount = N \n",
        "  \n",
        "    # While there are free men \n",
        "    while (freeCount > 0): \n",
        "          \n",
        "        # Pick the first free man (we could pick any) \n",
        "        m = 0\n",
        "        while (m < N): \n",
        "            if (mFree[m] == False): \n",
        "                break\n",
        "            m += 1\n",
        "  \n",
        "        # One by one go to all women according to  \n",
        "        # m's preferences. Here m is the picked free man \n",
        "        i = 0\n",
        "        while i < N and mFree[m] == False: \n",
        "            w = prefer[m][i] \n",
        "  \n",
        "            # The woman of preference is free,  \n",
        "            # w and m become partners (Note that  \n",
        "            # the partnership maybe changed later).  \n",
        "            # So we can say they are engaged not married \n",
        "            if (wPartner[w - N] == -1): \n",
        "                wPartner[w - N] = m \n",
        "                mFree[m] = True\n",
        "                freeCount -= 1\n",
        "  \n",
        "            else:  \n",
        "                  \n",
        "                # If w is not free \n",
        "                # Find current engagement of w \n",
        "                m1 = wPartner[w - N] \n",
        "  \n",
        "                # If w prefers m over her current engagement m1, \n",
        "                # then break the engagement between w and m1 and \n",
        "                # engage m with w. \n",
        "                if (wPrefersM1OverM(prefer, w, m, m1) == False): \n",
        "                    wPartner[w - N] = m \n",
        "                    mFree[m] = True\n",
        "                    mFree[m1] = False\n",
        "            i += 1\n",
        "  \n",
        "            # End of Else \n",
        "        # End of the for loop that goes  \n",
        "        # to all women in m's list \n",
        "    # End of main while loop \n",
        "  \n",
        "    # Prthe solution \n",
        "    print(\"Woman \", \" Man\") \n",
        "    for i in range(N): \n",
        "        print(i + N, \"\\t\", wPartner[i]) \n",
        "  \n",
        "# Driver Code \n",
        "prefer = [[2,4,3,1],[1,4,2,3],[3,4,1,2],[3,1,2,4],\n",
        "          [4,2,1,3],[3,2,1,4],[3,2,1,4],[4,3,1,2]] \n",
        "  \n",
        "\n"
      ],
      "execution_count": 14,
      "outputs": [
        {
          "output_type": "stream",
          "text": [
            "CPU times: user 3 µs, sys: 0 ns, total: 3 µs\n",
            "Wall time: 5.48 µs\n",
            "100000000 loops, best of 3: 14 ns per loop\n"
          ],
          "name": "stdout"
        }
      ]
    },
    {
      "cell_type": "code",
      "metadata": {
        "colab": {
          "base_uri": "https://localhost:8080/"
        },
        "id": "2x0at8_s99cB",
        "outputId": "a301f215-28d9-4e31-c3c0-b2a4aee75508"
      },
      "source": [
        "stableMarriage(prefer) "
      ],
      "execution_count": 15,
      "outputs": [
        {
          "output_type": "stream",
          "text": [
            "Woman   Man\n",
            "4 \t 2\n",
            "5 \t 1\n",
            "6 \t 0\n",
            "7 \t 3\n"
          ],
          "name": "stdout"
        }
      ]
    },
    {
      "cell_type": "markdown",
      "metadata": {
        "id": "3GKX--1-N87Q"
      },
      "source": [
        "#### **N=40**"
      ]
    },
    {
      "cell_type": "code",
      "metadata": {
        "colab": {
          "base_uri": "https://localhost:8080/"
        },
        "id": "E58U7HzaCPai",
        "outputId": "64184c86-9b93-47a4-e3e5-e96f9e218564"
      },
      "source": [
        "%time()\n",
        "%timeit()\n",
        "# Python3 program for stable marriage problem \n",
        "  \n",
        "# Number of Men or Women \n",
        "N = 40\n",
        "  \n",
        "# This function returns true if  \n",
        "# woman 'w' prefers man 'm1' over man 'm' \n",
        "def wPrefersM1OverM(prefer, w, m, m1): \n",
        "      \n",
        "    # Check if w prefers m over her  \n",
        "    # current engagment m1 \n",
        "    for i in range(N): \n",
        "          \n",
        "        # If m1 comes before m in lisr of w,  \n",
        "        # then w prefers her current engagement, \n",
        "        # don't do anything \n",
        "        if (prefer[w][i] == m1): \n",
        "            return True\n",
        "  \n",
        "        # If m cmes before m1 in w's list,  \n",
        "        # then free her current engagement  \n",
        "        # and engage her with m \n",
        "        if (prefer[w][i] == m): \n",
        "            return False\n",
        "  \n",
        "# Prints stable matching for N boys and N girls.  \n",
        "# Boys are numbered as 0 to N-1.  \n",
        "# Girls are numbereed as N to 2N-1. \n",
        "def stableMarriage(prefer): \n",
        "      \n",
        "    # Stores partner of women. This is our output  \n",
        "    # array that stores paing information.  \n",
        "    # The value of wPartner[i] indicates the partner  \n",
        "    # assigned to woman N+i. Note that the woman numbers  \n",
        "    # between N and 2*N-1. The value -1 indicates  \n",
        "    # that (N+i)'th woman is free \n",
        "    wPartner = [-1 for i in range(N)] \n",
        "  \n",
        "    # An array to store availability of men.  \n",
        "    # If mFree[i] is false, then man 'i' is free, \n",
        "    # otherwise engaged. \n",
        "    mFree = [False for i in range(N)] \n",
        "  \n",
        "    freeCount = N \n",
        "  \n",
        "    # While there are free men \n",
        "    while (freeCount > 0): \n",
        "          \n",
        "        # Pick the first free man (we could pick any) \n",
        "        m = 0\n",
        "        while (m < N): \n",
        "            if (mFree[m] == False): \n",
        "                break\n",
        "            m += 1\n",
        "  \n",
        "        # One by one go to all women according to  \n",
        "        # m's preferences. Here m is the picked free man \n",
        "        i = 0\n",
        "        while i < N and mFree[m] == False: \n",
        "            w = prefer[m][i] \n",
        "  \n",
        "            # The woman of preference is free,  \n",
        "            # w and m become partners (Note that  \n",
        "            # the partnership maybe changed later).  \n",
        "            # So we can say they are engaged not married \n",
        "            if (wPartner[w - N] == -1): \n",
        "                wPartner[w - N] = m \n",
        "                mFree[m] = True\n",
        "                freeCount -= 1\n",
        "  \n",
        "            else:  \n",
        "                  \n",
        "                # If w is not free \n",
        "                # Find current engagement of w \n",
        "                m1 = wPartner[w - N] \n",
        "  \n",
        "                # If w prefers m over her current engagement m1, \n",
        "                # then break the engagement between w and m1 and \n",
        "                # engage m with w. \n",
        "                if (wPrefersM1OverM(prefer, w, m, m1) == False): \n",
        "                    wPartner[w - N] = m \n",
        "                    mFree[m] = True\n",
        "                    mFree[m1] = False\n",
        "            i += 1\n",
        "  \n",
        "            # End of Else \n",
        "        # End of the for loop that goes  \n",
        "        # to all women in m's list \n",
        "    # End of main while loop \n",
        "  \n",
        "    # Prthe solution \n",
        "    print(\"Woman \", \" Man\") \n",
        "    for i in range(N): \n",
        "        print(i + N, \"\\t\", wPartner[i]) \n",
        "\n",
        "# Driver Code \n",
        "\n",
        "prefer = [[29, 5, 14, 28, 15, 12, 21, 6, 4, 20, 22, 31, 32, 17, 1, 19, 35, 25, 7, 3, 36, 16, 23, 18, 9, 10, 13, 26, 2, 34, 37, 39, 11, 30, 38, 27, 8, 33, 24, 40],\n",
        " [39, 14, 30, 12, 36, 31, 33, 16, 20, 22, 38, 7, 35, 9, 15, 25, 6, 5, 40, 23, 34, 10, 1, 13, 4, 26, 17, 8, 19, 27, 37, 32, 21, 2, 11, 3, 24, 18, 28, 29],\n",
        " [5, 27, 1, 39, 36, 32, 24, 22, 14, 26, 7, 19, 8, 10, 34, 20, 9, 11, 30, 17, 16, 15, 2, 21, 25, 3, 38, 4, 13, 35, 28, 37, 40, 33, 18, 31, 12, 29, 6, 23],\n",
        " [38, 26, 19, 35, 7, 11, 4, 20, 14, 22, 30, 36, 34, 21, 13, 1, 2, 8, 10, 33, 6, 18, 40, 15, 31, 25, 17, 24, 16, 9, 37, 23, 3, 39, 12, 29, 32, 27, 28, 5],\n",
        " [23, 26, 17, 6, 14, 9, 1, 19, 20, 22, 32, 8, 34, 38, 15, 18, 13, 28, 40, 25, 21, 7, 27, 5, 4, 11, 2, 37, 35, 31, 33, 16, 3, 30, 29, 10, 39, 24, 12, 36],\n",
        " [27, 19, 37, 7, 26, 9, 40, 6, 39, 12, 34, 24, 28, 16, 4, 2, 32, 15, 31, 38, 33, 8, 36, 25, 21, 23, 1, 10, 14, 20, 29, 5, 3, 17, 30, 22, 35, 18, 11, 13],\n",
        " [16, 3, 10, 30, 36, 26, 22, 31, 35, 39, 21, 34, 38, 2, 27, 11, 33, 15, 28, 8, 5, 37, 13, 1, 40, 25, 6, 19, 9, 4, 18, 23, 12, 29, 7, 20, 17, 14, 32, 24],\n",
        " [18, 21, 40, 28, 10, 8, 19, 31, 26, 5, 29, 25, 11, 35, 36, 30, 22, 15, 39, 3, 13, 2, 33, 9, 32, 34, 24, 20, 12, 6, 23, 1, 16, 7, 14, 37, 38, 4, 17, 27],\n",
        " [17, 32, 5, 7, 14, 40, 28, 11, 13, 6, 34, 25, 20, 38, 19, 26, 35, 10, 18, 24, 3, 8, 21, 30, 4, 31, 37, 16, 33, 36, 12, 9, 1, 27, 23, 22, 2, 39, 29, 15],\n",
        " [25, 3, 29, 16, 40, 39, 8, 11, 17, 35, 14, 27, 15, 12, 18, 9, 13, 37, 38, 28, 30, 23, 19, 26, 5, 33, 4, 1, 2, 10, 20, 22, 36, 6, 24, 32, 21, 7, 34, 31],\n",
        " [33, 27, 4, 8, 22, 14, 32, 39, 19, 1, 11, 13, 25, 18, 21, 5, 17, 2, 20, 37, 36, 23, 31, 38, 28, 29, 10, 16, 3, 15, 34, 9, 35, 24, 30, 40, 6, 7, 26, 12],\n",
        " [22, 14, 30, 6, 21, 8, 10, 24, 33, 34, 28, 25, 13, 38, 15, 12, 32, 7, 27, 11, 3, 36, 29, 16, 40, 2, 31, 23, 1, 35, 37, 4, 17, 39, 9, 26, 20, 19, 5, 18],\n",
        " [35, 1, 6, 38, 7, 37, 31, 29, 15, 34, 12, 33, 22, 2, 27, 5, 3, 21, 20, 28, 9, 32, 4, 8, 13, 17, 23, 39, 26, 11, 24, 16, 40, 25, 14, 30, 19, 18, 36, 10],\n",
        " [28, 33, 9, 27, 21, 6, 13, 7, 3, 35, 32, 12, 14, 26, 23, 31, 22, 39, 18, 5, 16, 36, 2, 11, 29, 8, 1, 38, 40, 15, 37, 17, 34, 10, 19, 24, 25, 30, 4, 20],\n",
        " [30, 26, 8, 27, 21, 20, 2, 22, 40, 10, 19, 17, 37, 31, 34, 3, 4, 1, 5, 9, 38, 35, 32, 25, 12, 6, 28, 7, 24, 23, 18, 16, 36, 13, 33, 39, 14, 29, 11, 15],\n",
        " [16, 13, 34, 11, 22, 8, 5, 32, 37, 12, 14, 15, 38, 29, 20, 2, 6, 31, 19, 7, 4, 30, 26, 35, 17, 33, 40, 27, 1, 18, 21, 9, 23, 39, 24, 10, 3, 25, 36, 28],\n",
        " [21, 28, 30, 31, 34, 20, 19, 27, 25, 6, 39, 13, 1, 32, 3, 24, 15, 7, 26, 22, 5, 18, 23, 35, 17, 9, 40, 8, 4, 38, 14, 29, 37, 11, 10, 16, 36, 2, 12, 33],\n",
        " [38, 37, 33, 15, 8, 9, 13, 17, 39, 24, 25, 36, 10, 32, 3, 20, 12, 23, 22, 11, 29, 34, 40, 5, 14, 28, 1, 27, 30, 18, 31, 4, 7, 16, 2, 19, 26, 21, 6, 35],\n",
        " [37, 18, 22, 1, 25, 2, 30, 39, 36, 14, 17, 11, 15, 29, 35, 31, 10, 27, 7, 12, 34, 40, 13, 5, 33, 9, 8, 4, 23, 28, 32, 20, 16, 24, 6, 19, 26, 38, 21, 3],\n",
        " [31, 39, 3, 6, 40, 33, 9, 8, 16, 38, 25, 30, 19, 22, 29, 37, 35, 23, 26, 5, 4, 13, 28, 24, 7, 27, 15, 10, 11, 2, 12, 1, 34, 14, 17, 20, 21, 36, 32, 18],\n",
        " [3, 20, 19, 8, 4, 18, 11, 12, 25, 27, 1, 31, 40, 9, 29, 14, 7, 13, 10, 6, 34, 23, 22, 30, 37, 2, 5, 35, 28, 15, 17, 38, 21, 32, 16, 36, 39, 33, 26, 24],\n",
        " [31, 38, 21, 24, 11, 8, 16, 35, 33, 23, 7, 29, 6, 18, 1, 26, 14, 22, 34, 37, 19, 2, 4, 30, 40, 12, 36, 10, 25, 32, 13, 9, 27, 39, 17, 5, 20, 28, 15, 3],\n",
        " [33, 13, 5, 1, 24, 6, 32, 11, 19, 12, 20, 16, 8, 26, 34, 23, 17, 31, 25, 39, 35, 7, 3, 37, 2, 14, 9, 27, 28, 40, 10, 36, 22, 21, 18, 38, 29, 15, 4, 30],\n",
        " [11, 3, 13, 12, 21, 18, 36, 20, 5, 40, 4, 7, 9, 39, 17, 14, 37, 33, 2, 26, 27, 25, 29, 35, 16, 15, 38, 19, 8, 6, 22, 10, 23, 32, 30, 31, 1, 34, 24, 28],\n",
        " [14, 8, 21, 24, 31, 25, 2, 36, 11, 17, 4, 38, 1, 19, 33, 34, 10, 5, 20, 37, 9, 40, 23, 22, 30, 15, 13, 32, 27, 16, 6, 35, 3, 39, 12, 28, 18, 29, 7, 26],\n",
        " [20, 38, 29, 18, 25, 39, 17, 8, 15, 30, 28, 22, 27, 2, 12, 21, 37, 6, 4, 33, 5, 36, 1, 3, 35, 9, 10, 14, 19, 11, 16, 40, 24, 32, 31, 7, 26, 13, 23, 34],\n",
        " [28, 1, 29, 21, 18, 9, 4, 13, 31, 8, 5, 25, 30, 36, 2, 34, 11, 39, 17, 15, 19, 12, 40, 38, 7, 27, 33, 37, 35, 22, 14, 23, 32, 10, 16, 3, 26, 6, 20, 24],\n",
        " [12, 4, 34, 33, 1, 39, 16, 37, 11, 20, 6, 10, 27, 36, 22, 35, 38, 25, 32, 26, 18, 28, 31, 21, 9, 8, 17, 7, 3, 29, 19, 15, 23, 30, 40, 5, 13, 2, 24, 14],\n",
        " [4, 38, 19, 33, 26, 22, 10, 21, 36, 28, 17, 20, 24, 5, 15, 14, 39, 2, 37, 30, 12, 25, 6, 27, 40, 31, 8, 11, 3, 9, 1, 7, 35, 29, 13, 34, 18, 23, 16, 32],\n",
        " [14, 40, 10, 1, 39, 7, 18, 37, 6, 13, 2, 24, 9, 4, 26, 12, 15, 36, 29, 25, 8, 23, 30, 34, 5, 21, 17, 31, 16, 32, 33, 20, 22, 28, 11, 27, 3, 19, 35, 38],\n",
        " [40, 26, 4, 5, 31, 37, 2, 20, 39, 38, 10, 6, 11, 17, 18, 8, 19, 23, 35, 32, 14, 34, 28, 3, 16, 33, 12, 22, 24, 36, 30, 1, 21, 13, 15, 29, 9, 25, 7, 27],\n",
        " [29, 1, 31, 7, 40, 23, 17, 4, 15, 30, 21, 33, 16, 24, 2, 39, 38, 32, 26, 34, 14, 22, 37, 27, 13, 3, 25, 28, 36, 8, 18, 35, 20, 10, 9, 12, 5, 6, 19, 11],\n",
        " [7, 17, 4, 12, 11, 33, 30, 28, 32, 18, 10, 20, 13, 36, 2, 25, 31, 8, 21, 9, 19, 14, 22, 37, 16, 40, 27, 6, 35, 1, 5, 26, 34, 24, 3, 38, 39, 15, 29, 23],\n",
        " [20, 4, 11, 39, 27, 10, 8, 13, 7, 28, 22, 2, 3, 23, 30, 38, 1, 33, 24, 26, 14, 17, 12, 35, 36, 15, 6, 25, 9, 21, 29, 37, 34, 19, 31, 16, 18, 5, 40, 32],\n",
        " [28, 4, 3, 23, 21, 6, 17, 5, 37, 22, 25, 29, 1, 7, 27, 16, 35, 33, 12, 10, 13, 19, 36, 40, 18, 11, 38, 2, 20, 8, 39, 9, 24, 26, 30, 31, 34, 32, 14, 15],\n",
        " [1, 4, 3, 13, 18, 25, 24, 20, 39, 23, 5, 6, 35, 15, 16, 19, 27, 28, 30, 26, 11, 36, 34, 8, 38, 2, 37, 12, 29, 14, 10, 31, 9, 33, 22, 32, 17, 7, 40, 21],\n",
        " [8, 34, 32, 24, 2, 27, 14, 12, 25, 1, 15, 35, 9, 18, 19, 23, 31, 16, 36, 7, 40, 21, 30, 22, 5, 37, 4, 28, 20, 39, 29, 6, 38, 13, 10, 11, 33, 26, 3, 17],\n",
        " [38, 31, 10, 28, 13, 40, 7, 17, 32, 22, 25, 5, 20, 24, 37, 34, 35, 23, 39, 14, 27, 36, 4, 2, 18, 26, 9, 16, 19, 1, 12, 15, 33, 30, 3, 6, 21, 11, 8, 29],\n",
        " [5, 1, 18, 12, 39, 20, 38, 23, 33, 34, 35, 36, 14, 40, 8, 16, 17, 22, 32, 11, 28, 27, 10, 24, 30, 9, 13, 31, 25, 15, 2, 7, 3, 21, 19, 6, 29, 4, 37, 26],\n",
        " [12, 27, 20, 37, 18, 13, 16, 15, 31, 5, 32, 38, 14, 36, 2, 3, 21, 24, 6, 11, 30, 9, 25, 35, 17, 22, 8, 29, 28, 23, 7, 10, 33, 34, 1, 4, 40, 19, 39, 26],\n",
        "   [19, 35, 32, 34, 5, 31, 2, 3, 4, 21, 20, 22, 7, 37, 33, 23, 38, 30, 1, 17, 11, 29, 27, 13, 16, 14, 8, 28, 10, 36, 24, 15, 25, 26, 18, 39, 40, 12, 9, 6],\n",
        " [18, 40, 23, 13, 5, 4, 29, 39, 8, 28, 27, 36, 12, 17, 10, 1, 33, 2, 37, 16, 15, 22, 7, 24, 11, 35, 19, 3, 38, 31, 20, 21, 32, 14, 26, 34, 25, 9, 30, 6],\n",
        " [18, 31, 10, 39, 8, 36, 16, 40, 29, 4, 32, 26, 13, 20, 17, 5, 9, 6, 11, 3, 14, 25, 23, 27, 19, 33, 1, 2, 7, 28, 34, 24, 38, 35, 12, 21, 37, 30, 22, 15],\n",
        " [26, 22, 16, 40, 2, 7, 28, 37, 10, 11, 9, 13, 12, 4, 32, 1, 24, 29, 19, 8, 15, 23, 18, 39, 35, 25, 38, 36, 31, 5, 34, 17, 6, 3, 27, 20, 33, 21, 30, 14],\n",
        " [8, 35, 37, 24, 32, 4, 27, 30, 7, 20, 1, 23, 12, 3, 13, 11, 17, 10, 14, 5, 38, 40, 21, 31, 25, 39, 16, 26, 22, 18, 29, 34, 28, 15, 19, 36, 33, 2, 9, 6],\n",
        " [36, 4, 3, 26, 6, 14, 38, 7, 19, 15, 40, 25, 22, 23, 10, 30, 2, 8, 13, 1, 27, 33, 5, 18, 16, 9, 32, 21, 29, 11, 24, 12, 39, 31, 35, 17, 20, 28, 37, 34],\n",
        " [30, 16, 35, 20, 1, 14, 11, 15, 19, 36, 25, 39, 9, 37, 31, 7, 24, 40, 32, 3, 10, 4, 8, 29, 26, 27, 23, 33, 6, 18, 5, 17, 2, 22, 12, 34, 13, 28, 38, 21],\n",
        " [11, 2, 6, 20, 16, 15, 37, 10, 3, 19, 36, 14, 4, 23, 28, 5, 31, 9, 25, 21, 39, 33, 22, 32, 13, 1, 18, 7, 35, 29, 27, 34, 30, 17, 8, 26, 40, 38, 24, 12],\n",
        " [10, 26, 9, 32, 40, 2, 3, 28, 24, 25, 23, 8, 15, 27, 21, 17, 14, 35, 29, 5, 38, 4, 20, 36, 18, 33, 30, 11, 39, 6, 31, 12, 34, 22, 16, 37, 19, 1, 7, 13],\n",
        " [26, 15, 21, 14, 28, 22, 37, 34, 31, 24, 7, 19, 20, 27, 36, 40, 25, 30, 10, 17, 32, 39, 13, 29, 11, 35, 2, 8, 1, 9, 18, 23, 38, 3, 6, 33, 12, 5, 16, 4],\n",
        " [5, 37, 24, 21, 20, 7, 39, 35, 15, 8, 13, 30, 23, 32, 3, 4, 6, 34, 10, 40, 29, 26, 16, 28, 1, 2, 38, 19, 25, 31, 17, 36, 14, 22, 18, 11, 27, 12, 9, 33],\n",
        " [5, 35, 8, 15, 1, 27, 33, 14, 4, 9, 21, 11, 20, 40, 18, 34, 3, 30, 22, 13, 25, 7, 31, 23, 6, 16, 32, 10, 24, 37, 17, 36, 29, 28, 26, 39, 38, 12, 19, 2],\n",
        " [12, 3, 16, 5, 9, 35, 7, 19, 34, 23, 37, 21, 8, 15, 22, 14, 31, 27, 1, 39, 10, 13, 26, 24, 20, 30, 40, 33, 32, 17, 11, 18, 4, 2, 29, 28, 6, 36, 25, 38],\n",
        " [39, 6, 35, 11, 18, 4, 28, 21, 31, 17, 32, 15, 36, 9, 3, 27, 2, 12, 14, 29, 20, 34, 5, 26, 16, 40, 37, 19, 25, 23, 22, 24, 1, 10, 13, 33, 8, 30, 38, 7],\n",
        " [12, 7, 11, 4, 38, 33, 28, 25, 32, 20, 26, 40, 39, 29, 10, 2, 36, 6, 27, 8, 5, 1, 3, 19, 22, 35, 24, 18, 37, 34, 15, 9, 30, 23, 31, 14, 21, 17, 16, 13],\n",
        " [29, 6, 10, 26, 25, 7, 27, 9, 12, 3, 34, 20, 24, 35, 40, 8, 33, 1, 19, 31, 32, 21, 30, 38, 22, 28, 4, 14, 23, 18, 39, 17, 15, 37, 11, 16, 2, 36, 13, 5],\n",
        " [26, 6, 8, 30, 21, 3, 24, 37, 12, 4, 5, 17, 33, 22, 36, 15, 9, 28, 29, 39, 7, 34, 35, 38, 2, 19, 10, 14, 18, 20, 32, 1, 31, 25, 23, 16, 27, 11, 13, 40],\n",
        " [25, 18, 3, 14, 23, 28, 7, 4, 2, 27, 24, 13, 19, 35, 17, 5, 30, 32, 1, 37, 29, 20, 21, 8, 39, 10, 26, 16, 15, 34, 6, 11, 33, 12, 31, 40, 22, 9, 36, 38],\n",
        " [32, 2, 14, 16, 17, 15, 10, 22, 23, 6, 12, 5, 7, 25, 26, 20, 3, 11, 8, 39, 21, 29, 27, 33, 1, 13, 18, 4, 35, 30, 9, 38, 19, 34, 40, 36, 31, 28, 24, 37],\n",
        " [5, 34, 16, 37, 3, 18, 8, 10, 11, 14, 7, 2, 6, 24, 15, 40, 31, 36, 4, 26, 27, 12, 28, 19, 29, 1, 20, 35, 13, 23, 17, 30, 39, 21, 33, 38, 32, 9, 22, 25],\n",
        " [39, 25, 38, 37, 18, 15, 30, 3, 34, 14, 21, 20, 11, 23, 31, 7, 10, 35, 33, 32, 17, 1, 12, 13, 29, 4, 36, 19, 40, 9, 16, 6, 27, 2, 8, 24, 5, 28, 26, 22],\n",
        " [36, 13, 7, 8, 22, 39, 15, 27, 29, 31, 10, 24, 2, 32, 28, 25, 9, 35, 17, 5, 21, 4, 40, 34, 30, 11, 20, 3, 37, 6, 38, 19, 12, 14, 1, 18, 16, 33, 23, 26],\n",
        " [1, 26, 4, 33, 3, 30, 10, 2, 8, 31, 23, 6, 38, 39, 32, 28, 17, 12, 19, 34, 35, 5, 7, 15, 25, 27, 18, 16, 14, 9, 36, 24, 20, 13, 40, 11, 21, 22, 29, 37],\n",
        " [36, 30, 27, 5, 38, 24, 3, 34, 8, 10, 23, 14, 39, 31, 7, 21, 15, 20, 29, 22, 2, 35, 1, 17, 12, 25, 33, 6, 16, 19, 11, 9, 40, 4, 18, 28, 37, 32, 13, 26],\n",
        " [5, 14, 4, 31, 17, 18, 3, 32, 1, 6, 9, 27, 38, 40, 19, 13, 37, 15, 29, 10, 12, 39, 20, 25, 34, 21, 33, 23, 28, 26, 24, 2, 22, 7, 8, 36, 16, 30, 11, 35],\n",
        " [40, 20, 1, 27, 12, 13, 14, 26, 7, 16, 5, 30, 3, 21, 25, 6, 32, 2, 17, 8, 38, 34, 35, 36, 37, 10, 22, 29, 15, 18, 4, 33, 23, 31, 24, 19, 28, 9, 11, 39],\n",
        " [34, 29, 8, 28, 27, 6, 37, 35, 18, 36, 40, 3, 2, 24, 15, 9, 31, 20, 11, 7, 17, 30, 19, 22, 25, 16, 14, 26, 21, 33, 12, 13, 23, 5, 39, 4, 1, 38, 32, 10],\n",
        " [2, 30, 16, 37, 9, 35, 6, 32, 7, 34, 8, 25, 15, 1, 38, 33, 13, 29, 14, 31, 21, 36, 24, 39, 26, 23, 17, 27, 10, 3, 4, 22, 18, 28, 19, 5, 20, 40, 11, 12],\n",
        " [6, 39, 26, 31, 4, 37, 14, 15, 2, 32, 40, 21, 8, 20, 10, 16, 3, 29, 36, 27, 22, 23, 25, 9, 30, 24, 5, 17, 18, 13, 34, 1, 33, 35, 28, 11, 12, 19, 38, 7],\n",
        " [11, 20, 25, 28, 10, 9, 15, 17, 38, 40, 7, 18, 8, 3, 12, 39, 34, 29, 30, 4, 35, 2, 31, 5, 22, 16, 36, 6, 26, 33, 14, 21, 24, 19, 23, 27, 37, 13, 1, 32],\n",
        " [34, 8, 16, 40, 12, 2, 37, 11, 10, 35, 15, 26, 31, 13, 21, 30, 19, 39, 1, 25, 36, 14, 5, 18, 33, 3, 22, 17, 38, 32, 29, 9, 6, 23, 20, 27, 7, 28, 4, 24],\n",
        " [8, 24, 7, 33, 12, 27, 30, 16, 37, 5, 34, 15, 29, 11, 18, 35, 9, 22, 32, 6, 38, 40, 28, 23, 2, 3, 19, 20, 36, 17, 31, 14, 21, 26, 39, 1, 4, 13, 25, 10],\n",
        " [36, 15, 10, 12, 1, 3, 32, 2, 4, 37, 39, 34, 16, 40, 21, 17, 9, 27, 22, 20, 23, 28, 31, 33, 35, 18, 7, 25, 30, 5, 6, 14, 38, 13, 29, 11, 8, 26, 24, 19],\n",
        " [27, 24, 10, 11, 26, 18, 33, 34, 35, 40, 25, 1, 29, 36, 23, 5, 37, 38, 22, 13, 14, 9, 2, 28, 31, 12, 20, 17, 3, 7, 6, 8, 15, 4, 21, 16, 30, 19, 39, 32],\n",
        " [33, 20, 15, 4, 39, 25, 18, 8, 23, 29, 17, 13, 26, 40, 27, 24, 35, 14, 28, 11, 12, 10, 5, 7, 6, 1, 30, 16, 37, 2, 9, 3, 32, 22, 21, 38, 36, 34, 31, 19],\n",
        " [5, 6, 12, 25, 28, 13, 17, 35, 8, 33, 9, 21, 16, 39, 38, 14, 26, 31, 23, 30, 24, 27, 11, 10, 20, 3, 18, 4, 22, 34, 29, 36, 37, 2, 32, 1, 7, 40, 15, 19],\n",
        " [11, 26, 4, 14, 16, 28, 29, 18, 36, 35, 25, 15, 8, 12, 31, 27, 23, 40, 30, 7, 17, 19, 5, 3, 21, 20, 38, 10, 39, 34, 6, 1, 32, 13, 9, 24, 33, 22, 37, 2],\n",
        " [7, 34, 1, 23, 40, 10, 37, 4, 8, 29, 17, 25, 6, 9, 13, 36, 26, 22, 28, 15, 19, 33, 5, 38, 11, 32, 20, 3, 39, 14, 18, 16, 21, 35, 12, 30, 24, 31, 2, 27],\n",
        " [38, 3, 7, 22, 8, 32, 15, 20, 4, 26, 34, 2, 9, 14, 37, 40, 10, 25, 33, 24, 17, 11, 35, 31, 23, 6, 21, 27, 18, 19, 36, 28, 5, 16, 12, 30, 39, 29, 1, 13],\n",
        " [28, 40, 29, 10, 19, 11, 13, 1, 3, 21, 20, 7, 23, 22, 25, 9, 30, 16, 17, 38, 26, 6, 39, 18, 27, 35, 12, 37, 24, 15, 2, 4, 32, 34, 5, 14, 31, 36, 8, 33]] \n",
        "  \n"
      ],
      "execution_count": 16,
      "outputs": [
        {
          "output_type": "stream",
          "text": [
            "CPU times: user 2 µs, sys: 0 ns, total: 2 µs\n",
            "Wall time: 5.25 µs\n",
            "100000000 loops, best of 3: 14 ns per loop\n"
          ],
          "name": "stdout"
        }
      ]
    },
    {
      "cell_type": "code",
      "metadata": {
        "colab": {
          "base_uri": "https://localhost:8080/"
        },
        "id": "FmmHL1TlDq4f",
        "outputId": "41e837c2-1a9d-4a0a-985d-f1e753f1436d"
      },
      "source": [
        "stableMarriage(prefer)"
      ],
      "execution_count": 17,
      "outputs": [
        {
          "output_type": "stream",
          "text": [
            "Woman   Man\n",
            "40 \t 7\n",
            "41 \t 31\n",
            "42 \t 0\n",
            "43 \t 19\n",
            "44 \t 34\n",
            "45 \t 2\n",
            "46 \t 16\n",
            "47 \t 32\n",
            "48 \t 24\n",
            "49 \t 13\n",
            "50 \t 37\n",
            "51 \t 33\n",
            "52 \t 38\n",
            "53 \t 35\n",
            "54 \t 1\n",
            "55 \t 15\n",
            "56 \t 6\n",
            "57 \t 8\n",
            "58 \t 18\n",
            "59 \t 3\n",
            "60 \t 20\n",
            "61 \t 21\n",
            "62 \t 11\n",
            "63 \t 4\n",
            "64 \t 22\n",
            "65 \t 9\n",
            "66 \t 28\n",
            "67 \t 39\n",
            "68 \t 26\n",
            "69 \t 25\n",
            "70 \t 14\n",
            "71 \t 30\n",
            "72 \t 36\n",
            "73 \t 10\n",
            "74 \t 27\n",
            "75 \t 12\n",
            "76 \t 23\n",
            "77 \t 5\n",
            "78 \t 17\n",
            "79 \t 29\n"
          ],
          "name": "stdout"
        }
      ]
    },
    {
      "cell_type": "markdown",
      "metadata": {
        "id": "j_0mi43UOY4C"
      },
      "source": [
        "### **Resultados**:\n",
        "\n",
        "Ambos Algoritmos recibieron sus entradas mediante los mismo metodos, las permutaciones y los diccionarios se generaron estaticamente y para cada prueba se realizaron mediciones en tiempo usando las magic function de Python (%%time y %%timeit).\n",
        "\n",
        "Con base en wikipedia y el paper original del algoritmo, este algoritmo tiene una complejidad de $O(n^2)$ en el peor de los casos y una complejidad promedio de $O(n\\ log(n))$.\n",
        "\n",
        "Para poder determinar el el mejor y peor caso en cada algoritmo primero obtenemos los valores de referencia, evaluando con $2n$ como el total equitativamente dividido en $n$ hombres y $n$ mujeres."
      ]
    },
    {
      "cell_type": "markdown",
      "metadata": {
        "id": "mM2DlluOjV01"
      },
      "source": [
        "**Complejidad con N=4**\n",
        "Despues de la complejidad Evaluamos los resultados de cada algoritmo."
      ]
    },
    {
      "cell_type": "code",
      "metadata": {
        "id": "F1HM3oNhjXeP",
        "colab": {
          "base_uri": "https://localhost:8080/"
        },
        "outputId": "0c1de4f3-d7bd-489e-d29b-2f45f08c258b"
      },
      "source": [
        "import math\n",
        "n = 4\n",
        "\n",
        "print(\"Complejidad del peor caso O(n^2): \", n ** 2)\n",
        "print(\"Complejidad del promedio O(n log(n)): \", n * math.log(n))"
      ],
      "execution_count": 18,
      "outputs": [
        {
          "output_type": "stream",
          "text": [
            "Complejidad del peor caso O(n^2):  16\n",
            "Complejidad del promedio O(n log(n)):  5.545177444479562\n"
          ],
          "name": "stdout"
        }
      ]
    },
    {
      "cell_type": "markdown",
      "metadata": {
        "id": "TdDVUgtEjZoh"
      },
      "source": [
        "**Towards Data Science implementation:**\n",
        "\n",
        "CPU times: user 2 µs, sys: 0 ns, total: 2 µs\n",
        "Wall time: 5.25 µs\n",
        "100000000 loops, best of 3: 14 ns per loop\n",
        "\n",
        "**Geeks For Geeks Version**\n",
        "\n",
        "CPU times: user 3 µs, sys: 0 ns, total: 3 µs\n",
        "Wall time: 5.48 µs\n",
        "100000000 loops, best of 3: 14 ns per loop\n",
        "\n",
        "**Analisis:** Con base en los resultados del tiempo de ejecucion comparado con la complejidad se puede determinar que el para **n=4** la implementacion que mejor se desempeña es:\n",
        "\n",
        "* **TDS:** Con un tiempo de 5.25µs\n",
        "\n",
        "Aunque ambas implementaciones corren en un tiempo cercano al promedio."
      ]
    },
    {
      "cell_type": "markdown",
      "metadata": {
        "id": "bYjEErggn8o6"
      },
      "source": [
        "**Complejidad con N=40**\n",
        "Despues de la complejidad Evaluamos los resultados de cada algoritmo."
      ]
    },
    {
      "cell_type": "code",
      "metadata": {
        "colab": {
          "base_uri": "https://localhost:8080/"
        },
        "id": "x_eTpjSVoJb_",
        "outputId": "4b7b8cb7-b136-4ec5-95e3-25d0f1bee915"
      },
      "source": [
        "import math\n",
        "n = 40\n",
        "\n",
        "print(\"Complejidad del peor caso O(n^2): \", n ** 2)\n",
        "print(\"Complejidad del promedio O(n log(n)): \", n * math.log(n))"
      ],
      "execution_count": 19,
      "outputs": [
        {
          "output_type": "stream",
          "text": [
            "Complejidad del peor caso O(n^2):  1600\n",
            "Complejidad del promedio O(n log(n)):  147.55517816455745\n"
          ],
          "name": "stdout"
        }
      ]
    },
    {
      "cell_type": "markdown",
      "metadata": {
        "id": "V4BNbyNvoSn4"
      },
      "source": [
        "**Towards Data Science implementation:**\n",
        "\n",
        "CPU times: user 3 µs, sys: 0 ns, total: 3 µs\n",
        "Wall time: 5.25 µs\n",
        "100000000 loops, best of 3: 14 ns per loop\n",
        "\n",
        "**Geeks For Geeks Version**\n",
        "\n",
        "CPU times: user 2 µs, sys: 0 ns, total: 2 µs\n",
        "Wall time: 5.25 µs\n",
        "100000000 loops, best of 3: 14 ns per loop\n",
        "\n",
        "**Analisis:** Con base en los resultados del tiempo de ejecucion comparado con la complejidad se puede determinar que el para **n=40** la implementacion que mejor se desempeña es:\n",
        "\n",
        "* Empate entre las ejecuciones.\n",
        "\n",
        "Aunque ambas implementaciones corren en un tiempo cercano al promedio de n=4 se ve que cuando se corren se aproximan al tiempo promedio para n = 40."
      ]
    }
  ]
}