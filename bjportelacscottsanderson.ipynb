{
  "nbformat": 4,
  "nbformat_minor": 0,
  "metadata": {
    "celltoolbar": "Slideshow",
    "kernelspec": {
      "display_name": "Python 3",
      "language": "python",
      "name": "python3"
    },
    "language_info": {
      "codemirror_mode": {
        "name": "ipython",
        "version": 3
      },
      "file_extension": ".py",
      "mimetype": "text/x-python",
      "name": "python",
      "nbconvert_exporter": "python",
      "pygments_lexer": "ipython3",
      "version": "3.5.2"
    },
    "livereveal": {
      "start_slideshow_at": "selected"
    },
    "name": "Main.ipynb",
    "colab": {
      "name": "PyData Toolbox bjportelac.ipynb",
      "provenance": [],
      "collapsed_sections": [
        "wK8rglvAs8Pn",
        "TPuTKG5ys8Qb",
        "OG62Yt88s8Q1",
        "N7fxQGj4s8R1",
        "mq_Fr9lks8SJ",
        "HtvkKrqws8SJ",
        "VqR0AHR5s8SP",
        "Gpqh4C9Js8SP",
        "apqx40zus8TO",
        "BvB3m4ADs8TP"
      ]
    }
  },
  "cells": [
    {
      "cell_type": "markdown",
      "metadata": {
        "ein.tags": "worksheet-0",
        "id": "R3az_RCfs8NC",
        "colab_type": "text"
      },
      "source": [
        "<center>\n",
        "  <h1>The PyData Toolbox</h1>\n",
        "  <h3>Scott Sanderson (Twitter: @scottbsanderson, GitHub: ssanderson)</h3>\n",
        "  <h3><a href=\"https://github.com/ssanderson/pydata-toolbox\">https://github.com/ssanderson/pydata-toolbox</a></h3>\n",
        "</center>"
      ]
    },
    {
      "cell_type": "code",
      "metadata": {
        "id": "eAMmQTQntfwT",
        "colab_type": "code",
        "colab": {
          "base_uri": "https://localhost:8080/",
          "height": 292
        },
        "outputId": "a0788986-df42-42e8-b03a-73a8bbffd21e"
      },
      "source": [
        "pip install -U fortran-magic"
      ],
      "execution_count": 1,
      "outputs": [
        {
          "output_type": "stream",
          "text": [
            "Requirement already up-to-date: fortran-magic in /usr/local/lib/python3.6/dist-packages (0.7)\n",
            "Requirement already satisfied, skipping upgrade: ipython in /usr/local/lib/python3.6/dist-packages (from fortran-magic) (5.5.0)\n",
            "Requirement already satisfied, skipping upgrade: numpy in /usr/local/lib/python3.6/dist-packages (from fortran-magic) (1.18.5)\n",
            "Requirement already satisfied, skipping upgrade: setuptools>=18.5 in /usr/local/lib/python3.6/dist-packages (from ipython->fortran-magic) (49.6.0)\n",
            "Requirement already satisfied, skipping upgrade: pexpect; sys_platform != \"win32\" in /usr/local/lib/python3.6/dist-packages (from ipython->fortran-magic) (4.8.0)\n",
            "Requirement already satisfied, skipping upgrade: traitlets>=4.2 in /usr/local/lib/python3.6/dist-packages (from ipython->fortran-magic) (4.3.3)\n",
            "Requirement already satisfied, skipping upgrade: pickleshare in /usr/local/lib/python3.6/dist-packages (from ipython->fortran-magic) (0.7.5)\n",
            "Requirement already satisfied, skipping upgrade: simplegeneric>0.8 in /usr/local/lib/python3.6/dist-packages (from ipython->fortran-magic) (0.8.1)\n",
            "Requirement already satisfied, skipping upgrade: pygments in /usr/local/lib/python3.6/dist-packages (from ipython->fortran-magic) (2.1.3)\n",
            "Requirement already satisfied, skipping upgrade: decorator in /usr/local/lib/python3.6/dist-packages (from ipython->fortran-magic) (4.4.2)\n",
            "Requirement already satisfied, skipping upgrade: prompt-toolkit<2.0.0,>=1.0.4 in /usr/local/lib/python3.6/dist-packages (from ipython->fortran-magic) (1.0.18)\n",
            "Requirement already satisfied, skipping upgrade: ptyprocess>=0.5 in /usr/local/lib/python3.6/dist-packages (from pexpect; sys_platform != \"win32\"->ipython->fortran-magic) (0.6.0)\n",
            "Requirement already satisfied, skipping upgrade: six in /usr/local/lib/python3.6/dist-packages (from traitlets>=4.2->ipython->fortran-magic) (1.15.0)\n",
            "Requirement already satisfied, skipping upgrade: ipython-genutils in /usr/local/lib/python3.6/dist-packages (from traitlets>=4.2->ipython->fortran-magic) (0.2.0)\n",
            "Requirement already satisfied, skipping upgrade: wcwidth in /usr/local/lib/python3.6/dist-packages (from prompt-toolkit<2.0.0,>=1.0.4->ipython->fortran-magic) (0.2.5)\n"
          ],
          "name": "stdout"
        }
      ]
    },
    {
      "cell_type": "code",
      "metadata": {
        "id": "jcDNFaMLtlTH",
        "colab_type": "code",
        "colab": {
          "base_uri": "https://localhost:8080/",
          "height": 51
        },
        "outputId": "7d5eafe0-76e9-4cab-e4d7-06650f526b8a"
      },
      "source": [
        "%reload_ext fortranmagic"
      ],
      "execution_count": 2,
      "outputs": [
        {
          "output_type": "stream",
          "text": [
            "/usr/local/lib/python3.6/dist-packages/fortranmagic.py:147: UserWarning: get_ipython_cache_dir has moved to the IPython.paths module since IPython 4.0.\n",
            "  self._lib_dir = os.path.join(get_ipython_cache_dir(), 'fortran')\n"
          ],
          "name": "stderr"
        },
        {
          "output_type": "display_data",
          "data": {
            "application/javascript": [
              "$.getScript(\"https://raw.github.com/marijnh/CodeMirror/master/mode/fortran/fortran.js\", function () {\n",
              "IPython.config.cell_magic_highlight['magic_fortran'] = {'reg':[/^%%fortran/]};});\n"
            ]
          },
          "metadata": {
            "tags": []
          }
        }
      ]
    },
    {
      "cell_type": "code",
      "metadata": {
        "id": "ItvfD5kDttIW",
        "colab_type": "code",
        "colab": {}
      },
      "source": [
        "import py_compile\n",
        "import numpy as np\n"
      ],
      "execution_count": 3,
      "outputs": []
    },
    {
      "cell_type": "markdown",
      "metadata": {
        "collapsed": true,
        "ein.tags": "worksheet-0",
        "id": "ynMSfQe7s8NE",
        "colab_type": "text"
      },
      "source": [
        "# About Me:\n",
        "\n",
        "- Senior Engineer at [Quantopian](www.quantopian.com)\n",
        "- Background in Mathematics and Philosophy\n",
        "- **Twitter:** [@scottbsanderson](https://twitter.com/scottbsanderson)\n",
        "- **GitHub:** [ssanderson](github.com/ssanderson)"
      ]
    },
    {
      "cell_type": "markdown",
      "metadata": {
        "id": "LKbRciT8s8NI",
        "colab_type": "text"
      },
      "source": [
        "## Outline\n",
        "\n",
        "- Built-in Data Structures\n",
        "- Numpy `array`\n",
        "- Pandas `Series`/`DataFrame`\n",
        "- Plotting and \"Real-World\" Analyses"
      ]
    },
    {
      "cell_type": "markdown",
      "metadata": {
        "id": "9PIqz4k9s8NL",
        "colab_type": "text"
      },
      "source": [
        "# Data Structures"
      ]
    },
    {
      "cell_type": "markdown",
      "metadata": {
        "id": "UsEgE3Dts8NM",
        "colab_type": "text"
      },
      "source": [
        "> Rule 5. Data dominates. If you've chosen the right data structures and organized things well, the algorithms\n",
        "will almost always be self-evident. Data structures, not algorithms, are central to programming.\n",
        "\n",
        "- *Notes on Programming in C*, by Rob Pike."
      ]
    },
    {
      "cell_type": "markdown",
      "metadata": {
        "id": "avK5GBUCs8NP",
        "colab_type": "text"
      },
      "source": [
        "# Lists"
      ]
    },
    {
      "cell_type": "code",
      "metadata": {
        "id": "vZdysA9ys8NX",
        "colab_type": "code",
        "colab": {
          "base_uri": "https://localhost:8080/",
          "height": 34
        },
        "outputId": "324745e7-fd43-47fb-b79e-f64ae59ab9d5"
      },
      "source": [
        "l = [1, 'two', 3.0, 4, 5.0, \"six\"]\n",
        "l"
      ],
      "execution_count": 4,
      "outputs": [
        {
          "output_type": "execute_result",
          "data": {
            "text/plain": [
              "[1, 'two', 3.0, 4, 5.0, 'six']"
            ]
          },
          "metadata": {
            "tags": []
          },
          "execution_count": 4
        }
      ]
    },
    {
      "cell_type": "code",
      "metadata": {
        "id": "bWFxaMlztx4a",
        "colab_type": "code",
        "colab": {
          "base_uri": "https://localhost:8080/",
          "height": 34
        },
        "outputId": "d4b27a39-763e-4af1-c554-278413ed5e80"
      },
      "source": [
        "J=[2,True,'strings',3.141592,'b'] #Ejemplo replicado\n",
        "J"
      ],
      "execution_count": 5,
      "outputs": [
        {
          "output_type": "execute_result",
          "data": {
            "text/plain": [
              "[2, True, 'strings', 3.141592, 'b']"
            ]
          },
          "metadata": {
            "tags": []
          },
          "execution_count": 5
        }
      ]
    },
    {
      "cell_type": "code",
      "metadata": {
        "id": "NsdY63Bzs8Ng",
        "colab_type": "code",
        "colab": {
          "base_uri": "https://localhost:8080/",
          "height": 51
        },
        "outputId": "a7b97e45-fe2c-4bb8-f105-6a08a2378e25"
      },
      "source": [
        "# Lists can be indexed like C-style arrays.\n",
        "first = l[0]\n",
        "second = l[1]\n",
        "print(\"first:\", first)\n",
        "print(\"second:\", second)"
      ],
      "execution_count": 6,
      "outputs": [
        {
          "output_type": "stream",
          "text": [
            "first: 1\n",
            "second: two\n"
          ],
          "name": "stdout"
        }
      ]
    },
    {
      "cell_type": "code",
      "metadata": {
        "id": "V01_B_qcuFIm",
        "colab_type": "code",
        "colab": {
          "base_uri": "https://localhost:8080/",
          "height": 51
        },
        "outputId": "8e03c185-3d8d-48c2-8fd3-625075fae7fc"
      },
      "source": [
        "#Ejemplo replicado, acceso a listas como en arrays de C/C++\n",
        "primer = J[0]\n",
        "ultimo = J[len(J)-1]\n",
        "print(\"Primer elemento:\", primer)\n",
        "print(\"Ultimo elemento:\", ultimo)"
      ],
      "execution_count": 7,
      "outputs": [
        {
          "output_type": "stream",
          "text": [
            "Primer elemento: 2\n",
            "Ultimo elemento: b\n"
          ],
          "name": "stdout"
        }
      ]
    },
    {
      "cell_type": "code",
      "metadata": {
        "id": "ACj49sQZs8Nm",
        "colab_type": "code",
        "colab": {
          "base_uri": "https://localhost:8080/",
          "height": 51
        },
        "outputId": "9ec77af1-a731-44c8-9cc1-f3e3cc9bebf7"
      },
      "source": [
        "# Negative indexing gives elements relative to the end of the list.\n",
        "last = l[-1]\n",
        "penultimate = l[-2]\n",
        "print(\"last:\", last)\n",
        "print(\"second to last:\", penultimate)"
      ],
      "execution_count": 8,
      "outputs": [
        {
          "output_type": "stream",
          "text": [
            "last: six\n",
            "second to last: 5.0\n"
          ],
          "name": "stdout"
        }
      ]
    },
    {
      "cell_type": "code",
      "metadata": {
        "id": "T3fKxK6busRR",
        "colab_type": "code",
        "colab": {
          "base_uri": "https://localhost:8080/",
          "height": 51
        },
        "outputId": "ec6e1292-130e-48de-ec62-6e02b0aa0027"
      },
      "source": [
        "#Ejemplo replicado, indexado negativo, se hace a partir de -1 hasta -len(lista)\n",
        "ultimo = J[-1]\n",
        "ante_p_ultimo=J[-2]\n",
        "print(\"Ultimo elemento:\", ultimo)\n",
        "print(\"Antepenultimo elemento:\", ante_p_ultimo)"
      ],
      "execution_count": 9,
      "outputs": [
        {
          "output_type": "stream",
          "text": [
            "Ultimo elemento: b\n",
            "Antepenultimo elemento: 3.141592\n"
          ],
          "name": "stdout"
        }
      ]
    },
    {
      "cell_type": "code",
      "metadata": {
        "id": "HoeY_TUss8Nu",
        "colab_type": "code",
        "colab": {
          "base_uri": "https://localhost:8080/",
          "height": 34
        },
        "outputId": "95bd9c4e-062f-4ab9-c404-aaab2ae52582"
      },
      "source": [
        "# Lists can also be sliced, which makes a copy of elements between \n",
        "# start (inclusive) and stop (exclusive)\n",
        "sublist = l[1:3]\n",
        "sublist"
      ],
      "execution_count": 10,
      "outputs": [
        {
          "output_type": "execute_result",
          "data": {
            "text/plain": [
              "['two', 3.0]"
            ]
          },
          "metadata": {
            "tags": []
          },
          "execution_count": 10
        }
      ]
    },
    {
      "cell_type": "code",
      "metadata": {
        "id": "3nVpLVaJvH4V",
        "colab_type": "code",
        "colab": {
          "base_uri": "https://localhost:8080/",
          "height": 34
        },
        "outputId": "51959cad-74c7-4397-a235-9f7e9806ca1c"
      },
      "source": [
        "#Las listas pueden ser seccionadas de 3 formas\n",
        "J_slt = J[2:4]\n",
        "J_slt\n",
        "#elementos 2 y 3 tres de la lista"
      ],
      "execution_count": 11,
      "outputs": [
        {
          "output_type": "execute_result",
          "data": {
            "text/plain": [
              "['strings', 3.141592]"
            ]
          },
          "metadata": {
            "tags": []
          },
          "execution_count": 11
        }
      ]
    },
    {
      "cell_type": "code",
      "metadata": {
        "id": "OqHCa77_s8N0",
        "colab_type": "code",
        "colab": {
          "base_uri": "https://localhost:8080/",
          "height": 34
        },
        "outputId": "eeaa6cc9-257f-4ff2-c302-f8a53973e88d"
      },
      "source": [
        "# l[:N] is equivalent to l[0:N].\n",
        "first_three = l[:3]\n",
        "first_three"
      ],
      "execution_count": 12,
      "outputs": [
        {
          "output_type": "execute_result",
          "data": {
            "text/plain": [
              "[1, 'two', 3.0]"
            ]
          },
          "metadata": {
            "tags": []
          },
          "execution_count": 12
        }
      ]
    },
    {
      "cell_type": "code",
      "metadata": {
        "id": "HVM1iNh_v3dM",
        "colab_type": "code",
        "colab": {
          "base_uri": "https://localhost:8080/",
          "height": 34
        },
        "outputId": "649f1f99-e1fe-4e23-fb28-c9ea2b28dc3d"
      },
      "source": [
        "# la segunda forma es seccionar hasta x elemento contenido en lista\n",
        "J_xel = J[:4]\n",
        "J_xel"
      ],
      "execution_count": 13,
      "outputs": [
        {
          "output_type": "execute_result",
          "data": {
            "text/plain": [
              "[2, True, 'strings', 3.141592]"
            ]
          },
          "metadata": {
            "tags": []
          },
          "execution_count": 13
        }
      ]
    },
    {
      "cell_type": "code",
      "metadata": {
        "id": "9Joih8CRs8N5",
        "colab_type": "code",
        "colab": {
          "base_uri": "https://localhost:8080/",
          "height": 34
        },
        "outputId": "630a4ec5-062f-4765-d5d5-fbb69ea5fd58"
      },
      "source": [
        "# l[3:] is equivalent to l[3:len(l)].\n",
        "after_three = l[3:]\n",
        "after_three"
      ],
      "execution_count": 14,
      "outputs": [
        {
          "output_type": "execute_result",
          "data": {
            "text/plain": [
              "[4, 5.0, 'six']"
            ]
          },
          "metadata": {
            "tags": []
          },
          "execution_count": 14
        }
      ]
    },
    {
      "cell_type": "code",
      "metadata": {
        "id": "AcLiHexpwST0",
        "colab_type": "code",
        "colab": {
          "base_uri": "https://localhost:8080/",
          "height": 34
        },
        "outputId": "5242e160-8d3c-4508-d15d-d17799b91a48"
      },
      "source": [
        "# la tercer forma es seccionar desde x elemento hasta el final de la lista\n",
        "J_aftx = J[2:]\n",
        "J_aftx"
      ],
      "execution_count": 15,
      "outputs": [
        {
          "output_type": "execute_result",
          "data": {
            "text/plain": [
              "['strings', 3.141592, 'b']"
            ]
          },
          "metadata": {
            "tags": []
          },
          "execution_count": 15
        }
      ]
    },
    {
      "cell_type": "code",
      "metadata": {
        "id": "ZASBQ00Cs8N_",
        "colab_type": "code",
        "colab": {
          "base_uri": "https://localhost:8080/",
          "height": 34
        },
        "outputId": "21ea8a91-d453-497f-9f9e-530188f86661"
      },
      "source": [
        "# There's also a third parameter, \"step\", which gets every Nth element.\n",
        "l = ['a', 'b', 'c', 'd', 'e', 'f', 'g','h']\n",
        "l[1:7:2]"
      ],
      "execution_count": 16,
      "outputs": [
        {
          "output_type": "execute_result",
          "data": {
            "text/plain": [
              "['b', 'd', 'f']"
            ]
          },
          "metadata": {
            "tags": []
          },
          "execution_count": 16
        }
      ]
    },
    {
      "cell_type": "code",
      "metadata": {
        "id": "pksceqz6wizR",
        "colab_type": "code",
        "colab": {
          "base_uri": "https://localhost:8080/",
          "height": 34
        },
        "outputId": "73932a9e-972a-43c4-e411-bfc350c1e7da"
      },
      "source": [
        "#con un tercer parametro se hace un escalonado, cada ciertos elementos\n",
        "J = [0,1,2,3,4,5,6,7,8,9,10]\n",
        "J[0:9:2]"
      ],
      "execution_count": 17,
      "outputs": [
        {
          "output_type": "execute_result",
          "data": {
            "text/plain": [
              "[0, 2, 4, 6, 8]"
            ]
          },
          "metadata": {
            "tags": []
          },
          "execution_count": 17
        }
      ]
    },
    {
      "cell_type": "code",
      "metadata": {
        "id": "O-JyzDjOs8OI",
        "colab_type": "code",
        "colab": {
          "base_uri": "https://localhost:8080/",
          "height": 34
        },
        "outputId": "420800ac-3c85-43ec-d525-781053288bdf"
      },
      "source": [
        "# This is a cute way to reverse a list.\n",
        "l[::-1]"
      ],
      "execution_count": 18,
      "outputs": [
        {
          "output_type": "execute_result",
          "data": {
            "text/plain": [
              "['h', 'g', 'f', 'e', 'd', 'c', 'b', 'a']"
            ]
          },
          "metadata": {
            "tags": []
          },
          "execution_count": 18
        }
      ]
    },
    {
      "cell_type": "code",
      "metadata": {
        "id": "qhGzwJhG-o0K",
        "colab_type": "code",
        "colab": {
          "base_uri": "https://localhost:8080/",
          "height": 34
        },
        "outputId": "422215fe-5e47-4028-b0ef-2629e40982d3"
      },
      "source": [
        "#leer una lista en revers\n",
        "J[::-1]"
      ],
      "execution_count": 19,
      "outputs": [
        {
          "output_type": "execute_result",
          "data": {
            "text/plain": [
              "[10, 9, 8, 7, 6, 5, 4, 3, 2, 1, 0]"
            ]
          },
          "metadata": {
            "tags": []
          },
          "execution_count": 19
        }
      ]
    },
    {
      "cell_type": "code",
      "metadata": {
        "id": "pFFVCADHs8ON",
        "colab_type": "code",
        "colab": {
          "base_uri": "https://localhost:8080/",
          "height": 51
        },
        "outputId": "62a87cc6-09e3-45b4-d5e7-5d75cd164236"
      },
      "source": [
        "# Lists can be grown efficiently (in O(1) amortized time).\n",
        "l = [1, 2, 3, 4, 5]\n",
        "print(\"Before:\", l)\n",
        "l.append('six')\n",
        "print(\"After:\", l)"
      ],
      "execution_count": 20,
      "outputs": [
        {
          "output_type": "stream",
          "text": [
            "Before: [1, 2, 3, 4, 5]\n",
            "After: [1, 2, 3, 4, 5, 'six']\n"
          ],
          "name": "stdout"
        }
      ]
    },
    {
      "cell_type": "code",
      "metadata": {
        "id": "diqX5wJ7-zhZ",
        "colab_type": "code",
        "colab": {
          "base_uri": "https://localhost:8080/",
          "height": 51
        },
        "outputId": "600c7879-fd05-44e8-edab-52697bbe910b"
      },
      "source": [
        "# las listas creen eficientemente, anexando al final en O(1) , pero es complejo \n",
        "#añadir al frente\n",
        "k = ['a','e','i','o','u'] \n",
        "print(\"Antes:\",k)\n",
        "k.append('y')\n",
        "print(\"despues:\",k)"
      ],
      "execution_count": 21,
      "outputs": [
        {
          "output_type": "stream",
          "text": [
            "Antes: ['a', 'e', 'i', 'o', 'u']\n",
            "despues: ['a', 'e', 'i', 'o', 'u', 'y']\n"
          ],
          "name": "stdout"
        }
      ]
    },
    {
      "cell_type": "code",
      "metadata": {
        "id": "leV_25gXs8OW",
        "colab_type": "code",
        "colab": {
          "base_uri": "https://localhost:8080/",
          "height": 34
        },
        "outputId": "df4a1450-7313-4c9f-c24b-0f13aab8253c"
      },
      "source": [
        "# Comprehensions let us perform elementwise computations.\n",
        "l = [1, 2, 3, 4, 5]\n",
        "[x * 2 for x in l]"
      ],
      "execution_count": 22,
      "outputs": [
        {
          "output_type": "execute_result",
          "data": {
            "text/plain": [
              "[2, 4, 6, 8, 10]"
            ]
          },
          "metadata": {
            "tags": []
          },
          "execution_count": 22
        }
      ]
    },
    {
      "cell_type": "code",
      "metadata": {
        "id": "A5GPaxLKADc3",
        "colab_type": "code",
        "colab": {
          "base_uri": "https://localhost:8080/",
          "height": 34
        },
        "outputId": "6a0dff1b-439a-474c-cc45-058260ab5922"
      },
      "source": [
        "#se pueden hacer expresiones en elementos de una lista\n",
        "J = [0,1,2,3,4,5,6,7,8,9,10]\n",
        "[i**2 for i in J]"
      ],
      "execution_count": 23,
      "outputs": [
        {
          "output_type": "execute_result",
          "data": {
            "text/plain": [
              "[0, 1, 4, 9, 16, 25, 36, 49, 64, 81, 100]"
            ]
          },
          "metadata": {
            "tags": []
          },
          "execution_count": 23
        }
      ]
    },
    {
      "cell_type": "markdown",
      "metadata": {
        "ein.tags": "worksheet-0",
        "id": "xNPq_89Ms8Oc",
        "colab_type": "text"
      },
      "source": [
        "## Review: Python Lists\n",
        "\n",
        "- Zero-indexed sequence of arbitrary Python values.\n",
        "- Slicing syntax: `l[start:stop:step]` copies elements at regular intervals from `start` to `stop`.\n",
        "- Efficient (`O(1)`) appends and removes from end.\n",
        "- Comprehension syntax: `[f(x) for x in l if cond(x)]`."
      ]
    },
    {
      "cell_type": "markdown",
      "metadata": {
        "id": "x3Cg1yg3s8Od",
        "colab_type": "text"
      },
      "source": [
        "# Dictionaries"
      ]
    },
    {
      "cell_type": "code",
      "metadata": {
        "id": "_a1FxUczs8Oe",
        "colab_type": "code",
        "colab": {
          "base_uri": "https://localhost:8080/",
          "height": 34
        },
        "outputId": "8be2019f-1015-4344-86ab-1539ac913237"
      },
      "source": [
        "# Dictionaries are key-value mappings.\n",
        "philosophers = {'David': 'Hume', 'Immanuel': 'Kant', 'Bertrand': 'Russell'}\n",
        "philosophers"
      ],
      "execution_count": 24,
      "outputs": [
        {
          "output_type": "execute_result",
          "data": {
            "text/plain": [
              "{'Bertrand': 'Russell', 'David': 'Hume', 'Immanuel': 'Kant'}"
            ]
          },
          "metadata": {
            "tags": []
          },
          "execution_count": 24
        }
      ]
    },
    {
      "cell_type": "code",
      "metadata": {
        "id": "EgiJ6eJhBTo4",
        "colab_type": "code",
        "colab": {
          "base_uri": "https://localhost:8080/",
          "height": 34
        },
        "outputId": "41525135-4c79-4a06-cffd-113e27b71bfb"
      },
      "source": [
        "#Diccionarios, mapeo de valores a partir de una llave unica y un valor\n",
        "notas = {'Fisica':4.2, 'Quimica':3.9, 'Calculo 1':4.5, 'Filosofia':3.2}\n",
        "notas"
      ],
      "execution_count": 25,
      "outputs": [
        {
          "output_type": "execute_result",
          "data": {
            "text/plain": [
              "{'Calculo 1': 4.5, 'Filosofia': 3.2, 'Fisica': 4.2, 'Quimica': 3.9}"
            ]
          },
          "metadata": {
            "tags": []
          },
          "execution_count": 25
        }
      ]
    },
    {
      "cell_type": "code",
      "metadata": {
        "id": "VG_HSoRXs8Om",
        "colab_type": "code",
        "colab": {
          "base_uri": "https://localhost:8080/",
          "height": 85
        },
        "outputId": "1ec17659-11ed-4605-9237-bbacefe7d9ce"
      },
      "source": [
        "# Like lists, dictionaries are size-mutable.\n",
        "philosophers['Ludwig'] = 'Wittgenstein'\n",
        "philosophers"
      ],
      "execution_count": 26,
      "outputs": [
        {
          "output_type": "execute_result",
          "data": {
            "text/plain": [
              "{'Bertrand': 'Russell',\n",
              " 'David': 'Hume',\n",
              " 'Immanuel': 'Kant',\n",
              " 'Ludwig': 'Wittgenstein'}"
            ]
          },
          "metadata": {
            "tags": []
          },
          "execution_count": 26
        }
      ]
    },
    {
      "cell_type": "code",
      "metadata": {
        "id": "q_XLT2_WBwJ_",
        "colab_type": "code",
        "colab": {
          "base_uri": "https://localhost:8080/",
          "height": 102
        },
        "outputId": "ab3b674c-786b-4d95-cf64-9d0ce3a79340"
      },
      "source": [
        "#son modificables añadiendo o eliminando elementos\n",
        "notas['Arte'] = 4.0\n",
        "notas"
      ],
      "execution_count": 27,
      "outputs": [
        {
          "output_type": "execute_result",
          "data": {
            "text/plain": [
              "{'Arte': 4.0,\n",
              " 'Calculo 1': 4.5,\n",
              " 'Filosofia': 3.2,\n",
              " 'Fisica': 4.2,\n",
              " 'Quimica': 3.9}"
            ]
          },
          "metadata": {
            "tags": []
          },
          "execution_count": 27
        }
      ]
    },
    {
      "cell_type": "code",
      "metadata": {
        "id": "-ly4kYI8s8Os",
        "colab_type": "code",
        "colab": {
          "base_uri": "https://localhost:8080/",
          "height": 34
        },
        "outputId": "f40edf92-7d75-4a4c-bd61-8c3f43bd9c47"
      },
      "source": [
        "del philosophers['David']\n",
        "philosophers"
      ],
      "execution_count": 28,
      "outputs": [
        {
          "output_type": "execute_result",
          "data": {
            "text/plain": [
              "{'Bertrand': 'Russell', 'Immanuel': 'Kant', 'Ludwig': 'Wittgenstein'}"
            ]
          },
          "metadata": {
            "tags": []
          },
          "execution_count": 28
        }
      ]
    },
    {
      "cell_type": "code",
      "metadata": {
        "id": "lehOof-xB-WF",
        "colab_type": "code",
        "colab": {
          "base_uri": "https://localhost:8080/",
          "height": 34
        },
        "outputId": "d334a2b3-c7e9-430d-eba4-5155e305ee1b"
      },
      "source": [
        "del notas['Filosofia']\n",
        "notas"
      ],
      "execution_count": 29,
      "outputs": [
        {
          "output_type": "execute_result",
          "data": {
            "text/plain": [
              "{'Arte': 4.0, 'Calculo 1': 4.5, 'Fisica': 4.2, 'Quimica': 3.9}"
            ]
          },
          "metadata": {
            "tags": []
          },
          "execution_count": 29
        }
      ]
    },
    {
      "cell_type": "code",
      "metadata": {
        "id": "0QzwCAfxs8Ox",
        "colab_type": "code",
        "colab": {}
      },
      "source": [
        "# No slicing.\n",
        "#philosophers['Bertrand':'Immanuel']"
      ],
      "execution_count": 30,
      "outputs": []
    },
    {
      "cell_type": "code",
      "metadata": {
        "id": "1PjARnNoCVR-",
        "colab_type": "code",
        "colab": {}
      },
      "source": [
        "#los diccionarios no se pueden seccionar como las listas"
      ],
      "execution_count": 31,
      "outputs": []
    },
    {
      "cell_type": "markdown",
      "metadata": {
        "ein.tags": "worksheet-0",
        "id": "C-i6oXjEs8O2",
        "colab_type": "text"
      },
      "source": [
        "## Review: Python Dictionaries\n",
        "\n",
        "- Unordered key-value mapping from (almost) arbitrary keys to arbitrary values.\n",
        "- Efficient (`O(1)`) lookup, insertion, and deletion.\n",
        "- No slicing (would require a notion of order)."
      ]
    },
    {
      "cell_type": "code",
      "metadata": {
        "id": "YCIU4Sxms8O3",
        "colab_type": "code",
        "colab": {}
      },
      "source": [
        "# Suppose we have some matrices...\n",
        "a = [[1, 2, 3],\n",
        "     [2, 3, 4],\n",
        "     [5, 6, 7],\n",
        "     [1, 1, 1]]\n",
        "\n",
        "b = [[1, 2, 3, 4],\n",
        "     [2, 3, 4, 5]]"
      ],
      "execution_count": 32,
      "outputs": []
    },
    {
      "cell_type": "code",
      "metadata": {
        "id": "QPKQYjvzCk-S",
        "colab_type": "code",
        "colab": {}
      },
      "source": [
        "A = [[0,1,1],\n",
        "     [1,2,5],\n",
        "     [6,0,9]]\n",
        "\n",
        "B = [[1,4,7],\n",
        "     [2,3,9],\n",
        "     [0,1,2]]  \n"
      ],
      "execution_count": 33,
      "outputs": []
    },
    {
      "cell_type": "code",
      "metadata": {
        "id": "2SMdi_Kns8O8",
        "colab_type": "code",
        "colab": {}
      },
      "source": [
        "def matmul(A, B):\n",
        "    \"\"\"Multiply matrix A by matrix B.\"\"\"\n",
        "    rows_out = len(A)\n",
        "    cols_out = len(B[0])\n",
        "    out = [[0 for col in range(cols_out)] for row in range(rows_out)]\n",
        "    \n",
        "    for i in range(rows_out):\n",
        "        for j in range(cols_out):\n",
        "            for k in range(len(B)):\n",
        "                out[i][j] += A[i][k] * B[k][j]\n",
        "    return out"
      ],
      "execution_count": 34,
      "outputs": []
    },
    {
      "cell_type": "code",
      "metadata": {
        "id": "1MWg50-ls8PC",
        "colab_type": "code",
        "colab": {
          "base_uri": "https://localhost:8080/",
          "height": 68
        },
        "outputId": "cdf0cd45-0081-42d0-b58c-c83d809a83c4"
      },
      "source": [
        "%%time\n",
        "\n",
        "matmul(a, b)"
      ],
      "execution_count": 35,
      "outputs": [
        {
          "output_type": "stream",
          "text": [
            "CPU times: user 35 µs, sys: 0 ns, total: 35 µs\n",
            "Wall time: 40.3 µs\n"
          ],
          "name": "stdout"
        },
        {
          "output_type": "execute_result",
          "data": {
            "text/plain": [
              "[[5, 8, 11, 14], [8, 13, 18, 23], [17, 28, 39, 50], [3, 5, 7, 9]]"
            ]
          },
          "metadata": {
            "tags": []
          },
          "execution_count": 35
        }
      ]
    },
    {
      "cell_type": "code",
      "metadata": {
        "id": "Ea1UDcNiIvPN",
        "colab_type": "code",
        "colab": {
          "base_uri": "https://localhost:8080/",
          "height": 68
        },
        "outputId": "3723a4b5-2bfa-4dfc-b9af-cbea41c516bb"
      },
      "source": [
        "%%time\n",
        "matmul(A,B)"
      ],
      "execution_count": 36,
      "outputs": [
        {
          "output_type": "stream",
          "text": [
            "CPU times: user 23 µs, sys: 5 µs, total: 28 µs\n",
            "Wall time: 31.7 µs\n"
          ],
          "name": "stdout"
        },
        {
          "output_type": "execute_result",
          "data": {
            "text/plain": [
              "[[2, 4, 11], [5, 15, 35], [6, 33, 60]]"
            ]
          },
          "metadata": {
            "tags": []
          },
          "execution_count": 36
        }
      ]
    },
    {
      "cell_type": "code",
      "metadata": {
        "id": "6nXJx3t3s8PG",
        "colab_type": "code",
        "colab": {
          "base_uri": "https://localhost:8080/",
          "height": 51
        },
        "outputId": "998483a7-f592-469d-ffd3-e1cc22c24efd"
      },
      "source": [
        "import random\n",
        "def random_matrix(m, n):\n",
        "    out = []\n",
        "    for row in range(m):\n",
        "        out.append([random.random() for _ in range(n)])\n",
        "    return out\n",
        "\n",
        "randm = random_matrix(2, 3)\n",
        "randm"
      ],
      "execution_count": 37,
      "outputs": [
        {
          "output_type": "execute_result",
          "data": {
            "text/plain": [
              "[[0.02166869197659893, 0.5747056189626042, 0.6691095582386547],\n",
              " [0.8711575336112014, 0.33784968481166255, 0.7606802732871605]]"
            ]
          },
          "metadata": {
            "tags": []
          },
          "execution_count": 37
        }
      ]
    },
    {
      "cell_type": "code",
      "metadata": {
        "id": "1-I7WupbNETc",
        "colab_type": "code",
        "colab": {
          "base_uri": "https://localhost:8080/",
          "height": 1000
        },
        "outputId": "cb5c07f8-0f50-48fe-c921-cec1435ce228"
      },
      "source": [
        "rdm_A = random_matrix(30,20)\n",
        "rdm_A"
      ],
      "execution_count": 38,
      "outputs": [
        {
          "output_type": "execute_result",
          "data": {
            "text/plain": [
              "[[0.2187593464100639,\n",
              "  0.6059548791937581,\n",
              "  0.5228231909458115,\n",
              "  0.6127848791156129,\n",
              "  0.5397883074168264,\n",
              "  0.6437804719295146,\n",
              "  0.49222778604492656,\n",
              "  0.20715030349508667,\n",
              "  0.5543045513331132,\n",
              "  0.35486445821554025,\n",
              "  0.40761079294437463,\n",
              "  0.10864818112064312,\n",
              "  0.7191342372681166,\n",
              "  0.6766264010195533,\n",
              "  0.6370784407020396,\n",
              "  0.4679374734140923,\n",
              "  0.6658061303196651,\n",
              "  0.8600197215671375,\n",
              "  0.1745257079860667,\n",
              "  0.2207518922728231],\n",
              " [0.863377898363574,\n",
              "  0.1813751961942155,\n",
              "  0.44309817097204796,\n",
              "  0.23195646214042132,\n",
              "  0.9132800085984053,\n",
              "  0.5591508042769078,\n",
              "  0.7188714800258721,\n",
              "  0.22593341191742777,\n",
              "  0.7535680432427572,\n",
              "  0.7539454070287351,\n",
              "  0.7955693899666552,\n",
              "  0.6604743911671216,\n",
              "  0.6188020637799325,\n",
              "  0.16499953256304067,\n",
              "  0.886404594818444,\n",
              "  0.5269893782621505,\n",
              "  0.20171440560637954,\n",
              "  0.13677918028855962,\n",
              "  0.8900902832859197,\n",
              "  0.6305479518996115],\n",
              " [0.3059560132335156,\n",
              "  0.1083719109176684,\n",
              "  0.29600424549258253,\n",
              "  0.6466661628646206,\n",
              "  0.8948175384198325,\n",
              "  0.6777407966751914,\n",
              "  0.8105250047437627,\n",
              "  0.6893465507723192,\n",
              "  0.44792510477950054,\n",
              "  0.26458368086548834,\n",
              "  0.31348575786112653,\n",
              "  0.9201828575016117,\n",
              "  0.07158553681128987,\n",
              "  0.05834871928364238,\n",
              "  0.598885309052111,\n",
              "  0.22224084962618318,\n",
              "  0.14425248185684603,\n",
              "  0.6940428091071595,\n",
              "  0.5549055320231032,\n",
              "  0.11057323663266039],\n",
              " [0.8809363417821574,\n",
              "  0.053586720553482015,\n",
              "  0.2656449285919833,\n",
              "  0.8863752150505245,\n",
              "  0.15754567568400601,\n",
              "  0.9574335561911712,\n",
              "  0.3609824014395471,\n",
              "  0.2513543016759784,\n",
              "  0.6931992800806475,\n",
              "  0.1393947914985174,\n",
              "  0.027914058201008562,\n",
              "  0.6540400668862393,\n",
              "  0.8346582953716761,\n",
              "  0.9813752748852805,\n",
              "  0.8243565767390497,\n",
              "  0.2250698707435076,\n",
              "  0.9158773723415462,\n",
              "  0.659998233926649,\n",
              "  0.42544926624986235,\n",
              "  0.21220300395560443],\n",
              " [0.4987426187138526,\n",
              "  0.7092811562969303,\n",
              "  0.44681070609671836,\n",
              "  0.6638095523905769,\n",
              "  0.8803474594581165,\n",
              "  0.27148797599137764,\n",
              "  0.8239475512126222,\n",
              "  0.7065939311945714,\n",
              "  0.5331663982068449,\n",
              "  0.6538724276425639,\n",
              "  0.10854482068298466,\n",
              "  0.7635593716516552,\n",
              "  0.950918479836115,\n",
              "  0.7082116945529399,\n",
              "  0.84622491914961,\n",
              "  0.721019729877226,\n",
              "  0.6020988773964598,\n",
              "  0.04153236946662908,\n",
              "  0.4169417778485771,\n",
              "  0.8229147283308554],\n",
              " [0.8401979812174357,\n",
              "  0.325749183754093,\n",
              "  0.7450444125443316,\n",
              "  0.35551853936707345,\n",
              "  0.9902466784147655,\n",
              "  0.028520273605130875,\n",
              "  0.3909797112282515,\n",
              "  0.8986382052208649,\n",
              "  0.4443348124374762,\n",
              "  0.3471381235563794,\n",
              "  0.6156875182951758,\n",
              "  0.4357739142485999,\n",
              "  0.31661261381315364,\n",
              "  0.5351651347906929,\n",
              "  0.8924100432037315,\n",
              "  0.23611304781455067,\n",
              "  0.5365632101953485,\n",
              "  0.9282502904188722,\n",
              "  0.16120279367407242,\n",
              "  0.5834287874020091],\n",
              " [0.11159314804877585,\n",
              "  0.7568107397026954,\n",
              "  0.03570837039127117,\n",
              "  0.00803853698449386,\n",
              "  0.4130891603300767,\n",
              "  0.39290306980904954,\n",
              "  0.4535227718452366,\n",
              "  0.14338054258014776,\n",
              "  0.8872001853638066,\n",
              "  0.750938324335342,\n",
              "  0.8078775594685397,\n",
              "  0.44623030931369234,\n",
              "  0.8934746982693429,\n",
              "  0.9288787008233643,\n",
              "  0.6260844307814096,\n",
              "  0.42538671646964465,\n",
              "  0.07078598026998961,\n",
              "  0.4307060608279264,\n",
              "  0.5124124107770692,\n",
              "  0.1386843855837132],\n",
              " [0.8052594129284684,\n",
              "  0.946558161241764,\n",
              "  0.6068035933294473,\n",
              "  0.00413290879371464,\n",
              "  0.01007594291074232,\n",
              "  0.6754864780141572,\n",
              "  0.8585394152102059,\n",
              "  0.7485150834545057,\n",
              "  0.8152543277452841,\n",
              "  0.06274983845417337,\n",
              "  0.869373240085385,\n",
              "  0.08173756773079077,\n",
              "  0.5614184260412199,\n",
              "  0.8661640184840587,\n",
              "  0.7152038121224931,\n",
              "  0.20867761152842035,\n",
              "  0.31613795695679325,\n",
              "  0.5124179802631774,\n",
              "  0.5840480815550068,\n",
              "  0.1774697604416995],\n",
              " [0.38522918326907507,\n",
              "  0.8062549235220157,\n",
              "  0.8991084962571237,\n",
              "  0.02264086103719032,\n",
              "  0.23497289477464167,\n",
              "  0.5498429095970147,\n",
              "  0.2737935697564009,\n",
              "  0.5577006392198411,\n",
              "  0.1775331730249926,\n",
              "  0.42694693116799476,\n",
              "  0.8806271550588054,\n",
              "  0.3912735793685419,\n",
              "  0.2715403273981062,\n",
              "  0.14674499713724776,\n",
              "  0.43540570392126043,\n",
              "  0.8989133257806864,\n",
              "  0.8378246345165886,\n",
              "  0.8283660486355686,\n",
              "  0.7728718625447176,\n",
              "  0.1825219129994088],\n",
              " [0.9445290673576658,\n",
              "  0.547568376660093,\n",
              "  0.38788990136254775,\n",
              "  0.5114556762354721,\n",
              "  0.11815894812201977,\n",
              "  0.23660244015212817,\n",
              "  0.6059650113937839,\n",
              "  0.43448755822480944,\n",
              "  0.7161229713776974,\n",
              "  0.8550300800575485,\n",
              "  0.9989871318439743,\n",
              "  0.6963603706342026,\n",
              "  0.2701683295561004,\n",
              "  0.47483669342485135,\n",
              "  0.5983149800960552,\n",
              "  0.5275472446007834,\n",
              "  0.7568433123373547,\n",
              "  0.9878952596152911,\n",
              "  0.7345123544698225,\n",
              "  0.8634516958587679],\n",
              " [0.2811099459509351,\n",
              "  0.9230697703254992,\n",
              "  0.2781862451807624,\n",
              "  0.3154838366678123,\n",
              "  0.03607230762781988,\n",
              "  0.549798435705823,\n",
              "  0.3740366335446871,\n",
              "  0.9347302958607455,\n",
              "  0.8986778983349161,\n",
              "  0.9475472128841138,\n",
              "  0.3060605048469318,\n",
              "  0.029620830177004454,\n",
              "  0.5551744790233711,\n",
              "  0.7307282323365903,\n",
              "  0.23061123280762308,\n",
              "  0.6183259071262143,\n",
              "  0.6502835150413828,\n",
              "  0.5756289238866769,\n",
              "  0.7017245457971435,\n",
              "  0.40420609974965327],\n",
              " [0.5358232000371678,\n",
              "  0.8900574869121014,\n",
              "  0.9196155530631193,\n",
              "  0.4919078392370482,\n",
              "  0.9390930855416433,\n",
              "  0.7112387844347349,\n",
              "  0.27854647289197243,\n",
              "  0.25568458152570006,\n",
              "  0.9593544087827964,\n",
              "  0.6168463171495187,\n",
              "  0.40513737619274326,\n",
              "  0.8379108224391445,\n",
              "  0.09942931488437179,\n",
              "  0.9846552786722002,\n",
              "  0.805184882592468,\n",
              "  0.8803500725997793,\n",
              "  0.7281944493177583,\n",
              "  0.7700161535880005,\n",
              "  0.49299556685810764,\n",
              "  0.2562965031258718],\n",
              " [0.34309509442368635,\n",
              "  0.6142114080837536,\n",
              "  0.36509873057565045,\n",
              "  0.7051663608112474,\n",
              "  0.36929604320820975,\n",
              "  0.8967527857620008,\n",
              "  0.270721797255865,\n",
              "  0.032258857822318854,\n",
              "  0.882709711210969,\n",
              "  0.8342617766622866,\n",
              "  0.5555838990574086,\n",
              "  0.9943419562662497,\n",
              "  0.04415810013976418,\n",
              "  0.20167100946159056,\n",
              "  0.5703482300083471,\n",
              "  0.7460529693071621,\n",
              "  0.016164548985256544,\n",
              "  0.9695887763156317,\n",
              "  0.8422973791235276,\n",
              "  0.06045759294785036],\n",
              " [0.5658509366290064,\n",
              "  0.7952390751919962,\n",
              "  0.5753271428411957,\n",
              "  0.19339100565356637,\n",
              "  0.6764259669910733,\n",
              "  0.9284426686743189,\n",
              "  0.5598420268427667,\n",
              "  0.2326499242159541,\n",
              "  0.6161826942518998,\n",
              "  0.9260760494107334,\n",
              "  0.4359880176977903,\n",
              "  0.12178066534822674,\n",
              "  0.18817557793825979,\n",
              "  0.35604799894761063,\n",
              "  0.3927517121621249,\n",
              "  0.928347920160565,\n",
              "  0.21483012017263403,\n",
              "  0.7218580373028214,\n",
              "  0.6892722048509958,\n",
              "  0.5323163628411731],\n",
              " [0.021111873820434446,\n",
              "  0.6241082906858416,\n",
              "  0.4054375429314937,\n",
              "  0.4107311627009975,\n",
              "  0.8964381393905063,\n",
              "  0.1475709415489047,\n",
              "  0.7506207316234091,\n",
              "  0.6799271309321844,\n",
              "  0.5618544378486393,\n",
              "  0.12818542720905424,\n",
              "  0.16867744219188108,\n",
              "  0.22111276115757783,\n",
              "  0.40230234082629557,\n",
              "  0.5581387332309388,\n",
              "  0.5356104263733984,\n",
              "  0.8977264200738613,\n",
              "  0.6587423159450605,\n",
              "  0.4138839193785381,\n",
              "  0.8505659899889298,\n",
              "  0.05046646595666493],\n",
              " [0.7778607369713102,\n",
              "  0.318958127015156,\n",
              "  0.16931598781494084,\n",
              "  0.060866633177092844,\n",
              "  0.8352454569137505,\n",
              "  0.5306692577474212,\n",
              "  0.13832232872744998,\n",
              "  0.36078480318917283,\n",
              "  0.2995784668159962,\n",
              "  0.3499360755114598,\n",
              "  0.5495655868474143,\n",
              "  0.9003589360085832,\n",
              "  0.47856066682681797,\n",
              "  0.43454897074323084,\n",
              "  0.722171333144576,\n",
              "  0.06759394322996826,\n",
              "  0.12108344822017736,\n",
              "  0.4902168043639985,\n",
              "  0.2815095429982991,\n",
              "  0.7070921560039415],\n",
              " [0.9653777920883777,\n",
              "  0.6770810277946177,\n",
              "  0.10776272715888768,\n",
              "  0.6350573849082821,\n",
              "  0.08286618090649045,\n",
              "  0.8970714129287589,\n",
              "  0.9759157001507395,\n",
              "  0.6216063956391935,\n",
              "  0.7129129591968504,\n",
              "  0.9395459523646897,\n",
              "  0.20777635826529872,\n",
              "  0.7379866522089849,\n",
              "  0.27579384816487607,\n",
              "  0.2083422989616892,\n",
              "  0.8438487247962103,\n",
              "  0.8116381989463127,\n",
              "  0.22689167638827723,\n",
              "  0.3295053987458978,\n",
              "  0.8121275180072542,\n",
              "  0.5365712413031943],\n",
              " [0.7748805340158836,\n",
              "  0.4817527287707557,\n",
              "  0.1350658467486443,\n",
              "  0.7501507209882424,\n",
              "  0.5740383739412012,\n",
              "  0.8085603448392996,\n",
              "  0.5764798192033505,\n",
              "  0.00794152401617898,\n",
              "  0.8980793018622322,\n",
              "  0.18607104713706535,\n",
              "  0.16775509801749566,\n",
              "  0.3466733281944765,\n",
              "  0.9062666454868313,\n",
              "  0.11443899580367167,\n",
              "  0.7658194753277244,\n",
              "  0.9301727563388017,\n",
              "  0.08490095978708201,\n",
              "  0.0719045603737466,\n",
              "  0.11439256664806763,\n",
              "  0.623982467644106],\n",
              " [0.30533528390284137,\n",
              "  0.15812011945647841,\n",
              "  0.33372639036266105,\n",
              "  0.8617609970933907,\n",
              "  0.5778320683889178,\n",
              "  0.07475491927622602,\n",
              "  0.09281848761145939,\n",
              "  0.16386265224881436,\n",
              "  0.43728805746158694,\n",
              "  0.6896659793464319,\n",
              "  0.2421180222343533,\n",
              "  0.5272790767681886,\n",
              "  0.12201425779130903,\n",
              "  0.4948655090954005,\n",
              "  0.13077120942838594,\n",
              "  0.6031963915210731,\n",
              "  0.8431406092192847,\n",
              "  0.926428917183902,\n",
              "  0.06219963630798331,\n",
              "  0.24882140017975474],\n",
              " [0.5280690043171363,\n",
              "  0.6472803557428232,\n",
              "  0.5835451932383895,\n",
              "  0.9560286661791908,\n",
              "  0.13639274942131707,\n",
              "  0.3080345242143754,\n",
              "  0.6060354708768625,\n",
              "  0.5808164377751586,\n",
              "  0.023828670625581583,\n",
              "  0.6164232046167604,\n",
              "  0.351353746425056,\n",
              "  0.18998025258910567,\n",
              "  0.3688760701706273,\n",
              "  0.707439554900684,\n",
              "  0.0598481836347845,\n",
              "  0.2176453083940766,\n",
              "  0.7215265883418013,\n",
              "  0.27436437619135357,\n",
              "  0.14027475969196035,\n",
              "  0.4903912703828427],\n",
              " [0.7472150621232715,\n",
              "  0.7582849976464454,\n",
              "  0.4718306262178015,\n",
              "  0.3217414292094064,\n",
              "  0.7527928123845219,\n",
              "  0.880750086374227,\n",
              "  0.616316356643434,\n",
              "  0.9797502703601612,\n",
              "  0.04365047118822829,\n",
              "  0.035224493991131256,\n",
              "  0.2166929591251081,\n",
              "  0.7841299952951923,\n",
              "  0.7396294534825919,\n",
              "  0.7468887415624997,\n",
              "  0.27502530716707896,\n",
              "  0.5885982482991124,\n",
              "  0.3718047103667622,\n",
              "  0.8354604089423943,\n",
              "  0.0016486229410991315,\n",
              "  0.7647792374571712],\n",
              " [0.6887783740889727,\n",
              "  0.0972074485070551,\n",
              "  0.7575018939633297,\n",
              "  0.3209871600508063,\n",
              "  0.6221643610722439,\n",
              "  0.019330314762649792,\n",
              "  0.8878668596473006,\n",
              "  0.9687012341953453,\n",
              "  0.6799641223415054,\n",
              "  0.5514264876608329,\n",
              "  0.2572949427564746,\n",
              "  0.06836383965399029,\n",
              "  0.5014209051541516,\n",
              "  0.7409976659233002,\n",
              "  0.033119776082632946,\n",
              "  0.34602104110585874,\n",
              "  0.1811872335067245,\n",
              "  0.996436934876051,\n",
              "  0.5550849540093601,\n",
              "  0.03165880581481173],\n",
              " [0.9930960263795622,\n",
              "  0.8452320604144982,\n",
              "  0.19915750343828487,\n",
              "  0.855542840225867,\n",
              "  0.25156869507983104,\n",
              "  0.12776222808538396,\n",
              "  0.1600829410460317,\n",
              "  0.041389406020066244,\n",
              "  0.7491711464125942,\n",
              "  0.6664140449597012,\n",
              "  0.23805291605080137,\n",
              "  0.2862230154010942,\n",
              "  0.41901529881070676,\n",
              "  0.8889108502458893,\n",
              "  0.03355285375751893,\n",
              "  0.9446553164215706,\n",
              "  0.8747691478024721,\n",
              "  0.9841923131239284,\n",
              "  0.6362410836791745,\n",
              "  0.09946912377372397],\n",
              " [0.6129967470591362,\n",
              "  0.5329094522309538,\n",
              "  0.041359538927890904,\n",
              "  0.24333121184030926,\n",
              "  0.9869729907342645,\n",
              "  0.5944026868274145,\n",
              "  0.7164665308317673,\n",
              "  0.6845889632252565,\n",
              "  0.12602771853077188,\n",
              "  0.5560300039814748,\n",
              "  0.5102886714381063,\n",
              "  0.42803017225099194,\n",
              "  0.17839618583822103,\n",
              "  0.6242172610773523,\n",
              "  0.1682167616746818,\n",
              "  0.8625547440821689,\n",
              "  0.5436094611655105,\n",
              "  0.20390332433434888,\n",
              "  0.6007174504907343,\n",
              "  0.7916533957987734],\n",
              " [0.5908870704194472,\n",
              "  0.6128077294662514,\n",
              "  0.7032091117992754,\n",
              "  0.9073570291117147,\n",
              "  0.6672300839645895,\n",
              "  0.30994798979998406,\n",
              "  0.3241150964545515,\n",
              "  0.8238223265180502,\n",
              "  0.19040764265814336,\n",
              "  0.965287317697605,\n",
              "  0.9628942210722096,\n",
              "  0.32042716682164885,\n",
              "  0.5884313961960561,\n",
              "  0.3758280853143078,\n",
              "  0.44337843501242324,\n",
              "  0.5675284236828567,\n",
              "  0.2771438944478162,\n",
              "  0.9071129599868285,\n",
              "  0.6431818681661279,\n",
              "  0.7252415924216177],\n",
              " [0.8958698448588854,\n",
              "  0.11843270132956318,\n",
              "  0.6313396993704963,\n",
              "  0.9979211851191517,\n",
              "  0.9080533728162284,\n",
              "  0.47781935281915133,\n",
              "  0.33395562251493993,\n",
              "  0.3245738191987342,\n",
              "  0.17388513489808488,\n",
              "  0.32009851537143974,\n",
              "  0.4831818561667838,\n",
              "  0.03976222275673835,\n",
              "  0.35696649347758547,\n",
              "  0.5855891333067583,\n",
              "  0.24949797026286158,\n",
              "  0.3006545870705428,\n",
              "  0.2744407290998221,\n",
              "  0.566701276118746,\n",
              "  0.34810632398745456,\n",
              "  0.28548384185151177],\n",
              " [0.0018053580787186219,\n",
              "  0.9712216001822204,\n",
              "  0.4854320653028126,\n",
              "  0.7577647013164982,\n",
              "  0.042384932444471946,\n",
              "  0.5004999815931714,\n",
              "  0.5521159977102735,\n",
              "  0.3475878630633742,\n",
              "  0.5768152952257076,\n",
              "  0.16441729238004277,\n",
              "  0.7772183014074451,\n",
              "  0.4953773429794571,\n",
              "  0.6668767037412092,\n",
              "  0.5777893383363093,\n",
              "  0.29683091982314136,\n",
              "  0.8697243365502436,\n",
              "  0.33293015565178896,\n",
              "  0.6614722588251222,\n",
              "  0.2258586281942715,\n",
              "  0.7144986124123234],\n",
              " [0.5798089464765365,\n",
              "  0.3545722033657641,\n",
              "  0.22198373204417887,\n",
              "  0.9542683510576708,\n",
              "  0.027609939733197586,\n",
              "  0.7094708827408787,\n",
              "  0.7524418975709897,\n",
              "  0.46302454025765216,\n",
              "  0.07364440241893522,\n",
              "  0.01678318998083439,\n",
              "  0.18657175349876365,\n",
              "  0.8654090082976745,\n",
              "  0.9686355167565058,\n",
              "  0.9364549025497596,\n",
              "  0.17767408163722553,\n",
              "  0.645091126156421,\n",
              "  0.6354575199145382,\n",
              "  0.022163989905686243,\n",
              "  0.9472178384517834,\n",
              "  0.4868930853004836],\n",
              " [0.631094771910386,\n",
              "  0.9345701343409154,\n",
              "  0.49966635641698776,\n",
              "  0.4037424413746078,\n",
              "  0.2909062076512964,\n",
              "  0.31102246958415547,\n",
              "  0.5414368808961596,\n",
              "  0.4821223394405767,\n",
              "  0.10688385119937016,\n",
              "  0.037045890841035045,\n",
              "  0.9838879041700879,\n",
              "  0.8532827112470789,\n",
              "  0.44325247748488183,\n",
              "  0.4409257737851917,\n",
              "  0.904750886921214,\n",
              "  0.6337607260118031,\n",
              "  0.9641161398696968,\n",
              "  0.430763141062681,\n",
              "  0.49833872917629785,\n",
              "  0.2892411791830134],\n",
              " [0.5731193912633539,\n",
              "  0.09589798797517568,\n",
              "  0.051355122269204356,\n",
              "  0.00709122986725963,\n",
              "  0.5309215208718006,\n",
              "  0.9244400846840016,\n",
              "  0.7669277474894246,\n",
              "  0.24908084253788954,\n",
              "  0.49704871566274733,\n",
              "  0.9490503290061398,\n",
              "  0.572213594862306,\n",
              "  0.8168480390685481,\n",
              "  0.6791789022372313,\n",
              "  0.03197717118619714,\n",
              "  0.7429668994401184,\n",
              "  0.5368708659754488,\n",
              "  0.8064747044572751,\n",
              "  0.8751209523522989,\n",
              "  0.45250208218299626,\n",
              "  0.7175788158282117]]"
            ]
          },
          "metadata": {
            "tags": []
          },
          "execution_count": 38
        }
      ]
    },
    {
      "cell_type": "code",
      "metadata": {
        "scrolled": true,
        "id": "RVzMH_Y_s8PL",
        "colab_type": "code",
        "colab": {
          "base_uri": "https://localhost:8080/",
          "height": 51
        },
        "outputId": "b5839755-5d00-42e5-8d0d-5d433630ac3b"
      },
      "source": [
        "%%time\n",
        "randa = random_matrix(600, 100)\n",
        "randb = random_matrix(100, 600)\n",
        "x = matmul(randa, randb)"
      ],
      "execution_count": 39,
      "outputs": [
        {
          "output_type": "stream",
          "text": [
            "CPU times: user 6.74 s, sys: 22.6 ms, total: 6.76 s\n",
            "Wall time: 6.82 s\n"
          ],
          "name": "stdout"
        }
      ]
    },
    {
      "cell_type": "code",
      "metadata": {
        "id": "rmK9qh4xNkxR",
        "colab_type": "code",
        "colab": {
          "base_uri": "https://localhost:8080/",
          "height": 51
        },
        "outputId": "dea775ec-a054-46f1-92f1-ae48fb838629"
      },
      "source": [
        "%%time\n",
        "rdm_A = random_matrix(30,20)\n",
        "rdm_B = random_matrix(20,30)\n",
        "y = matmul(rdm_A,rdm_B)"
      ],
      "execution_count": 40,
      "outputs": [
        {
          "output_type": "stream",
          "text": [
            "CPU times: user 5.77 ms, sys: 34 µs, total: 5.81 ms\n",
            "Wall time: 7.27 ms\n"
          ],
          "name": "stdout"
        }
      ]
    },
    {
      "cell_type": "code",
      "metadata": {
        "id": "xoWyLsHps8PQ",
        "colab_type": "code",
        "colab": {}
      },
      "source": [
        "# Maybe that's not that bad?  Let's try a simpler case.\n",
        "def python_dot_product(xs, ys):\n",
        "    return sum(x * y for x, y in zip(xs, ys))"
      ],
      "execution_count": 41,
      "outputs": []
    },
    {
      "cell_type": "code",
      "metadata": {
        "id": "ErGgiqDZs8PV",
        "colab_type": "code",
        "colab": {}
      },
      "source": [
        "%%fortran\n",
        "subroutine fortran_dot_product(xs, ys, result)\n",
        "    double precision, intent(in) :: xs(:)\n",
        "    double precision, intent(in) :: ys(:)\n",
        "    double precision, intent(out) :: result\n",
        "    \n",
        "    result = sum(xs * ys)\n",
        "end"
      ],
      "execution_count": 42,
      "outputs": []
    },
    {
      "cell_type": "code",
      "metadata": {
        "id": "1P_0d-0is8PZ",
        "colab_type": "code",
        "colab": {}
      },
      "source": [
        "list_data = [float(i) for i in range(100000)]\n",
        "array_data = np.array(list_data)"
      ],
      "execution_count": 43,
      "outputs": []
    },
    {
      "cell_type": "code",
      "metadata": {
        "id": "5sbMBvsGO4Cm",
        "colab_type": "code",
        "colab": {}
      },
      "source": [
        "ld_B = [float(j) for j in range(200000)]\n",
        "ad_B = np.array(ld_B)"
      ],
      "execution_count": 44,
      "outputs": []
    },
    {
      "cell_type": "code",
      "metadata": {
        "id": "7dGogjdXs8Pc",
        "colab_type": "code",
        "colab": {
          "base_uri": "https://localhost:8080/",
          "height": 68
        },
        "outputId": "524edbb0-0b14-4c8e-f625-191e58b80f61"
      },
      "source": [
        "%%time\n",
        "python_dot_product(list_data, list_data)"
      ],
      "execution_count": 45,
      "outputs": [
        {
          "output_type": "stream",
          "text": [
            "CPU times: user 9.19 ms, sys: 10 µs, total: 9.2 ms\n",
            "Wall time: 9.5 ms\n"
          ],
          "name": "stdout"
        },
        {
          "output_type": "execute_result",
          "data": {
            "text/plain": [
              "333328333350000.0"
            ]
          },
          "metadata": {
            "tags": []
          },
          "execution_count": 45
        }
      ]
    },
    {
      "cell_type": "code",
      "metadata": {
        "id": "-cbuGQwePGpe",
        "colab_type": "code",
        "colab": {
          "base_uri": "https://localhost:8080/",
          "height": 68
        },
        "outputId": "fdafa988-1af4-4c84-fb0d-2884ed23ff09"
      },
      "source": [
        "%%time\n",
        "python_dot_product(ld_B,ld_B)"
      ],
      "execution_count": 46,
      "outputs": [
        {
          "output_type": "stream",
          "text": [
            "CPU times: user 20.6 ms, sys: 0 ns, total: 20.6 ms\n",
            "Wall time: 21.9 ms\n"
          ],
          "name": "stdout"
        },
        {
          "output_type": "execute_result",
          "data": {
            "text/plain": [
              "2666646666700000.0"
            ]
          },
          "metadata": {
            "tags": []
          },
          "execution_count": 46
        }
      ]
    },
    {
      "cell_type": "code",
      "metadata": {
        "id": "3jmPoFqJs8Pg",
        "colab_type": "code",
        "colab": {
          "base_uri": "https://localhost:8080/",
          "height": 68
        },
        "outputId": "34ad5371-b1ee-4f8e-ed24-5d72a365f96a"
      },
      "source": [
        "%%time\n",
        "fortran_dot_product(array_data, array_data)"
      ],
      "execution_count": 47,
      "outputs": [
        {
          "output_type": "stream",
          "text": [
            "CPU times: user 199 µs, sys: 9 µs, total: 208 µs\n",
            "Wall time: 219 µs\n"
          ],
          "name": "stdout"
        },
        {
          "output_type": "execute_result",
          "data": {
            "text/plain": [
              "333328333350000.0"
            ]
          },
          "metadata": {
            "tags": []
          },
          "execution_count": 47
        }
      ]
    },
    {
      "cell_type": "code",
      "metadata": {
        "id": "rr5dAP7ePahB",
        "colab_type": "code",
        "colab": {
          "base_uri": "https://localhost:8080/",
          "height": 68
        },
        "outputId": "e730dbb4-2d24-4b21-83cf-6b1c3edce7a0"
      },
      "source": [
        "%%time\n",
        "fortran_dot_product(ad_B, ad_B)"
      ],
      "execution_count": 48,
      "outputs": [
        {
          "output_type": "stream",
          "text": [
            "CPU times: user 382 µs, sys: 17 µs, total: 399 µs\n",
            "Wall time: 409 µs\n"
          ],
          "name": "stdout"
        },
        {
          "output_type": "execute_result",
          "data": {
            "text/plain": [
              "2666646666700000.0"
            ]
          },
          "metadata": {
            "tags": []
          },
          "execution_count": 48
        }
      ]
    },
    {
      "cell_type": "markdown",
      "metadata": {
        "id": "EBtX50Svs8Pk",
        "colab_type": "text"
      },
      "source": [
        "<center><img src=\"images/sloth.gif\" alt=\"Drawing\" style=\"width: 1080px;\"/></center>\n"
      ]
    },
    {
      "cell_type": "markdown",
      "metadata": {
        "id": "wK8rglvAs8Pn",
        "colab_type": "text"
      },
      "source": [
        "## Why is the Python Version so Much Slower?"
      ]
    },
    {
      "cell_type": "code",
      "metadata": {
        "id": "Uwv_bplis8Pp",
        "colab_type": "code",
        "colab": {
          "base_uri": "https://localhost:8080/",
          "height": 0
        },
        "outputId": "1be67211-74d7-4ae9-9a9e-f7ae53adb58a"
      },
      "source": [
        "# Dynamic typing.\n",
        "def mul_elemwise(xs, ys):\n",
        "    return [x * y for x, y in zip(xs, ys)]\n",
        "\n",
        "mul_elemwise([1, 2, 3, 4], [1, 2 + 0j, 3.0, 'four'])\n",
        "#[type(x) for x in _]"
      ],
      "execution_count": 49,
      "outputs": [
        {
          "output_type": "execute_result",
          "data": {
            "text/plain": [
              "[1, (4+0j), 9.0, 'fourfourfourfour']"
            ]
          },
          "metadata": {
            "tags": []
          },
          "execution_count": 49
        }
      ]
    },
    {
      "cell_type": "code",
      "metadata": {
        "id": "2yui_2GGPx2U",
        "colab_type": "code",
        "colab": {
          "base_uri": "https://localhost:8080/",
          "height": 0
        },
        "outputId": "51a57427-ba4c-49ab-e442-44a8a1bb4d93"
      },
      "source": [
        "mul_elemwise([1, 2.25, 78.1, 2], [12, 2 + 3j, 7.859, 'number'])\n",
        "#[type(x) for x in _]"
      ],
      "execution_count": 50,
      "outputs": [
        {
          "output_type": "execute_result",
          "data": {
            "text/plain": [
              "[12, (4.5+6.75j), 613.7878999999999, 'numbernumber']"
            ]
          },
          "metadata": {
            "tags": []
          },
          "execution_count": 50
        }
      ]
    },
    {
      "cell_type": "code",
      "metadata": {
        "id": "fKamBY-vs8Pr",
        "colab_type": "code",
        "colab": {
          "base_uri": "https://localhost:8080/",
          "height": 0
        },
        "outputId": "2a941ac9-e5d0-4e54-c962-2b02b7716bfa"
      },
      "source": [
        "# Interpretation overhead.\n",
        "source_code = 'a + b * c'\n",
        "bytecode = compile(source_code, '', 'eval')\n",
        "import dis; dis.dis(bytecode)"
      ],
      "execution_count": 51,
      "outputs": [
        {
          "output_type": "stream",
          "text": [
            "  1           0 LOAD_NAME                0 (a)\n",
            "              2 LOAD_NAME                1 (b)\n",
            "              4 LOAD_NAME                2 (c)\n",
            "              6 BINARY_MULTIPLY\n",
            "              8 BINARY_ADD\n",
            "             10 RETURN_VALUE\n"
          ],
          "name": "stdout"
        }
      ]
    },
    {
      "cell_type": "code",
      "metadata": {
        "id": "wq2tuGaJQDdf",
        "colab_type": "code",
        "colab": {
          "base_uri": "https://localhost:8080/",
          "height": 0
        },
        "outputId": "cecb1c6f-6891-48f5-faa2-923e504fa66f"
      },
      "source": [
        "sc_B = 'a*b+ (c**d)/e'\n",
        "bytecode = compile(sc_B, '', 'eval')\n",
        "dis.dis(bytecode)"
      ],
      "execution_count": 52,
      "outputs": [
        {
          "output_type": "stream",
          "text": [
            "  1           0 LOAD_NAME                0 (a)\n",
            "              2 LOAD_NAME                1 (b)\n",
            "              4 BINARY_MULTIPLY\n",
            "              6 LOAD_NAME                2 (c)\n",
            "              8 LOAD_NAME                3 (d)\n",
            "             10 BINARY_POWER\n",
            "             12 LOAD_NAME                4 (e)\n",
            "             14 BINARY_TRUE_DIVIDE\n",
            "             16 BINARY_ADD\n",
            "             18 RETURN_VALUE\n"
          ],
          "name": "stdout"
        }
      ]
    },
    {
      "cell_type": "markdown",
      "metadata": {
        "id": "8_rGpo63s8Px",
        "colab_type": "text"
      },
      "source": [
        "## Why is the Python Version so Slow?\n",
        "- Dynamic typing means that every single operation requires dispatching on the input type.\n",
        "- Having an interpreter means that every instruction is fetched and dispatched at runtime.\n",
        "- Other overheads:\n",
        "  - Arbitrary-size integers.\n",
        "  - Reference-counted garbage collection."
      ]
    },
    {
      "cell_type": "markdown",
      "metadata": {
        "id": "KbYwZmOLs8Px",
        "colab_type": "text"
      },
      "source": [
        "> This is the paradox that we have to work with when we're doing scientific or numerically-intensive Python. What makes Python fast for development -- this high-level, interpreted, and dynamically-typed aspect of the language -- is exactly what makes it slow for code execution.\n",
        "\n",
        "- Jake VanderPlas, [*Losing Your Loops: Fast Numerical Computing with NumPy*](https://www.youtube.com/watch?v=EEUXKG97YRw)"
      ]
    },
    {
      "cell_type": "markdown",
      "metadata": {
        "id": "DugbPBE2s8Pz",
        "colab_type": "text"
      },
      "source": [
        "# What Do We Do?"
      ]
    },
    {
      "cell_type": "markdown",
      "metadata": {
        "id": "fcAu-mkgs8Pz",
        "colab_type": "text"
      },
      "source": [
        "<center><img src=\"images/runaway.gif\" alt=\"Drawing\" style=\"width: 50%;\"/></center>"
      ]
    },
    {
      "cell_type": "markdown",
      "metadata": {
        "id": "s1GTVm9_s8P0",
        "colab_type": "text"
      },
      "source": [
        "<center><img src=\"images/thisisfine.gif\" alt=\"Drawing\" style=\"width: 1080px;\"/></center>"
      ]
    },
    {
      "cell_type": "markdown",
      "metadata": {
        "id": "bPdFahVIs8P1",
        "colab_type": "text"
      },
      "source": [
        "- Python is slow for numerical computation because it performs dynamic dispatch on every operation we perform..."
      ]
    },
    {
      "cell_type": "markdown",
      "metadata": {
        "collapsed": true,
        "id": "dlKrBo7Is8P1",
        "colab_type": "text"
      },
      "source": [
        "- ...but often, we just want to do the same thing over and over in a loop!"
      ]
    },
    {
      "cell_type": "markdown",
      "metadata": {
        "id": "20qShwc3s8P3",
        "colab_type": "text"
      },
      "source": [
        "- If we don't need Python's dynamicism, we don't want to pay (much) for it."
      ]
    },
    {
      "cell_type": "markdown",
      "metadata": {
        "id": "lEAQ-zfNs8P3",
        "colab_type": "text"
      },
      "source": [
        "- **Idea:** Dispatch **once per operation** instead of **once per element**."
      ]
    },
    {
      "cell_type": "code",
      "metadata": {
        "id": "LSOLgXads8P3",
        "colab_type": "code",
        "colab": {
          "base_uri": "https://localhost:8080/",
          "height": 34
        },
        "outputId": "7747a303-affe-43d5-fe53-76d54bdb373e"
      },
      "source": [
        "import numpy as np\n",
        "\n",
        "data = np.array([1, 2, 3, 4])\n",
        "data"
      ],
      "execution_count": 53,
      "outputs": [
        {
          "output_type": "execute_result",
          "data": {
            "text/plain": [
              "array([1, 2, 3, 4])"
            ]
          },
          "metadata": {
            "tags": []
          },
          "execution_count": 53
        }
      ]
    },
    {
      "cell_type": "code",
      "metadata": {
        "id": "DF0MOkMEQ5Bs",
        "colab_type": "code",
        "colab": {
          "base_uri": "https://localhost:8080/",
          "height": 34
        },
        "outputId": "5436b344-291d-430d-f14b-7dd0fa2b74df"
      },
      "source": [
        "example = np.array([67.1,32.12,4.2,18.59])\n",
        "example"
      ],
      "execution_count": 54,
      "outputs": [
        {
          "output_type": "execute_result",
          "data": {
            "text/plain": [
              "array([67.1 , 32.12,  4.2 , 18.59])"
            ]
          },
          "metadata": {
            "tags": []
          },
          "execution_count": 54
        }
      ]
    },
    {
      "cell_type": "code",
      "metadata": {
        "id": "FBEcbz1Es8P6",
        "colab_type": "code",
        "colab": {
          "base_uri": "https://localhost:8080/",
          "height": 34
        },
        "outputId": "085534c4-e34b-47c9-ac32-1713e1924b92"
      },
      "source": [
        "data + data"
      ],
      "execution_count": 55,
      "outputs": [
        {
          "output_type": "execute_result",
          "data": {
            "text/plain": [
              "array([2, 4, 6, 8])"
            ]
          },
          "metadata": {
            "tags": []
          },
          "execution_count": 55
        }
      ]
    },
    {
      "cell_type": "code",
      "metadata": {
        "id": "1IZr7HcERNL4",
        "colab_type": "code",
        "colab": {
          "base_uri": "https://localhost:8080/",
          "height": 34
        },
        "outputId": "455fb60f-03f2-4069-97a5-5e186aab5740"
      },
      "source": [
        "example * 2.25"
      ],
      "execution_count": 56,
      "outputs": [
        {
          "output_type": "execute_result",
          "data": {
            "text/plain": [
              "array([150.975 ,  72.27  ,   9.45  ,  41.8275])"
            ]
          },
          "metadata": {
            "tags": []
          },
          "execution_count": 56
        }
      ]
    },
    {
      "cell_type": "code",
      "metadata": {
        "id": "RjNApKS0s8P_",
        "colab_type": "code",
        "colab": {
          "base_uri": "https://localhost:8080/",
          "height": 68
        },
        "outputId": "22aa66a1-73e0-4c67-d50a-f5fde489fca3"
      },
      "source": [
        "%%time\n",
        "# Naive dot product\n",
        "(array_data * array_data).sum()"
      ],
      "execution_count": 57,
      "outputs": [
        {
          "output_type": "stream",
          "text": [
            "CPU times: user 220 µs, sys: 1.01 ms, total: 1.23 ms\n",
            "Wall time: 1.77 ms\n"
          ],
          "name": "stdout"
        },
        {
          "output_type": "execute_result",
          "data": {
            "text/plain": [
              "333328333350000.0"
            ]
          },
          "metadata": {
            "tags": []
          },
          "execution_count": 57
        }
      ]
    },
    {
      "cell_type": "code",
      "metadata": {
        "id": "8MNTSvGcRl2g",
        "colab_type": "code",
        "colab": {
          "base_uri": "https://localhost:8080/",
          "height": 68
        },
        "outputId": "ad589cb8-413a-47d8-a1d4-34d7817eaa84"
      },
      "source": [
        "%%time\n",
        "(ad_B*ad_B).sum()"
      ],
      "execution_count": 58,
      "outputs": [
        {
          "output_type": "stream",
          "text": [
            "CPU times: user 1.45 ms, sys: 21 µs, total: 1.47 ms\n",
            "Wall time: 1.65 ms\n"
          ],
          "name": "stdout"
        },
        {
          "output_type": "execute_result",
          "data": {
            "text/plain": [
              "2666646666700000.0"
            ]
          },
          "metadata": {
            "tags": []
          },
          "execution_count": 58
        }
      ]
    },
    {
      "cell_type": "code",
      "metadata": {
        "id": "I9zrlZmVs8QE",
        "colab_type": "code",
        "colab": {
          "base_uri": "https://localhost:8080/",
          "height": 68
        },
        "outputId": "bf831362-a804-4de5-f1de-c55535b0d52e"
      },
      "source": [
        "%%time\n",
        "# Built-in dot product.\n",
        "array_data.dot(array_data)"
      ],
      "execution_count": 59,
      "outputs": [
        {
          "output_type": "stream",
          "text": [
            "CPU times: user 940 µs, sys: 5.99 ms, total: 6.93 ms\n",
            "Wall time: 9.08 ms\n"
          ],
          "name": "stdout"
        },
        {
          "output_type": "execute_result",
          "data": {
            "text/plain": [
              "333328333350000.0"
            ]
          },
          "metadata": {
            "tags": []
          },
          "execution_count": 59
        }
      ]
    },
    {
      "cell_type": "code",
      "metadata": {
        "id": "WXKfYaVRR0z_",
        "colab_type": "code",
        "colab": {
          "base_uri": "https://localhost:8080/",
          "height": 68
        },
        "outputId": "0390b0cd-1bda-4205-f853-85569d9ff5f7"
      },
      "source": [
        "%%time\n",
        "ad_B.dot(ad_B)"
      ],
      "execution_count": 60,
      "outputs": [
        {
          "output_type": "stream",
          "text": [
            "CPU times: user 773 µs, sys: 988 µs, total: 1.76 ms\n",
            "Wall time: 2.55 ms\n"
          ],
          "name": "stdout"
        },
        {
          "output_type": "execute_result",
          "data": {
            "text/plain": [
              "2666646666700000.0"
            ]
          },
          "metadata": {
            "tags": []
          },
          "execution_count": 60
        }
      ]
    },
    {
      "cell_type": "code",
      "metadata": {
        "id": "PeYJL8k5s8QG",
        "colab_type": "code",
        "colab": {
          "base_uri": "https://localhost:8080/",
          "height": 68
        },
        "outputId": "3d261a06-e7b0-4946-9782-3e912f138fb5"
      },
      "source": [
        "%%time\n",
        "fortran_dot_product(array_data, array_data)"
      ],
      "execution_count": 61,
      "outputs": [
        {
          "output_type": "stream",
          "text": [
            "CPU times: user 96 µs, sys: 955 µs, total: 1.05 ms\n",
            "Wall time: 1.22 ms\n"
          ],
          "name": "stdout"
        },
        {
          "output_type": "execute_result",
          "data": {
            "text/plain": [
              "333328333350000.0"
            ]
          },
          "metadata": {
            "tags": []
          },
          "execution_count": 61
        }
      ]
    },
    {
      "cell_type": "code",
      "metadata": {
        "id": "skTAdo7uS9_g",
        "colab_type": "code",
        "colab": {
          "base_uri": "https://localhost:8080/",
          "height": 68
        },
        "outputId": "cc485f5b-2ca6-4b03-b53a-5c97f807b995"
      },
      "source": [
        "%%time\n",
        "fortran_dot_product(ad_B, ad_B)"
      ],
      "execution_count": 62,
      "outputs": [
        {
          "output_type": "stream",
          "text": [
            "CPU times: user 1.25 ms, sys: 0 ns, total: 1.25 ms\n",
            "Wall time: 1.38 ms\n"
          ],
          "name": "stdout"
        },
        {
          "output_type": "execute_result",
          "data": {
            "text/plain": [
              "2666646666700000.0"
            ]
          },
          "metadata": {
            "tags": []
          },
          "execution_count": 62
        }
      ]
    },
    {
      "cell_type": "code",
      "metadata": {
        "id": "2FnWs7TOs8QK",
        "colab_type": "code",
        "colab": {}
      },
      "source": [
        "# Numpy won't allow us to write a string into an int array.\n",
        "#data[0] = \"foo\""
      ],
      "execution_count": 63,
      "outputs": []
    },
    {
      "cell_type": "code",
      "metadata": {
        "id": "TvTs4NPPs8QM",
        "colab_type": "code",
        "colab": {}
      },
      "source": [
        "# We also can't grow an array once it's created.\n",
        "#data.append(3)"
      ],
      "execution_count": 64,
      "outputs": []
    },
    {
      "cell_type": "code",
      "metadata": {
        "id": "UgyauWx6s8QP",
        "colab_type": "code",
        "colab": {
          "base_uri": "https://localhost:8080/",
          "height": 51
        },
        "outputId": "f02a98bb-bb71-42de-9c90-bde1e4d5ef1c"
      },
      "source": [
        "# We **can** reshape an array though.\n",
        "two_by_two = data.reshape(2, 2)\n",
        "two_by_two"
      ],
      "execution_count": 65,
      "outputs": [
        {
          "output_type": "execute_result",
          "data": {
            "text/plain": [
              "array([[1, 2],\n",
              "       [3, 4]])"
            ]
          },
          "metadata": {
            "tags": []
          },
          "execution_count": 65
        }
      ]
    },
    {
      "cell_type": "markdown",
      "metadata": {
        "id": "1396yf3js8QR",
        "colab_type": "text"
      },
      "source": [
        "Numpy arrays are:\n",
        "\n",
        "- Fixed-type"
      ]
    },
    {
      "cell_type": "markdown",
      "metadata": {
        "id": "blRIpfnzs8QS",
        "colab_type": "text"
      },
      "source": [
        "- Size-immutable"
      ]
    },
    {
      "cell_type": "markdown",
      "metadata": {
        "id": "Uz-oeOSGs8QS",
        "colab_type": "text"
      },
      "source": [
        "- Multi-dimensional"
      ]
    },
    {
      "cell_type": "markdown",
      "metadata": {
        "id": "GLr9Cdf9s8QS",
        "colab_type": "text"
      },
      "source": [
        "- Fast\\*"
      ]
    },
    {
      "cell_type": "markdown",
      "metadata": {
        "id": "CBBjgnWIs8QT",
        "colab_type": "text"
      },
      "source": [
        "\\* If you use them correctly."
      ]
    },
    {
      "cell_type": "markdown",
      "metadata": {
        "id": "f-0MxL7zs8QV",
        "colab_type": "text"
      },
      "source": [
        "# What's in an Array?"
      ]
    },
    {
      "cell_type": "code",
      "metadata": {
        "id": "oNb8lHkos8QX",
        "colab_type": "code",
        "colab": {
          "base_uri": "https://localhost:8080/",
          "height": 153
        },
        "outputId": "f6132975-7c33-4468-a711-093fda7ef555"
      },
      "source": [
        "arr = np.array([1, 2, 3, 4, 5, 6], dtype='int16').reshape(2, 3)\n",
        "print(\"Array:\\n\", arr, sep='')\n",
        "print(\"===========\")\n",
        "print(\"DType:\", arr.dtype)\n",
        "print(\"Shape:\", arr.shape)\n",
        "print(\"Strides:\", arr.strides)\n",
        "print(\"Data:\", arr.data.tobytes())"
      ],
      "execution_count": 66,
      "outputs": [
        {
          "output_type": "stream",
          "text": [
            "Array:\n",
            "[[1 2 3]\n",
            " [4 5 6]]\n",
            "===========\n",
            "DType: int16\n",
            "Shape: (2, 3)\n",
            "Strides: (6, 2)\n",
            "Data: b'\\x01\\x00\\x02\\x00\\x03\\x00\\x04\\x00\\x05\\x00\\x06\\x00'\n"
          ],
          "name": "stdout"
        }
      ]
    },
    {
      "cell_type": "code",
      "metadata": {
        "id": "KcAuPzBvTVMX",
        "colab_type": "code",
        "colab": {
          "base_uri": "https://localhost:8080/",
          "height": 187
        },
        "outputId": "39e95eb1-9bc5-4ba6-f547-9e9c9a379e3f"
      },
      "source": [
        "arb = np.array([145,-25,74,6,-13,7,89,-12], dtype='int16').reshape(4, 2)\n",
        "print(\"Array:\\n\", arb, sep='')\n",
        "print(\"===========\")\n",
        "print(\"DType:\", arb.dtype)\n",
        "print(\"Shape:\", arb.shape)\n",
        "print(\"Strides:\", arb.strides)\n",
        "print(\"Data:\", arb.data.tobytes())"
      ],
      "execution_count": 67,
      "outputs": [
        {
          "output_type": "stream",
          "text": [
            "Array:\n",
            "[[145 -25]\n",
            " [ 74   6]\n",
            " [-13   7]\n",
            " [ 89 -12]]\n",
            "===========\n",
            "DType: int16\n",
            "Shape: (4, 2)\n",
            "Strides: (4, 2)\n",
            "Data: b'\\x91\\x00\\xe7\\xffJ\\x00\\x06\\x00\\xf3\\xff\\x07\\x00Y\\x00\\xf4\\xff'\n"
          ],
          "name": "stdout"
        }
      ]
    },
    {
      "cell_type": "markdown",
      "metadata": {
        "id": "TPuTKG5ys8Qb",
        "colab_type": "text"
      },
      "source": [
        "# Core Operations\n",
        "\n",
        "- Vectorized **ufuncs** for elementwise operations.\n",
        "- Fancy indexing and masking for selection and filtering.\n",
        "- Aggregations across axes.\n",
        "- Broadcasting"
      ]
    },
    {
      "cell_type": "markdown",
      "metadata": {
        "id": "8nBvQ3YJs8Qb",
        "colab_type": "text"
      },
      "source": [
        "# UFuncs\n",
        "\n",
        "UFuncs (universal functions) are functions that operate elementwise on one or more arrays."
      ]
    },
    {
      "cell_type": "code",
      "metadata": {
        "id": "Y5ZwEkZbs8Qc",
        "colab_type": "code",
        "colab": {
          "base_uri": "https://localhost:8080/",
          "height": 68
        },
        "outputId": "53fbb0ad-7911-4f15-abf5-bff232eda37f"
      },
      "source": [
        "data = np.arange(15).reshape(3, 5)\n",
        "data"
      ],
      "execution_count": 68,
      "outputs": [
        {
          "output_type": "execute_result",
          "data": {
            "text/plain": [
              "array([[ 0,  1,  2,  3,  4],\n",
              "       [ 5,  6,  7,  8,  9],\n",
              "       [10, 11, 12, 13, 14]])"
            ]
          },
          "metadata": {
            "tags": []
          },
          "execution_count": 68
        }
      ]
    },
    {
      "cell_type": "code",
      "metadata": {
        "id": "lHn0_7CoUw94",
        "colab_type": "code",
        "colab": {
          "base_uri": "https://localhost:8080/",
          "height": 102
        },
        "outputId": "9f133606-14f2-45f5-808c-7d51a9521e30"
      },
      "source": [
        "dt_B = np.arange(20).reshape(5, 4)\n",
        "dt_B"
      ],
      "execution_count": 69,
      "outputs": [
        {
          "output_type": "execute_result",
          "data": {
            "text/plain": [
              "array([[ 0,  1,  2,  3],\n",
              "       [ 4,  5,  6,  7],\n",
              "       [ 8,  9, 10, 11],\n",
              "       [12, 13, 14, 15],\n",
              "       [16, 17, 18, 19]])"
            ]
          },
          "metadata": {
            "tags": []
          },
          "execution_count": 69
        }
      ]
    },
    {
      "cell_type": "code",
      "metadata": {
        "id": "EbY-36Sys8Qh",
        "colab_type": "code",
        "colab": {
          "base_uri": "https://localhost:8080/",
          "height": 68
        },
        "outputId": "009e9470-3b8f-47ca-853f-c18765f96b8c"
      },
      "source": [
        "# Binary operators.\n",
        "data * data"
      ],
      "execution_count": 70,
      "outputs": [
        {
          "output_type": "execute_result",
          "data": {
            "text/plain": [
              "array([[  0,   1,   4,   9,  16],\n",
              "       [ 25,  36,  49,  64,  81],\n",
              "       [100, 121, 144, 169, 196]])"
            ]
          },
          "metadata": {
            "tags": []
          },
          "execution_count": 70
        }
      ]
    },
    {
      "cell_type": "code",
      "metadata": {
        "id": "h5i77PJlVkgt",
        "colab_type": "code",
        "colab": {
          "base_uri": "https://localhost:8080/",
          "height": 102
        },
        "outputId": "c2bfee30-f22f-4073-d54c-ec348799f7f2"
      },
      "source": [
        "dt_B/np.pi"
      ],
      "execution_count": 71,
      "outputs": [
        {
          "output_type": "execute_result",
          "data": {
            "text/plain": [
              "array([[0.        , 0.31830989, 0.63661977, 0.95492966],\n",
              "       [1.27323954, 1.59154943, 1.90985932, 2.2281692 ],\n",
              "       [2.54647909, 2.86478898, 3.18309886, 3.50140875],\n",
              "       [3.81971863, 4.13802852, 4.45633841, 4.77464829],\n",
              "       [5.09295818, 5.41126807, 5.72957795, 6.04788784]])"
            ]
          },
          "metadata": {
            "tags": []
          },
          "execution_count": 71
        }
      ]
    },
    {
      "cell_type": "code",
      "metadata": {
        "id": "4d8rJ8hJs8Qo",
        "colab_type": "code",
        "colab": {
          "base_uri": "https://localhost:8080/",
          "height": 68
        },
        "outputId": "6ea8b868-7c8d-4fc1-b459-4abcb17dd296"
      },
      "source": [
        "# Unary functions.\n",
        "np.sqrt(data)"
      ],
      "execution_count": 72,
      "outputs": [
        {
          "output_type": "execute_result",
          "data": {
            "text/plain": [
              "array([[0.        , 1.        , 1.41421356, 1.73205081, 2.        ],\n",
              "       [2.23606798, 2.44948974, 2.64575131, 2.82842712, 3.        ],\n",
              "       [3.16227766, 3.31662479, 3.46410162, 3.60555128, 3.74165739]])"
            ]
          },
          "metadata": {
            "tags": []
          },
          "execution_count": 72
        }
      ]
    },
    {
      "cell_type": "code",
      "metadata": {
        "id": "SrxiNvCyWD5a",
        "colab_type": "code",
        "colab": {
          "base_uri": "https://localhost:8080/",
          "height": 102
        },
        "outputId": "9fb90940-1e5e-455f-934c-5a9b1ee2430a"
      },
      "source": [
        "np.sin(dt_B)"
      ],
      "execution_count": 73,
      "outputs": [
        {
          "output_type": "execute_result",
          "data": {
            "text/plain": [
              "array([[ 0.        ,  0.84147098,  0.90929743,  0.14112001],\n",
              "       [-0.7568025 , -0.95892427, -0.2794155 ,  0.6569866 ],\n",
              "       [ 0.98935825,  0.41211849, -0.54402111, -0.99999021],\n",
              "       [-0.53657292,  0.42016704,  0.99060736,  0.65028784],\n",
              "       [-0.28790332, -0.96139749, -0.75098725,  0.14987721]])"
            ]
          },
          "metadata": {
            "tags": []
          },
          "execution_count": 73
        }
      ]
    },
    {
      "cell_type": "code",
      "metadata": {
        "id": "fIr5kOfXs8Qq",
        "colab_type": "code",
        "colab": {
          "base_uri": "https://localhost:8080/",
          "height": 68
        },
        "outputId": "3129e3f8-f709-4255-be4a-c8fe4f43b67b"
      },
      "source": [
        "# Comparison operations\n",
        "(data % 3) == 0"
      ],
      "execution_count": 74,
      "outputs": [
        {
          "output_type": "execute_result",
          "data": {
            "text/plain": [
              "array([[ True, False, False,  True, False],\n",
              "       [False,  True, False, False,  True],\n",
              "       [False, False,  True, False, False]])"
            ]
          },
          "metadata": {
            "tags": []
          },
          "execution_count": 74
        }
      ]
    },
    {
      "cell_type": "code",
      "metadata": {
        "id": "v3rTgMZNWJk6",
        "colab_type": "code",
        "colab": {
          "base_uri": "https://localhost:8080/",
          "height": 102
        },
        "outputId": "052eea75-b696-49a3-806c-800c437436dd"
      },
      "source": [
        "dt_B >= 0.5"
      ],
      "execution_count": 75,
      "outputs": [
        {
          "output_type": "execute_result",
          "data": {
            "text/plain": [
              "array([[False,  True,  True,  True],\n",
              "       [ True,  True,  True,  True],\n",
              "       [ True,  True,  True,  True],\n",
              "       [ True,  True,  True,  True],\n",
              "       [ True,  True,  True,  True]])"
            ]
          },
          "metadata": {
            "tags": []
          },
          "execution_count": 75
        }
      ]
    },
    {
      "cell_type": "code",
      "metadata": {
        "id": "ScQnkMH3s8Qt",
        "colab_type": "code",
        "colab": {
          "base_uri": "https://localhost:8080/",
          "height": 68
        },
        "outputId": "d0d2a6d4-7ffc-4fd1-d464-547c1f9f0c3e"
      },
      "source": [
        "# Boolean combinators.\n",
        "((data % 2) == 0) & ((data % 3) == 0)"
      ],
      "execution_count": 76,
      "outputs": [
        {
          "output_type": "execute_result",
          "data": {
            "text/plain": [
              "array([[ True, False, False, False, False],\n",
              "       [False,  True, False, False, False],\n",
              "       [False, False,  True, False, False]])"
            ]
          },
          "metadata": {
            "tags": []
          },
          "execution_count": 76
        }
      ]
    },
    {
      "cell_type": "code",
      "metadata": {
        "id": "QNJ9Y68DWwKQ",
        "colab_type": "code",
        "colab": {
          "base_uri": "https://localhost:8080/",
          "height": 102
        },
        "outputId": "01f47683-4a47-4b7f-892f-d8b680be4a5b"
      },
      "source": [
        "((dt_B%3) == 0) & (((dt_B**2)%2) == 1)"
      ],
      "execution_count": 77,
      "outputs": [
        {
          "output_type": "execute_result",
          "data": {
            "text/plain": [
              "array([[False, False, False,  True],\n",
              "       [False, False, False, False],\n",
              "       [False,  True, False, False],\n",
              "       [False, False, False,  True],\n",
              "       [False, False, False, False]])"
            ]
          },
          "metadata": {
            "tags": []
          },
          "execution_count": 77
        }
      ]
    },
    {
      "cell_type": "code",
      "metadata": {
        "id": "OJDBdWsEs8Qw",
        "colab_type": "code",
        "colab": {
          "base_uri": "https://localhost:8080/",
          "height": 68
        },
        "outputId": "40778dde-4f20-40c9-bd6a-c7d37dcd0537"
      },
      "source": [
        "# as of python 3.5, @ is matrix-multiply\n",
        "data @ data.T"
      ],
      "execution_count": 78,
      "outputs": [
        {
          "output_type": "execute_result",
          "data": {
            "text/plain": [
              "array([[ 30,  80, 130],\n",
              "       [ 80, 255, 430],\n",
              "       [130, 430, 730]])"
            ]
          },
          "metadata": {
            "tags": []
          },
          "execution_count": 78
        }
      ]
    },
    {
      "cell_type": "code",
      "metadata": {
        "id": "d-uEpgqNXLgl",
        "colab_type": "code",
        "colab": {
          "base_uri": "https://localhost:8080/",
          "height": 102
        },
        "outputId": "600a6702-2361-498e-ec3c-049a1440dad2"
      },
      "source": [
        "dt_B @ (2*dt_B.T)"
      ],
      "execution_count": 79,
      "outputs": [
        {
          "output_type": "execute_result",
          "data": {
            "text/plain": [
              "array([[  28,   76,  124,  172,  220],\n",
              "       [  76,  252,  428,  604,  780],\n",
              "       [ 124,  428,  732, 1036, 1340],\n",
              "       [ 172,  604, 1036, 1468, 1900],\n",
              "       [ 220,  780, 1340, 1900, 2460]])"
            ]
          },
          "metadata": {
            "tags": []
          },
          "execution_count": 79
        }
      ]
    },
    {
      "cell_type": "markdown",
      "metadata": {
        "id": "OG62Yt88s8Q1",
        "colab_type": "text"
      },
      "source": [
        "# UFuncs Review\n",
        "\n",
        "- UFuncs provide efficient elementwise operations applied across one or more arrays.\n",
        "- Arithmetic Operators (`+`, `*`, `/`)\n",
        "- Comparisons (`==`, `>`, `!=`)\n",
        "- Boolean Operators (`&`, `|`, `^`)\n",
        "- Trigonometric Functions (`sin`, `cos`)\n",
        "- Transcendental Functions (`exp`, `log`)"
      ]
    },
    {
      "cell_type": "markdown",
      "metadata": {
        "id": "taEFFU00s8Q1",
        "colab_type": "text"
      },
      "source": [
        "# Selections"
      ]
    },
    {
      "cell_type": "markdown",
      "metadata": {
        "id": "pjlG_IThs8Q1",
        "colab_type": "text"
      },
      "source": [
        "We often want to perform an operation on just a subset of our data."
      ]
    },
    {
      "cell_type": "code",
      "metadata": {
        "id": "-eByWQ1ds8Q1",
        "colab_type": "code",
        "colab": {
          "base_uri": "https://localhost:8080/",
          "height": 51
        },
        "outputId": "88bf8a40-d744-4897-86d3-78a588379854"
      },
      "source": [
        "sines = np.sin(np.linspace(0, 3.14, 10))\n",
        "cosines = np.cos(np.linspace(0, 3.14, 10))\n",
        "sines"
      ],
      "execution_count": 80,
      "outputs": [
        {
          "output_type": "execute_result",
          "data": {
            "text/plain": [
              "array([0.        , 0.34185385, 0.64251645, 0.86575984, 0.98468459,\n",
              "       0.98496101, 0.8665558 , 0.64373604, 0.34335012, 0.00159265])"
            ]
          },
          "metadata": {
            "tags": []
          },
          "execution_count": 80
        }
      ]
    },
    {
      "cell_type": "code",
      "metadata": {
        "id": "YSkTJ4g7Xmf9",
        "colab_type": "code",
        "colab": {
          "base_uri": "https://localhost:8080/",
          "height": 102
        },
        "outputId": "bd39bf98-d6d8-40b3-bd0a-b81d9f45f953"
      },
      "source": [
        "tan = np.tan(np.linspace(0,6.28,20))\n",
        "tan"
      ],
      "execution_count": 81,
      "outputs": [
        {
          "output_type": "execute_result",
          "data": {
            "text/plain": [
              "array([ 0.00000000e+00,  3.43113039e-01,  7.77792965e-01,  1.52893401e+00,\n",
              "        3.93781237e+00, -1.21923821e+01, -2.28601853e+00, -1.08885118e+00,\n",
              "       -5.42908169e-01, -1.68421722e-01,  1.65147806e-01,  5.38791101e-01,\n",
              "        1.08191342e+00,  2.26633049e+00,  1.17335071e+01, -3.99105827e+00,\n",
              "       -1.53961748e+00, -7.82917976e-01, -3.46677248e-01, -3.18531795e-03])"
            ]
          },
          "metadata": {
            "tags": []
          },
          "execution_count": 81
        }
      ]
    },
    {
      "cell_type": "code",
      "metadata": {
        "id": "HrsPaFsjs8Q6",
        "colab_type": "code",
        "colab": {
          "base_uri": "https://localhost:8080/",
          "height": 34
        },
        "outputId": "a6a49dcb-a2c3-4dce-cd5c-36c54896d39b"
      },
      "source": [
        "# Slicing works with the same semantics as Python lists.\n",
        "sines[0]"
      ],
      "execution_count": 82,
      "outputs": [
        {
          "output_type": "execute_result",
          "data": {
            "text/plain": [
              "0.0"
            ]
          },
          "metadata": {
            "tags": []
          },
          "execution_count": 82
        }
      ]
    },
    {
      "cell_type": "code",
      "metadata": {
        "id": "7uwo3LiaY0cu",
        "colab_type": "code",
        "colab": {
          "base_uri": "https://localhost:8080/",
          "height": 34
        },
        "outputId": "32e14d78-6edb-4bc4-8242-e14264d947db"
      },
      "source": [
        "tan[8]"
      ],
      "execution_count": 83,
      "outputs": [
        {
          "output_type": "execute_result",
          "data": {
            "text/plain": [
              "-0.5429081690349788"
            ]
          },
          "metadata": {
            "tags": []
          },
          "execution_count": 83
        }
      ]
    },
    {
      "cell_type": "code",
      "metadata": {
        "id": "QU1o8jhMs8Q9",
        "colab_type": "code",
        "colab": {
          "base_uri": "https://localhost:8080/",
          "height": 34
        },
        "outputId": "d43e7a52-fa2f-4955-b67b-dabc18a0e728"
      },
      "source": [
        "sines[:3]  # First three elements  "
      ],
      "execution_count": 84,
      "outputs": [
        {
          "output_type": "execute_result",
          "data": {
            "text/plain": [
              "array([0.        , 0.34185385, 0.64251645])"
            ]
          },
          "metadata": {
            "tags": []
          },
          "execution_count": 84
        }
      ]
    },
    {
      "cell_type": "code",
      "metadata": {
        "id": "b9Fersi9Y63E",
        "colab_type": "code",
        "colab": {
          "base_uri": "https://localhost:8080/",
          "height": 68
        },
        "outputId": "c4c691b9-4d4b-4047-c047-bf8f1e5cad2d"
      },
      "source": [
        "tan[:10]"
      ],
      "execution_count": 85,
      "outputs": [
        {
          "output_type": "execute_result",
          "data": {
            "text/plain": [
              "array([  0.        ,   0.34311304,   0.77779296,   1.52893401,\n",
              "         3.93781237, -12.19238214,  -2.28601853,  -1.08885118,\n",
              "        -0.54290817,  -0.16842172])"
            ]
          },
          "metadata": {
            "tags": []
          },
          "execution_count": 85
        }
      ]
    },
    {
      "cell_type": "code",
      "metadata": {
        "id": "vaOrnsMNs8RN",
        "colab_type": "code",
        "colab": {
          "base_uri": "https://localhost:8080/",
          "height": 34
        },
        "outputId": "619c9678-17ba-487c-e89f-4ea409ab3035"
      },
      "source": [
        "sines[5:]  # Elements from 5 on."
      ],
      "execution_count": 86,
      "outputs": [
        {
          "output_type": "execute_result",
          "data": {
            "text/plain": [
              "array([0.98496101, 0.8665558 , 0.64373604, 0.34335012, 0.00159265])"
            ]
          },
          "metadata": {
            "tags": []
          },
          "execution_count": 86
        }
      ]
    },
    {
      "cell_type": "code",
      "metadata": {
        "id": "fosrehsGY9jg",
        "colab_type": "code",
        "colab": {
          "base_uri": "https://localhost:8080/",
          "height": 68
        },
        "outputId": "c03535a8-0085-48a3-a5ca-9bd771f344f0"
      },
      "source": [
        "tan[8:]"
      ],
      "execution_count": 87,
      "outputs": [
        {
          "output_type": "execute_result",
          "data": {
            "text/plain": [
              "array([-5.42908169e-01, -1.68421722e-01,  1.65147806e-01,  5.38791101e-01,\n",
              "        1.08191342e+00,  2.26633049e+00,  1.17335071e+01, -3.99105827e+00,\n",
              "       -1.53961748e+00, -7.82917976e-01, -3.46677248e-01, -3.18531795e-03])"
            ]
          },
          "metadata": {
            "tags": []
          },
          "execution_count": 87
        }
      ]
    },
    {
      "cell_type": "code",
      "metadata": {
        "id": "J9Rcho2Vs8RR",
        "colab_type": "code",
        "colab": {
          "base_uri": "https://localhost:8080/",
          "height": 34
        },
        "outputId": "af480517-1feb-4b2b-8940-6e7a7f72db67"
      },
      "source": [
        "sines[::2]  # Every other element."
      ],
      "execution_count": 88,
      "outputs": [
        {
          "output_type": "execute_result",
          "data": {
            "text/plain": [
              "array([0.        , 0.64251645, 0.98468459, 0.8665558 , 0.34335012])"
            ]
          },
          "metadata": {
            "tags": []
          },
          "execution_count": 88
        }
      ]
    },
    {
      "cell_type": "code",
      "metadata": {
        "id": "g-mhLy0QZRbg",
        "colab_type": "code",
        "colab": {
          "base_uri": "https://localhost:8080/",
          "height": 51
        },
        "outputId": "e9b966e6-2534-4f8a-d95b-fcde571c2dcd"
      },
      "source": [
        "tan[::3]"
      ],
      "execution_count": 89,
      "outputs": [
        {
          "output_type": "execute_result",
          "data": {
            "text/plain": [
              "array([ 0.        ,  1.52893401, -2.28601853, -0.16842172,  1.08191342,\n",
              "       -3.99105827, -0.34667725])"
            ]
          },
          "metadata": {
            "tags": []
          },
          "execution_count": 89
        }
      ]
    },
    {
      "cell_type": "code",
      "metadata": {
        "id": "okmWIMBCs8RV",
        "colab_type": "code",
        "colab": {
          "base_uri": "https://localhost:8080/",
          "height": 136
        },
        "outputId": "f59749e4-5d0f-49ae-efae-4d14290577de"
      },
      "source": [
        "# More interesting: we can index with boolean arrays to filter by a predicate.\n",
        "print(\"sines:\\n\", sines)\n",
        "print(\"sines > 0.5:\\n\", sines > 0.5)\n",
        "print(\"sines[sines > 0.5]:\\n\", sines[sines > 0.5])"
      ],
      "execution_count": 90,
      "outputs": [
        {
          "output_type": "stream",
          "text": [
            "sines:\n",
            " [0.         0.34185385 0.64251645 0.86575984 0.98468459 0.98496101\n",
            " 0.8665558  0.64373604 0.34335012 0.00159265]\n",
            "sines > 0.5:\n",
            " [False False  True  True  True  True  True  True False False]\n",
            "sines[sines > 0.5]:\n",
            " [0.64251645 0.86575984 0.98468459 0.98496101 0.8665558  0.64373604]\n"
          ],
          "name": "stdout"
        }
      ]
    },
    {
      "cell_type": "code",
      "metadata": {
        "id": "tbJzXcAyaQ5B",
        "colab_type": "code",
        "colab": {
          "base_uri": "https://localhost:8080/",
          "height": 221
        },
        "outputId": "1575c141-6158-42ed-e67f-c421ad792ebe"
      },
      "source": [
        "print(\"Tangents:\\n\", tan)\n",
        "print(\"Positive Tangents:\\n\", tan > 0)\n",
        "print(\"Tangents[Tangents > 0.5]:\\n\", tan[tan > 0.5])"
      ],
      "execution_count": 91,
      "outputs": [
        {
          "output_type": "stream",
          "text": [
            "Tangents:\n",
            " [ 0.00000000e+00  3.43113039e-01  7.77792965e-01  1.52893401e+00\n",
            "  3.93781237e+00 -1.21923821e+01 -2.28601853e+00 -1.08885118e+00\n",
            " -5.42908169e-01 -1.68421722e-01  1.65147806e-01  5.38791101e-01\n",
            "  1.08191342e+00  2.26633049e+00  1.17335071e+01 -3.99105827e+00\n",
            " -1.53961748e+00 -7.82917976e-01 -3.46677248e-01 -3.18531795e-03]\n",
            "Positive Tangents:\n",
            " [False  True  True  True  True False False False False False  True  True\n",
            "  True  True  True False False False False False]\n",
            "Tangents[Tangents > 0.5]:\n",
            " [ 0.77779296  1.52893401  3.93781237  0.5387911   1.08191342  2.26633049\n",
            " 11.73350714]\n"
          ],
          "name": "stdout"
        }
      ]
    },
    {
      "cell_type": "code",
      "metadata": {
        "id": "qsqOBNEHs8RY",
        "colab_type": "code",
        "colab": {
          "base_uri": "https://localhost:8080/",
          "height": 68
        },
        "outputId": "f3d6cd8d-e894-4b69-cd77-c0ea406d1584"
      },
      "source": [
        "# We index with lists/arrays of integers to select values at those indices.\n",
        "print(sines)\n",
        "sines[[0, 4, 7]]"
      ],
      "execution_count": 92,
      "outputs": [
        {
          "output_type": "stream",
          "text": [
            "[0.         0.34185385 0.64251645 0.86575984 0.98468459 0.98496101\n",
            " 0.8665558  0.64373604 0.34335012 0.00159265]\n"
          ],
          "name": "stdout"
        },
        {
          "output_type": "execute_result",
          "data": {
            "text/plain": [
              "array([0.        , 0.98468459, 0.64373604])"
            ]
          },
          "metadata": {
            "tags": []
          },
          "execution_count": 92
        }
      ]
    },
    {
      "cell_type": "code",
      "metadata": {
        "id": "JOrF4G-La0AR",
        "colab_type": "code",
        "colab": {
          "base_uri": "https://localhost:8080/",
          "height": 136
        },
        "outputId": "cdb600bc-91c0-4291-a229-a697fc16c47d"
      },
      "source": [
        "print(tan)\n",
        "tan[[15, 12, 9, 6, 3, 0,-2 ,-4,-8,-16]]"
      ],
      "execution_count": 93,
      "outputs": [
        {
          "output_type": "stream",
          "text": [
            "[ 0.00000000e+00  3.43113039e-01  7.77792965e-01  1.52893401e+00\n",
            "  3.93781237e+00 -1.21923821e+01 -2.28601853e+00 -1.08885118e+00\n",
            " -5.42908169e-01 -1.68421722e-01  1.65147806e-01  5.38791101e-01\n",
            "  1.08191342e+00  2.26633049e+00  1.17335071e+01 -3.99105827e+00\n",
            " -1.53961748e+00 -7.82917976e-01 -3.46677248e-01 -3.18531795e-03]\n"
          ],
          "name": "stdout"
        },
        {
          "output_type": "execute_result",
          "data": {
            "text/plain": [
              "array([-3.99105827,  1.08191342, -0.16842172, -2.28601853,  1.52893401,\n",
              "        0.        , -0.34667725, -1.53961748,  1.08191342,  3.93781237])"
            ]
          },
          "metadata": {
            "tags": []
          },
          "execution_count": 93
        }
      ]
    },
    {
      "cell_type": "code",
      "metadata": {
        "id": "EFY9MJw0s8Rc",
        "colab_type": "code",
        "colab": {}
      },
      "source": [
        "\n",
        "# Index arrays are often used for sorting one or more arrays.\n",
        "unsorted_data = np.array([1, 3, 2, 12, -1, 5, 2])"
      ],
      "execution_count": 94,
      "outputs": []
    },
    {
      "cell_type": "code",
      "metadata": {
        "id": "Tbrlptdzbmz9",
        "colab_type": "code",
        "colab": {}
      },
      "source": [
        "to_sort =np.array([-7.25,8.63,0.19,0.001,-0.24,3.25,-9.86])"
      ],
      "execution_count": 95,
      "outputs": []
    },
    {
      "cell_type": "code",
      "metadata": {
        "id": "U2eNeJI5s8Re",
        "colab_type": "code",
        "colab": {
          "base_uri": "https://localhost:8080/",
          "height": 34
        },
        "outputId": "ee8b01da-5521-480c-941d-50e251ee8434"
      },
      "source": [
        "sort_indices = np.argsort(unsorted_data)\n",
        "sort_indices"
      ],
      "execution_count": 96,
      "outputs": [
        {
          "output_type": "execute_result",
          "data": {
            "text/plain": [
              "array([4, 0, 2, 6, 1, 5, 3])"
            ]
          },
          "metadata": {
            "tags": []
          },
          "execution_count": 96
        }
      ]
    },
    {
      "cell_type": "code",
      "metadata": {
        "id": "9aeWYp3MbxmP",
        "colab_type": "code",
        "colab": {
          "base_uri": "https://localhost:8080/",
          "height": 34
        },
        "outputId": "7dd740c7-6ce4-4436-b381-75c8c5ee5d76"
      },
      "source": [
        "sort_indx = np.argsort(to_sort)\n",
        "sort_indx"
      ],
      "execution_count": 97,
      "outputs": [
        {
          "output_type": "execute_result",
          "data": {
            "text/plain": [
              "array([6, 0, 4, 3, 2, 5, 1])"
            ]
          },
          "metadata": {
            "tags": []
          },
          "execution_count": 97
        }
      ]
    },
    {
      "cell_type": "code",
      "metadata": {
        "id": "yiuywUobs8Rg",
        "colab_type": "code",
        "colab": {
          "base_uri": "https://localhost:8080/",
          "height": 34
        },
        "outputId": "bbd767ae-45b5-402b-8873-c8ff5ac2b1f6"
      },
      "source": [
        "unsorted_data[sort_indices]"
      ],
      "execution_count": 98,
      "outputs": [
        {
          "output_type": "execute_result",
          "data": {
            "text/plain": [
              "array([-1,  1,  2,  2,  3,  5, 12])"
            ]
          },
          "metadata": {
            "tags": []
          },
          "execution_count": 98
        }
      ]
    },
    {
      "cell_type": "code",
      "metadata": {
        "id": "nnom1fsscFjr",
        "colab_type": "code",
        "colab": {
          "base_uri": "https://localhost:8080/",
          "height": 51
        },
        "outputId": "e76dc896-75e0-42dc-b8e6-6f347f835f87"
      },
      "source": [
        "to_sort[sort_indx]"
      ],
      "execution_count": 99,
      "outputs": [
        {
          "output_type": "execute_result",
          "data": {
            "text/plain": [
              "array([-9.86e+00, -7.25e+00, -2.40e-01,  1.00e-03,  1.90e-01,  3.25e+00,\n",
              "        8.63e+00])"
            ]
          },
          "metadata": {
            "tags": []
          },
          "execution_count": 99
        }
      ]
    },
    {
      "cell_type": "code",
      "metadata": {
        "id": "OZzI_QcTs8Rj",
        "colab_type": "code",
        "colab": {}
      },
      "source": [
        "market_caps = np.array([12, 6, 10, 5, 6])  # Presumably in dollars?\n",
        "assets = np.array(['A', 'B', 'C', 'D', 'E'])"
      ],
      "execution_count": 100,
      "outputs": []
    },
    {
      "cell_type": "code",
      "metadata": {
        "id": "3nlRA89Bcl4S",
        "colab_type": "code",
        "colab": {}
      },
      "source": [
        "values = np.array([2,3,4,7,8,11,6,5])\n",
        "names = np.array(['X','Y','T','R','G','Q','S','Z'])"
      ],
      "execution_count": 101,
      "outputs": []
    },
    {
      "cell_type": "code",
      "metadata": {
        "id": "WRPucAIws8Rl",
        "colab_type": "code",
        "colab": {
          "base_uri": "https://localhost:8080/",
          "height": 34
        },
        "outputId": "7afc8189-8f89-4f2f-d0cc-5cb259b4c213"
      },
      "source": [
        "# Sort assets by market cap by using the permutation that would sort market caps on ``assets``.\n",
        "sort_by_mcap = np.argsort(market_caps)\n",
        "assets[sort_by_mcap]"
      ],
      "execution_count": 102,
      "outputs": [
        {
          "output_type": "execute_result",
          "data": {
            "text/plain": [
              "array(['D', 'B', 'E', 'C', 'A'], dtype='<U1')"
            ]
          },
          "metadata": {
            "tags": []
          },
          "execution_count": 102
        }
      ]
    },
    {
      "cell_type": "code",
      "metadata": {
        "id": "6ZlGB1-YdpNJ",
        "colab_type": "code",
        "colab": {
          "base_uri": "https://localhost:8080/",
          "height": 34
        },
        "outputId": "4baa94f2-20ef-4f24-9c05-e42607ee17ee"
      },
      "source": [
        "srtByName = np.argsort(values)\n",
        "names[srtByName]"
      ],
      "execution_count": 103,
      "outputs": [
        {
          "output_type": "execute_result",
          "data": {
            "text/plain": [
              "array(['X', 'Y', 'T', 'Z', 'S', 'R', 'G', 'Q'], dtype='<U1')"
            ]
          },
          "metadata": {
            "tags": []
          },
          "execution_count": 103
        }
      ]
    },
    {
      "cell_type": "code",
      "metadata": {
        "scrolled": true,
        "id": "vhd1hipcs8Ro",
        "colab_type": "code",
        "colab": {}
      },
      "source": [
        "# Indexers are also useful for aligning data.\n",
        "#print(\"Dates:\\n\", repr(event_dates))\n",
        "#print(\"Values:\\n\", repr(event_values))\n",
        "#print(\"Calendar:\\n\", repr(calendar))"
      ],
      "execution_count": 104,
      "outputs": []
    },
    {
      "cell_type": "code",
      "metadata": {
        "id": "kH74jta2s8Rq",
        "colab_type": "code",
        "colab": {}
      },
      "source": [
        "#print(\"Raw Dates:\", event_dates)\n",
        "#print(\"Indices:\", calendar.searchsorted(event_dates))\n",
        "#print(\"Forward-Filled Dates:\", calendar[calendar.searchsorted(event_dates)])"
      ],
      "execution_count": 105,
      "outputs": []
    },
    {
      "cell_type": "markdown",
      "metadata": {
        "id": "iGSvQe_ys8Rr",
        "colab_type": "text"
      },
      "source": [
        "On multi-dimensional arrays, we can slice along each axis independently."
      ]
    },
    {
      "cell_type": "code",
      "metadata": {
        "id": "b-NoJwHRs8Rs",
        "colab_type": "code",
        "colab": {
          "base_uri": "https://localhost:8080/",
          "height": 102
        },
        "outputId": "f174b784-6e59-496e-ded8-b5141aaf3410"
      },
      "source": [
        "data = np.arange(25).reshape(5, 5)\n",
        "data"
      ],
      "execution_count": 106,
      "outputs": [
        {
          "output_type": "execute_result",
          "data": {
            "text/plain": [
              "array([[ 0,  1,  2,  3,  4],\n",
              "       [ 5,  6,  7,  8,  9],\n",
              "       [10, 11, 12, 13, 14],\n",
              "       [15, 16, 17, 18, 19],\n",
              "       [20, 21, 22, 23, 24]])"
            ]
          },
          "metadata": {
            "tags": []
          },
          "execution_count": 106
        }
      ]
    },
    {
      "cell_type": "code",
      "metadata": {
        "id": "whOEJlTOeKAf",
        "colab_type": "code",
        "colab": {
          "base_uri": "https://localhost:8080/",
          "height": 85
        },
        "outputId": "f66daeac-5731-4e51-cee0-83f5cba70e89"
      },
      "source": [
        "dtC = np.arange(12).reshape(4,3)\n",
        "dtC"
      ],
      "execution_count": 107,
      "outputs": [
        {
          "output_type": "execute_result",
          "data": {
            "text/plain": [
              "array([[ 0,  1,  2],\n",
              "       [ 3,  4,  5],\n",
              "       [ 6,  7,  8],\n",
              "       [ 9, 10, 11]])"
            ]
          },
          "metadata": {
            "tags": []
          },
          "execution_count": 107
        }
      ]
    },
    {
      "cell_type": "code",
      "metadata": {
        "id": "2YqHBdjNs8Rt",
        "colab_type": "code",
        "colab": {
          "base_uri": "https://localhost:8080/",
          "height": 51
        },
        "outputId": "9f177c22-f754-4d86-db47-d5aff989a519"
      },
      "source": [
        "data[:2, :2]  # First two rows and first two columns."
      ],
      "execution_count": 108,
      "outputs": [
        {
          "output_type": "execute_result",
          "data": {
            "text/plain": [
              "array([[0, 1],\n",
              "       [5, 6]])"
            ]
          },
          "metadata": {
            "tags": []
          },
          "execution_count": 108
        }
      ]
    },
    {
      "cell_type": "code",
      "metadata": {
        "id": "Z-cDNW9yenbs",
        "colab_type": "code",
        "colab": {
          "base_uri": "https://localhost:8080/",
          "height": 68
        },
        "outputId": "e74793d2-20ea-48b0-ae63-d2bd6bfa7298"
      },
      "source": [
        "dtC[:3, :3]"
      ],
      "execution_count": 109,
      "outputs": [
        {
          "output_type": "execute_result",
          "data": {
            "text/plain": [
              "array([[0, 1, 2],\n",
              "       [3, 4, 5],\n",
              "       [6, 7, 8]])"
            ]
          },
          "metadata": {
            "tags": []
          },
          "execution_count": 109
        }
      ]
    },
    {
      "cell_type": "code",
      "metadata": {
        "id": "yhj3oWCps8Rv",
        "colab_type": "code",
        "colab": {
          "base_uri": "https://localhost:8080/",
          "height": 51
        },
        "outputId": "ee4dde09-850f-462c-a928-98a1b3ba7c25"
      },
      "source": [
        "data[:2, [0, -1]]  # First two rows, first and last columns."
      ],
      "execution_count": 110,
      "outputs": [
        {
          "output_type": "execute_result",
          "data": {
            "text/plain": [
              "array([[0, 4],\n",
              "       [5, 9]])"
            ]
          },
          "metadata": {
            "tags": []
          },
          "execution_count": 110
        }
      ]
    },
    {
      "cell_type": "code",
      "metadata": {
        "id": "GF_-MYo9e4YB",
        "colab_type": "code",
        "colab": {
          "base_uri": "https://localhost:8080/",
          "height": 51
        },
        "outputId": "6973b319-2be2-462c-aaf3-0e07f5e7d7f4"
      },
      "source": [
        "dtC[:2,[1,-1]]"
      ],
      "execution_count": 111,
      "outputs": [
        {
          "output_type": "execute_result",
          "data": {
            "text/plain": [
              "array([[1, 2],\n",
              "       [4, 5]])"
            ]
          },
          "metadata": {
            "tags": []
          },
          "execution_count": 111
        }
      ]
    },
    {
      "cell_type": "code",
      "metadata": {
        "id": "Y3rk3jRts8Ry",
        "colab_type": "code",
        "colab": {
          "base_uri": "https://localhost:8080/",
          "height": 68
        },
        "outputId": "f4142f11-4616-47df-f810-cde7b947c546"
      },
      "source": [
        "data[(data[:, 0] % 2) == 0]  # Rows where the first column is divisible by two."
      ],
      "execution_count": 112,
      "outputs": [
        {
          "output_type": "execute_result",
          "data": {
            "text/plain": [
              "array([[ 0,  1,  2,  3,  4],\n",
              "       [10, 11, 12, 13, 14],\n",
              "       [20, 21, 22, 23, 24]])"
            ]
          },
          "metadata": {
            "tags": []
          },
          "execution_count": 112
        }
      ]
    },
    {
      "cell_type": "code",
      "metadata": {
        "id": "wifd9AZWfjcW",
        "colab_type": "code",
        "colab": {
          "base_uri": "https://localhost:8080/",
          "height": 51
        },
        "outputId": "4e36f3bb-7daa-4fc2-baa1-02581066a050"
      },
      "source": [
        "dtC[(dtC[:,0]**2)>= 10]"
      ],
      "execution_count": 113,
      "outputs": [
        {
          "output_type": "execute_result",
          "data": {
            "text/plain": [
              "array([[ 6,  7,  8],\n",
              "       [ 9, 10, 11]])"
            ]
          },
          "metadata": {
            "tags": []
          },
          "execution_count": 113
        }
      ]
    },
    {
      "cell_type": "markdown",
      "metadata": {
        "id": "N7fxQGj4s8R1",
        "colab_type": "text"
      },
      "source": [
        "# Selections Review\n",
        "\n",
        "- Indexing with an integer removes a dimension.\n",
        "- Slicing operations work on Numpy arrays the same way they do on lists.\n",
        "- Indexing with a boolean array filters to True locations.\n",
        "- Indexing with an integer array selects indices along an axis.\n",
        "- Multidimensional arrays can apply selections independently along different axes."
      ]
    },
    {
      "cell_type": "markdown",
      "metadata": {
        "id": "oE5KitQ7s8R2",
        "colab_type": "text"
      },
      "source": [
        "## Reductions\n",
        "\n",
        "Functions that reduce an array to a scalar."
      ]
    },
    {
      "cell_type": "markdown",
      "metadata": {
        "id": "nw641PF-s8R2",
        "colab_type": "text"
      },
      "source": [
        "$Var(X) = \\frac{1}{N}\\sqrt{\\sum_{i=1}^N (x_i - \\bar{x})^2}$"
      ]
    },
    {
      "cell_type": "code",
      "metadata": {
        "id": "E2d2iMI3s8R3",
        "colab_type": "code",
        "colab": {}
      },
      "source": [
        "def variance(x):\n",
        "    return ((x - x.mean()) ** 2).sum() / len(x)"
      ],
      "execution_count": 114,
      "outputs": []
    },
    {
      "cell_type": "code",
      "metadata": {
        "id": "LxLHO9bKs8R7",
        "colab_type": "code",
        "colab": {
          "base_uri": "https://localhost:8080/",
          "height": 0
        },
        "outputId": "d1184c5b-442c-4f3a-d9e5-9c652ae853fa"
      },
      "source": [
        "variance(np.random.standard_normal(1000))"
      ],
      "execution_count": 115,
      "outputs": [
        {
          "output_type": "execute_result",
          "data": {
            "text/plain": [
              "1.0230174403857861"
            ]
          },
          "metadata": {
            "tags": []
          },
          "execution_count": 115
        }
      ]
    },
    {
      "cell_type": "code",
      "metadata": {
        "id": "-b1WWqvNgWlc",
        "colab_type": "code",
        "colab": {
          "base_uri": "https://localhost:8080/",
          "height": 0
        },
        "outputId": "c72cb0b1-95df-4ac4-c794-1587fcbc6677"
      },
      "source": [
        "variance(np.random.chisquare(10,250))"
      ],
      "execution_count": 116,
      "outputs": [
        {
          "output_type": "execute_result",
          "data": {
            "text/plain": [
              "19.922717063744138"
            ]
          },
          "metadata": {
            "tags": []
          },
          "execution_count": 116
        }
      ]
    },
    {
      "cell_type": "markdown",
      "metadata": {
        "id": "-d4Ncures8R-",
        "colab_type": "text"
      },
      "source": [
        "- `sum()` and `mean()` are both **reductions**."
      ]
    },
    {
      "cell_type": "markdown",
      "metadata": {
        "id": "0dnnlnzSs8R-",
        "colab_type": "text"
      },
      "source": [
        "- In the simplest case, we use these to reduce an entire array into a single value..."
      ]
    },
    {
      "cell_type": "code",
      "metadata": {
        "id": "YXMtBvUus8R-",
        "colab_type": "code",
        "colab": {
          "base_uri": "https://localhost:8080/",
          "height": 0
        },
        "outputId": "fdc163e8-b280-4181-f554-7908e5582ef9"
      },
      "source": [
        "data = np.arange(30)\n",
        "data.mean()"
      ],
      "execution_count": 117,
      "outputs": [
        {
          "output_type": "execute_result",
          "data": {
            "text/plain": [
              "14.5"
            ]
          },
          "metadata": {
            "tags": []
          },
          "execution_count": 117
        }
      ]
    },
    {
      "cell_type": "code",
      "metadata": {
        "id": "6UYx6jkfgwfJ",
        "colab_type": "code",
        "colab": {
          "base_uri": "https://localhost:8080/",
          "height": 0
        },
        "outputId": "cb03c6ec-ad6a-4c3c-f29d-9fce3d45f5b5"
      },
      "source": [
        "dtb = np.arange(40)\n",
        "dtb.std() "
      ],
      "execution_count": 118,
      "outputs": [
        {
          "output_type": "execute_result",
          "data": {
            "text/plain": [
              "11.543396380615196"
            ]
          },
          "metadata": {
            "tags": []
          },
          "execution_count": 118
        }
      ]
    },
    {
      "cell_type": "markdown",
      "metadata": {
        "id": "7iGbe7b_s8SA",
        "colab_type": "text"
      },
      "source": [
        "- ...but we can do more interesting things with multi-dimensional arrays."
      ]
    },
    {
      "cell_type": "code",
      "metadata": {
        "id": "pU8s1hfzs8SB",
        "colab_type": "code",
        "colab": {
          "base_uri": "https://localhost:8080/",
          "height": 0
        },
        "outputId": "40a804b7-6a75-4935-dec1-9fcca2c64760"
      },
      "source": [
        "data = np.arange(30).reshape(3, 10)\n",
        "data"
      ],
      "execution_count": 119,
      "outputs": [
        {
          "output_type": "execute_result",
          "data": {
            "text/plain": [
              "array([[ 0,  1,  2,  3,  4,  5,  6,  7,  8,  9],\n",
              "       [10, 11, 12, 13, 14, 15, 16, 17, 18, 19],\n",
              "       [20, 21, 22, 23, 24, 25, 26, 27, 28, 29]])"
            ]
          },
          "metadata": {
            "tags": []
          },
          "execution_count": 119
        }
      ]
    },
    {
      "cell_type": "code",
      "metadata": {
        "id": "frZg6cV4g8nz",
        "colab_type": "code",
        "colab": {
          "base_uri": "https://localhost:8080/",
          "height": 0
        },
        "outputId": "e262a238-c691-4b10-8913-9d4f11778df7"
      },
      "source": [
        "dtb=np.arange(40).reshape(8,5)\n",
        "dtb"
      ],
      "execution_count": 120,
      "outputs": [
        {
          "output_type": "execute_result",
          "data": {
            "text/plain": [
              "array([[ 0,  1,  2,  3,  4],\n",
              "       [ 5,  6,  7,  8,  9],\n",
              "       [10, 11, 12, 13, 14],\n",
              "       [15, 16, 17, 18, 19],\n",
              "       [20, 21, 22, 23, 24],\n",
              "       [25, 26, 27, 28, 29],\n",
              "       [30, 31, 32, 33, 34],\n",
              "       [35, 36, 37, 38, 39]])"
            ]
          },
          "metadata": {
            "tags": []
          },
          "execution_count": 120
        }
      ]
    },
    {
      "cell_type": "code",
      "metadata": {
        "id": "lLE1qo6as8SD",
        "colab_type": "code",
        "colab": {
          "base_uri": "https://localhost:8080/",
          "height": 0
        },
        "outputId": "81e80eff-8a14-422a-8aa4-fa9336305ef4"
      },
      "source": [
        "data.mean()"
      ],
      "execution_count": 121,
      "outputs": [
        {
          "output_type": "execute_result",
          "data": {
            "text/plain": [
              "14.5"
            ]
          },
          "metadata": {
            "tags": []
          },
          "execution_count": 121
        }
      ]
    },
    {
      "cell_type": "code",
      "metadata": {
        "id": "Yu_3B2RJhP0a",
        "colab_type": "code",
        "colab": {
          "base_uri": "https://localhost:8080/",
          "height": 0
        },
        "outputId": "657cc555-005c-4795-debb-963afa19e42f"
      },
      "source": [
        "dtb.std()"
      ],
      "execution_count": 122,
      "outputs": [
        {
          "output_type": "execute_result",
          "data": {
            "text/plain": [
              "11.543396380615196"
            ]
          },
          "metadata": {
            "tags": []
          },
          "execution_count": 122
        }
      ]
    },
    {
      "cell_type": "code",
      "metadata": {
        "id": "K984P60-s8SF",
        "colab_type": "code",
        "colab": {
          "base_uri": "https://localhost:8080/",
          "height": 0
        },
        "outputId": "774adae2-f3f7-48d7-cd3c-252b62282ae3"
      },
      "source": [
        "data.mean(axis=0)"
      ],
      "execution_count": 123,
      "outputs": [
        {
          "output_type": "execute_result",
          "data": {
            "text/plain": [
              "array([10., 11., 12., 13., 14., 15., 16., 17., 18., 19.])"
            ]
          },
          "metadata": {
            "tags": []
          },
          "execution_count": 123
        }
      ]
    },
    {
      "cell_type": "code",
      "metadata": {
        "id": "WtFel3cChXGP",
        "colab_type": "code",
        "colab": {
          "base_uri": "https://localhost:8080/",
          "height": 0
        },
        "outputId": "f4c53474-2540-490c-aa18-032aab30b045"
      },
      "source": [
        "dtb.sum(axis=1)"
      ],
      "execution_count": 124,
      "outputs": [
        {
          "output_type": "execute_result",
          "data": {
            "text/plain": [
              "array([ 10,  35,  60,  85, 110, 135, 160, 185])"
            ]
          },
          "metadata": {
            "tags": []
          },
          "execution_count": 124
        }
      ]
    },
    {
      "cell_type": "code",
      "metadata": {
        "id": "4mvFiHw-s8SG",
        "colab_type": "code",
        "colab": {
          "base_uri": "https://localhost:8080/",
          "height": 0
        },
        "outputId": "44321e1d-d040-4c5a-8060-005ccbb27430"
      },
      "source": [
        "data.mean(axis=1)"
      ],
      "execution_count": 125,
      "outputs": [
        {
          "output_type": "execute_result",
          "data": {
            "text/plain": [
              "array([ 4.5, 14.5, 24.5])"
            ]
          },
          "metadata": {
            "tags": []
          },
          "execution_count": 125
        }
      ]
    },
    {
      "cell_type": "code",
      "metadata": {
        "id": "pY2_SBE5hiOb",
        "colab_type": "code",
        "colab": {
          "base_uri": "https://localhost:8080/",
          "height": 0
        },
        "outputId": "0364fa9e-df59-4990-c7df-692bd157a0b8"
      },
      "source": [
        "data.max(axis=0)"
      ],
      "execution_count": 126,
      "outputs": [
        {
          "output_type": "execute_result",
          "data": {
            "text/plain": [
              "array([20, 21, 22, 23, 24, 25, 26, 27, 28, 29])"
            ]
          },
          "metadata": {
            "tags": []
          },
          "execution_count": 126
        }
      ]
    },
    {
      "cell_type": "markdown",
      "metadata": {
        "id": "mq_Fr9lks8SJ",
        "colab_type": "text"
      },
      "source": [
        "## Reductions Review\n",
        "\n",
        "- Reductions allow us to perform efficient aggregations over arrays.\n",
        "- We can do aggregations over a single axis to collapse a single dimension.\n",
        "- Many built-in reductions (`mean`, `sum`, `min`, `max`, `median`, ...)."
      ]
    },
    {
      "cell_type": "markdown",
      "metadata": {
        "id": "HtvkKrqws8SJ",
        "colab_type": "text"
      },
      "source": [
        "# Broadcasting"
      ]
    },
    {
      "cell_type": "code",
      "metadata": {
        "id": "Vl6kT9Hrs8SJ",
        "colab_type": "code",
        "colab": {
          "base_uri": "https://localhost:8080/",
          "height": 0
        },
        "outputId": "b15a92f1-5d1f-4283-8dc5-3145614f8096"
      },
      "source": [
        "row = np.array([1, 2, 3, 4])\n",
        "column = np.array([[1], [2], [3]])\n",
        "print(\"Row:\\n\", row, sep='')\n",
        "print(\"Column:\\n\", column, sep='')"
      ],
      "execution_count": 127,
      "outputs": [
        {
          "output_type": "stream",
          "text": [
            "Row:\n",
            "[1 2 3 4]\n",
            "Column:\n",
            "[[1]\n",
            " [2]\n",
            " [3]]\n"
          ],
          "name": "stdout"
        }
      ]
    },
    {
      "cell_type": "code",
      "metadata": {
        "id": "i-_D003tiH3b",
        "colab_type": "code",
        "colab": {
          "base_uri": "https://localhost:8080/",
          "height": 0
        },
        "outputId": "ab18a5d4-00a8-4041-edb0-983d68180922"
      },
      "source": [
        "fil = np.array([1, 2, 4, 8, 16, 32, 64, 128])\n",
        "col = np.array([[1], [2], [4], [8], [16], [32], [64], [128]])\n",
        "print(\"filas:\\n\", fil, sep='')\n",
        "print(\"Columnas:\\n\", col, sep='')"
      ],
      "execution_count": 128,
      "outputs": [
        {
          "output_type": "stream",
          "text": [
            "filas:\n",
            "[  1   2   4   8  16  32  64 128]\n",
            "Columnas:\n",
            "[[  1]\n",
            " [  2]\n",
            " [  4]\n",
            " [  8]\n",
            " [ 16]\n",
            " [ 32]\n",
            " [ 64]\n",
            " [128]]\n"
          ],
          "name": "stdout"
        }
      ]
    },
    {
      "cell_type": "code",
      "metadata": {
        "id": "QUcZl_hRs8SL",
        "colab_type": "code",
        "colab": {
          "base_uri": "https://localhost:8080/",
          "height": 0
        },
        "outputId": "95c92927-6b7e-4fa7-d87e-3580750a0ed1"
      },
      "source": [
        "row + column\n"
      ],
      "execution_count": 129,
      "outputs": [
        {
          "output_type": "execute_result",
          "data": {
            "text/plain": [
              "array([[2, 3, 4, 5],\n",
              "       [3, 4, 5, 6],\n",
              "       [4, 5, 6, 7]])"
            ]
          },
          "metadata": {
            "tags": []
          },
          "execution_count": 129
        }
      ]
    },
    {
      "cell_type": "code",
      "metadata": {
        "id": "0zWi1nrwifeE",
        "colab_type": "code",
        "colab": {
          "base_uri": "https://localhost:8080/",
          "height": 0
        },
        "outputId": "c955b679-86e4-44ba-d2cd-bfcf8e2dfa05"
      },
      "source": [
        "fil * col"
      ],
      "execution_count": 130,
      "outputs": [
        {
          "output_type": "execute_result",
          "data": {
            "text/plain": [
              "array([[    1,     2,     4,     8,    16,    32,    64,   128],\n",
              "       [    2,     4,     8,    16,    32,    64,   128,   256],\n",
              "       [    4,     8,    16,    32,    64,   128,   256,   512],\n",
              "       [    8,    16,    32,    64,   128,   256,   512,  1024],\n",
              "       [   16,    32,    64,   128,   256,   512,  1024,  2048],\n",
              "       [   32,    64,   128,   256,   512,  1024,  2048,  4096],\n",
              "       [   64,   128,   256,   512,  1024,  2048,  4096,  8192],\n",
              "       [  128,   256,   512,  1024,  2048,  4096,  8192, 16384]])"
            ]
          },
          "metadata": {
            "tags": []
          },
          "execution_count": 130
        }
      ]
    },
    {
      "cell_type": "markdown",
      "metadata": {
        "id": "3taztO6Ts8SM",
        "colab_type": "text"
      },
      "source": [
        "<center><img src=\"images/broadcasting.png\" alt=\"Drawing\" style=\"width: 60%;\"/></center>\n",
        "\n",
        "<h5>Source: http://www.scipy-lectures.org/_images/numpy_broadcasting.png</h5>"
      ]
    },
    {
      "cell_type": "code",
      "metadata": {
        "id": "-emfjLK4s8SM",
        "colab_type": "code",
        "colab": {
          "base_uri": "https://localhost:8080/",
          "height": 0
        },
        "outputId": "f6bd8fc0-58d6-4009-c820-6ec5d160fe2f"
      },
      "source": [
        "# Broadcasting is particularly useful in conjunction with reductions.\n",
        "print(\"Data:\\n\", data, sep='')\n",
        "print(\"Mean:\\n\", data.mean(axis=0), sep='')\n",
        "print(\"Data - Mean:\\n\", data - data.mean(axis=0), sep='')"
      ],
      "execution_count": 131,
      "outputs": [
        {
          "output_type": "stream",
          "text": [
            "Data:\n",
            "[[ 0  1  2  3  4  5  6  7  8  9]\n",
            " [10 11 12 13 14 15 16 17 18 19]\n",
            " [20 21 22 23 24 25 26 27 28 29]]\n",
            "Mean:\n",
            "[10. 11. 12. 13. 14. 15. 16. 17. 18. 19.]\n",
            "Data - Mean:\n",
            "[[-10. -10. -10. -10. -10. -10. -10. -10. -10. -10.]\n",
            " [  0.   0.   0.   0.   0.   0.   0.   0.   0.   0.]\n",
            " [ 10.  10.  10.  10.  10.  10.  10.  10.  10.  10.]]\n"
          ],
          "name": "stdout"
        }
      ]
    },
    {
      "cell_type": "code",
      "metadata": {
        "id": "CEtRLmOvjCbl",
        "colab_type": "code",
        "colab": {
          "base_uri": "https://localhost:8080/",
          "height": 0
        },
        "outputId": "5f36fed1-7c41-4a58-8c65-72ac6dbac5a1"
      },
      "source": [
        "print(\"Datos:\\n\", dtC, sep='')\n",
        "print(\"Varianza:\\n\", dtC.mean(axis=1), sep='')\n",
        "print(\"covarianza:\\n\", dtC - dtC.mean(axis=0), sep='')"
      ],
      "execution_count": 132,
      "outputs": [
        {
          "output_type": "stream",
          "text": [
            "Datos:\n",
            "[[ 0  1  2]\n",
            " [ 3  4  5]\n",
            " [ 6  7  8]\n",
            " [ 9 10 11]]\n",
            "Varianza:\n",
            "[ 1.  4.  7. 10.]\n",
            "covarianza:\n",
            "[[-4.5 -4.5 -4.5]\n",
            " [-1.5 -1.5 -1.5]\n",
            " [ 1.5  1.5  1.5]\n",
            " [ 4.5  4.5  4.5]]\n"
          ],
          "name": "stdout"
        }
      ]
    },
    {
      "cell_type": "markdown",
      "metadata": {
        "id": "VqR0AHR5s8SP",
        "colab_type": "text"
      },
      "source": [
        "# Broadcasting Review\n",
        "\n",
        "- Numpy operations can work on arrays of different dimensions as long as the arrays' shapes are still \"compatible\".\n",
        "- Broadcasting works by \"tiling\" the smaller array along the missing dimension.\n",
        "- The result of a broadcasted operation is always at least as large in each dimension as the largest array in that dimension."
      ]
    },
    {
      "cell_type": "markdown",
      "metadata": {
        "id": "Gpqh4C9Js8SP",
        "colab_type": "text"
      },
      "source": [
        "# Numpy Review"
      ]
    },
    {
      "cell_type": "markdown",
      "metadata": {
        "id": "xCPqr3m5s8SP",
        "colab_type": "text"
      },
      "source": [
        "- Numerical algorithms are slow in pure Python because the overhead dynamic dispatch dominates our runtime."
      ]
    },
    {
      "cell_type": "markdown",
      "metadata": {
        "id": "tiffr8R2s8SP",
        "colab_type": "text"
      },
      "source": [
        "- Numpy solves this problem by:\n",
        "  1. Imposing additional restrictions on the contents of arrays.\n",
        "  2. Moving the inner loops of our algorithms into compiled C code."
      ]
    },
    {
      "cell_type": "markdown",
      "metadata": {
        "id": "glVPReU9s8SQ",
        "colab_type": "text"
      },
      "source": [
        "- Using Numpy effectively often requires reworking an algorithms to use vectorized operations instead of for-loops, but the resulting operations are usually simpler, clearer, and faster than the pure Python equivalent."
      ]
    },
    {
      "cell_type": "markdown",
      "metadata": {
        "id": "DgftLur0s8SQ",
        "colab_type": "text"
      },
      "source": [
        "<center><img src=\"images/unicorn.jpg\" alt=\"Drawing\" style=\"width: 75%;\"/></center>"
      ]
    },
    {
      "cell_type": "markdown",
      "metadata": {
        "id": "uv8sVR5Es8SQ",
        "colab_type": "text"
      },
      "source": [
        "Numpy is great for many things, but..."
      ]
    },
    {
      "cell_type": "markdown",
      "metadata": {
        "id": "aMuec0L9s8SQ",
        "colab_type": "text"
      },
      "source": [
        "- Sometimes our data is equipped with a natural set of **labels**:\n",
        "  - Dates/Times\n",
        "  - Stock Tickers\n",
        "  - Field Names (e.g. Open/High/Low/Close)"
      ]
    },
    {
      "cell_type": "markdown",
      "metadata": {
        "id": "saCuzAWrs8SR",
        "colab_type": "text"
      },
      "source": [
        "- Sometimes we have **more than one type of data** that we want to keep grouped together.\n",
        "  - Tables with a mix of real-valued and categorical data."
      ]
    },
    {
      "cell_type": "markdown",
      "metadata": {
        "id": "HLPNwTfVs8SR",
        "colab_type": "text"
      },
      "source": [
        "- Sometimes we have **missing** data, which we need to ignore, fill, or otherwise work around."
      ]
    },
    {
      "cell_type": "markdown",
      "metadata": {
        "id": "Gj1jIwqos8ST",
        "colab_type": "text"
      },
      "source": [
        "<center><img src=\"images/panda-wrangling.gif\" alt=\"Drawing\" style=\"width: 75%;\"/></center>"
      ]
    },
    {
      "cell_type": "markdown",
      "metadata": {
        "id": "ZKAMjTAds8ST",
        "colab_type": "text"
      },
      "source": [
        "<center><img src=\"images/pandas_logo.png\" alt=\"Drawing\" style=\"width: 75%;\"/></center>\n"
      ]
    },
    {
      "cell_type": "markdown",
      "metadata": {
        "id": "C_MlHc9Rs8ST",
        "colab_type": "text"
      },
      "source": [
        "Pandas extends Numpy with more complex data structures:\n",
        "\n",
        "- `Series`: 1-dimensional, homogenously-typed, labelled array.\n",
        "- `DataFrame`: 2-dimensional, semi-homogenous, labelled table."
      ]
    },
    {
      "cell_type": "markdown",
      "metadata": {
        "id": "U2_a3qwRs8ST",
        "colab_type": "text"
      },
      "source": [
        "Pandas also provides many utilities for: \n",
        "- Input/Output\n",
        "- Data Cleaning\n",
        "- Rolling Algorithms\n",
        "- Plotting"
      ]
    },
    {
      "cell_type": "markdown",
      "metadata": {
        "id": "pdG9Wktos8ST",
        "colab_type": "text"
      },
      "source": [
        "# Selection in Pandas"
      ]
    },
    {
      "cell_type": "code",
      "metadata": {
        "id": "X8jKUtkbjwTY",
        "colab_type": "code",
        "colab": {}
      },
      "source": [
        "import pandas as pd"
      ],
      "execution_count": 133,
      "outputs": []
    },
    {
      "cell_type": "code",
      "metadata": {
        "id": "RV8Kkqeks8ST",
        "colab_type": "code",
        "colab": {
          "base_uri": "https://localhost:8080/",
          "height": 119
        },
        "outputId": "30e49282-90f4-42d7-cb5a-77e636432dbc"
      },
      "source": [
        "s = pd.Series(index=['a', 'b', 'c', 'd', 'e'], data=[1, 2, 3, 4, 5])\n",
        "s"
      ],
      "execution_count": 134,
      "outputs": [
        {
          "output_type": "execute_result",
          "data": {
            "text/plain": [
              "a    1\n",
              "b    2\n",
              "c    3\n",
              "d    4\n",
              "e    5\n",
              "dtype: int64"
            ]
          },
          "metadata": {
            "tags": []
          },
          "execution_count": 134
        }
      ]
    },
    {
      "cell_type": "code",
      "metadata": {
        "id": "QPzB-pmckOIc",
        "colab_type": "code",
        "colab": {
          "base_uri": "https://localhost:8080/",
          "height": 170
        },
        "outputId": "8f3c25ca-4144-418f-d3ce-c8b51ad75aae"
      },
      "source": [
        "values = [2.1,3.5,4.4,3.7,3.8,4.1,4.6,2.5]\n",
        "names = ['X','Y','T','R','G','Q','S','Z']\n",
        "t = pd.Series(index=names, data=values)\n",
        "t"
      ],
      "execution_count": 135,
      "outputs": [
        {
          "output_type": "execute_result",
          "data": {
            "text/plain": [
              "X    2.1\n",
              "Y    3.5\n",
              "T    4.4\n",
              "R    3.7\n",
              "G    3.8\n",
              "Q    4.1\n",
              "S    4.6\n",
              "Z    2.5\n",
              "dtype: float64"
            ]
          },
          "metadata": {
            "tags": []
          },
          "execution_count": 135
        }
      ]
    },
    {
      "cell_type": "code",
      "metadata": {
        "id": "SfCLqbtAs8SW",
        "colab_type": "code",
        "colab": {
          "base_uri": "https://localhost:8080/",
          "height": 51
        },
        "outputId": "2399b47c-e334-4d0a-86a6-a8c8e17acbb8"
      },
      "source": [
        "# There are two pieces to a Series: the index and the values.\n",
        "print(\"The index is:\", s.index)\n",
        "print(\"The values are:\", s.values)"
      ],
      "execution_count": 136,
      "outputs": [
        {
          "output_type": "stream",
          "text": [
            "The index is: Index(['a', 'b', 'c', 'd', 'e'], dtype='object')\n",
            "The values are: [1 2 3 4 5]\n"
          ],
          "name": "stdout"
        }
      ]
    },
    {
      "cell_type": "code",
      "metadata": {
        "id": "CLlQIzJKksXQ",
        "colab_type": "code",
        "colab": {
          "base_uri": "https://localhost:8080/",
          "height": 51
        },
        "outputId": "87f395d1-3f6d-4817-ab4f-0fec495f820b"
      },
      "source": [
        "print(\"Los indices son:\", t.index)\n",
        "print(\"Los valores son:\", t.values)"
      ],
      "execution_count": 137,
      "outputs": [
        {
          "output_type": "stream",
          "text": [
            "Los indices son: Index(['X', 'Y', 'T', 'R', 'G', 'Q', 'S', 'Z'], dtype='object')\n",
            "Los valores son: [2.1 3.5 4.4 3.7 3.8 4.1 4.6 2.5]\n"
          ],
          "name": "stdout"
        }
      ]
    },
    {
      "cell_type": "code",
      "metadata": {
        "id": "qa5nJxxFs8SY",
        "colab_type": "code",
        "colab": {
          "base_uri": "https://localhost:8080/",
          "height": 34
        },
        "outputId": "ebf1206b-a2b1-40a8-ff0c-f330eba32f0f"
      },
      "source": [
        "# We can look up values out of a Series by position...\n",
        "s.iloc[0]"
      ],
      "execution_count": 138,
      "outputs": [
        {
          "output_type": "execute_result",
          "data": {
            "text/plain": [
              "1"
            ]
          },
          "metadata": {
            "tags": []
          },
          "execution_count": 138
        }
      ]
    },
    {
      "cell_type": "code",
      "metadata": {
        "id": "Oc7aq1r9k5bl",
        "colab_type": "code",
        "colab": {
          "base_uri": "https://localhost:8080/",
          "height": 34
        },
        "outputId": "19a31697-e7c3-40f5-bd72-ee5a6b569770"
      },
      "source": [
        "t.iloc[4]"
      ],
      "execution_count": 139,
      "outputs": [
        {
          "output_type": "execute_result",
          "data": {
            "text/plain": [
              "3.8"
            ]
          },
          "metadata": {
            "tags": []
          },
          "execution_count": 139
        }
      ]
    },
    {
      "cell_type": "code",
      "metadata": {
        "id": "hvUjmzOks8Sb",
        "colab_type": "code",
        "colab": {
          "base_uri": "https://localhost:8080/",
          "height": 34
        },
        "outputId": "68509a8b-6afc-4641-8cd8-a4944cce755a"
      },
      "source": [
        "# ... or by label.\n",
        "s.loc['a']"
      ],
      "execution_count": 140,
      "outputs": [
        {
          "output_type": "execute_result",
          "data": {
            "text/plain": [
              "1"
            ]
          },
          "metadata": {
            "tags": []
          },
          "execution_count": 140
        }
      ]
    },
    {
      "cell_type": "code",
      "metadata": {
        "id": "PUkpyT6Vk9AC",
        "colab_type": "code",
        "colab": {
          "base_uri": "https://localhost:8080/",
          "height": 34
        },
        "outputId": "972fd5d0-c89d-44f1-f99f-27c434a6625e"
      },
      "source": [
        "t.loc['Q']"
      ],
      "execution_count": 141,
      "outputs": [
        {
          "output_type": "execute_result",
          "data": {
            "text/plain": [
              "4.1"
            ]
          },
          "metadata": {
            "tags": []
          },
          "execution_count": 141
        }
      ]
    },
    {
      "cell_type": "code",
      "metadata": {
        "id": "W-eSOoows8Sc",
        "colab_type": "code",
        "colab": {
          "base_uri": "https://localhost:8080/",
          "height": 68
        },
        "outputId": "f1972f88-75df-4860-da0a-cde37fd4dfff"
      },
      "source": [
        "# Slicing works as expected...\n",
        "s.iloc[:2]"
      ],
      "execution_count": 142,
      "outputs": [
        {
          "output_type": "execute_result",
          "data": {
            "text/plain": [
              "a    1\n",
              "b    2\n",
              "dtype: int64"
            ]
          },
          "metadata": {
            "tags": []
          },
          "execution_count": 142
        }
      ]
    },
    {
      "cell_type": "code",
      "metadata": {
        "id": "2AA4djH-lH-Q",
        "colab_type": "code",
        "colab": {
          "base_uri": "https://localhost:8080/",
          "height": 136
        },
        "outputId": "148a4c78-60a4-4b42-c53e-f4e7f4e5db8f"
      },
      "source": [
        "t.iloc[2:]"
      ],
      "execution_count": 143,
      "outputs": [
        {
          "output_type": "execute_result",
          "data": {
            "text/plain": [
              "T    4.4\n",
              "R    3.7\n",
              "G    3.8\n",
              "Q    4.1\n",
              "S    4.6\n",
              "Z    2.5\n",
              "dtype: float64"
            ]
          },
          "metadata": {
            "tags": []
          },
          "execution_count": 143
        }
      ]
    },
    {
      "cell_type": "code",
      "metadata": {
        "id": "tXgp_YCMs8Se",
        "colab_type": "code",
        "colab": {
          "base_uri": "https://localhost:8080/",
          "height": 85
        },
        "outputId": "0cb91c14-5a9c-4ca0-c75d-c1d475e0ff86"
      },
      "source": [
        "# ...but it works with labels too!\n",
        "s.loc[:'c']"
      ],
      "execution_count": 144,
      "outputs": [
        {
          "output_type": "execute_result",
          "data": {
            "text/plain": [
              "a    1\n",
              "b    2\n",
              "c    3\n",
              "dtype: int64"
            ]
          },
          "metadata": {
            "tags": []
          },
          "execution_count": 144
        }
      ]
    },
    {
      "cell_type": "code",
      "metadata": {
        "id": "FnbPUbyXlM3L",
        "colab_type": "code",
        "colab": {
          "base_uri": "https://localhost:8080/",
          "height": 102
        },
        "outputId": "f5f5bef7-6105-4bc9-c60f-814a5d5f54c6"
      },
      "source": [
        "t.loc['G':]"
      ],
      "execution_count": 145,
      "outputs": [
        {
          "output_type": "execute_result",
          "data": {
            "text/plain": [
              "G    3.8\n",
              "Q    4.1\n",
              "S    4.6\n",
              "Z    2.5\n",
              "dtype: float64"
            ]
          },
          "metadata": {
            "tags": []
          },
          "execution_count": 145
        }
      ]
    },
    {
      "cell_type": "code",
      "metadata": {
        "id": "xoQ5uGCXs8Sg",
        "colab_type": "code",
        "colab": {
          "base_uri": "https://localhost:8080/",
          "height": 68
        },
        "outputId": "b9e3f8d1-e736-4e8f-a586-5f6bbe779331"
      },
      "source": [
        "# Fancy indexing works the same as in numpy.\n",
        "s.iloc[[0, -1]]"
      ],
      "execution_count": 146,
      "outputs": [
        {
          "output_type": "execute_result",
          "data": {
            "text/plain": [
              "a    1\n",
              "e    5\n",
              "dtype: int64"
            ]
          },
          "metadata": {
            "tags": []
          },
          "execution_count": 146
        }
      ]
    },
    {
      "cell_type": "code",
      "metadata": {
        "id": "XptZgoZcldiR",
        "colab_type": "code",
        "colab": {
          "base_uri": "https://localhost:8080/",
          "height": 68
        },
        "outputId": "465b1fa4-f18a-4aee-b4f6-886c475dbede"
      },
      "source": [
        "t.iloc[[1,-1]]"
      ],
      "execution_count": 147,
      "outputs": [
        {
          "output_type": "execute_result",
          "data": {
            "text/plain": [
              "Y    3.5\n",
              "Z    2.5\n",
              "dtype: float64"
            ]
          },
          "metadata": {
            "tags": []
          },
          "execution_count": 147
        }
      ]
    },
    {
      "cell_type": "code",
      "metadata": {
        "id": "9Zn_Xr7ss8Sh",
        "colab_type": "code",
        "colab": {
          "base_uri": "https://localhost:8080/",
          "height": 85
        },
        "outputId": "90f70a6b-e48a-4d05-d6c7-b10493920842"
      },
      "source": [
        "# As does boolean masking.\n",
        "s.loc[s > 2]"
      ],
      "execution_count": 148,
      "outputs": [
        {
          "output_type": "execute_result",
          "data": {
            "text/plain": [
              "c    3\n",
              "d    4\n",
              "e    5\n",
              "dtype: int64"
            ]
          },
          "metadata": {
            "tags": []
          },
          "execution_count": 148
        }
      ]
    },
    {
      "cell_type": "code",
      "metadata": {
        "id": "g0zLdH6eli6e",
        "colab_type": "code",
        "colab": {
          "base_uri": "https://localhost:8080/",
          "height": 34
        },
        "outputId": "deeff374-aa63-4264-e2cc-5090fe4b206d"
      },
      "source": [
        "t.loc[t%2 ==0]"
      ],
      "execution_count": 149,
      "outputs": [
        {
          "output_type": "execute_result",
          "data": {
            "text/plain": [
              "Series([], dtype: float64)"
            ]
          },
          "metadata": {
            "tags": []
          },
          "execution_count": 149
        }
      ]
    },
    {
      "cell_type": "code",
      "metadata": {
        "id": "F79IzBbMs8Sp",
        "colab_type": "code",
        "colab": {
          "base_uri": "https://localhost:8080/",
          "height": 102
        },
        "outputId": "da8b3ed0-c417-43c2-b99d-e06bd2bf1f19"
      },
      "source": [
        "# Element-wise operations are aligned by index.\n",
        "other_s = pd.Series({'a': 10.0, 'c': 20.0, 'd': 30.0, 'z': 40.0})\n",
        "other_s"
      ],
      "execution_count": 150,
      "outputs": [
        {
          "output_type": "execute_result",
          "data": {
            "text/plain": [
              "a    10.0\n",
              "c    20.0\n",
              "d    30.0\n",
              "z    40.0\n",
              "dtype: float64"
            ]
          },
          "metadata": {
            "tags": []
          },
          "execution_count": 150
        }
      ]
    },
    {
      "cell_type": "code",
      "metadata": {
        "id": "D4QMDJ0FmP9F",
        "colab_type": "code",
        "colab": {
          "base_uri": "https://localhost:8080/",
          "height": 102
        },
        "outputId": "c8e13407-db16-44d5-d657-197b17e8d9be"
      },
      "source": [
        "u = pd.Series({'Fisica':4.2, 'Quimica':3.9, 'Calculo 1':4.5, 'Filosofia':3.2})\n",
        "u"
      ],
      "execution_count": 151,
      "outputs": [
        {
          "output_type": "execute_result",
          "data": {
            "text/plain": [
              "Fisica       4.2\n",
              "Quimica      3.9\n",
              "Calculo 1    4.5\n",
              "Filosofia    3.2\n",
              "dtype: float64"
            ]
          },
          "metadata": {
            "tags": []
          },
          "execution_count": 151
        }
      ]
    },
    {
      "cell_type": "code",
      "metadata": {
        "id": "rdQ66W8Ps8Sq",
        "colab_type": "code",
        "colab": {
          "base_uri": "https://localhost:8080/",
          "height": 136
        },
        "outputId": "45bc5306-6202-4060-892b-52a93a92f159"
      },
      "source": [
        "s + other_s"
      ],
      "execution_count": 152,
      "outputs": [
        {
          "output_type": "execute_result",
          "data": {
            "text/plain": [
              "a    11.0\n",
              "b     NaN\n",
              "c    23.0\n",
              "d    34.0\n",
              "e     NaN\n",
              "z     NaN\n",
              "dtype: float64"
            ]
          },
          "metadata": {
            "tags": []
          },
          "execution_count": 152
        }
      ]
    },
    {
      "cell_type": "code",
      "metadata": {
        "id": "9ADHlQhymbIu",
        "colab_type": "code",
        "colab": {
          "base_uri": "https://localhost:8080/",
          "height": 238
        },
        "outputId": "a69b4452-be20-4a0e-ea02-4e7274b05c63"
      },
      "source": [
        "t+u"
      ],
      "execution_count": 153,
      "outputs": [
        {
          "output_type": "execute_result",
          "data": {
            "text/plain": [
              "Calculo 1   NaN\n",
              "Filosofia   NaN\n",
              "Fisica      NaN\n",
              "G           NaN\n",
              "Q           NaN\n",
              "Quimica     NaN\n",
              "R           NaN\n",
              "S           NaN\n",
              "T           NaN\n",
              "X           NaN\n",
              "Y           NaN\n",
              "Z           NaN\n",
              "dtype: float64"
            ]
          },
          "metadata": {
            "tags": []
          },
          "execution_count": 153
        }
      ]
    },
    {
      "cell_type": "code",
      "metadata": {
        "id": "rF64zN5Qs8Ss",
        "colab_type": "code",
        "colab": {
          "base_uri": "https://localhost:8080/",
          "height": 136
        },
        "outputId": "f5837834-a488-48ee-bb7f-9b67f4245d47"
      },
      "source": [
        "# We can fill in missing values with fillna().\n",
        "(s + other_s).fillna(0.0)"
      ],
      "execution_count": 154,
      "outputs": [
        {
          "output_type": "execute_result",
          "data": {
            "text/plain": [
              "a    11.0\n",
              "b     0.0\n",
              "c    23.0\n",
              "d    34.0\n",
              "e     0.0\n",
              "z     0.0\n",
              "dtype: float64"
            ]
          },
          "metadata": {
            "tags": []
          },
          "execution_count": 154
        }
      ]
    },
    {
      "cell_type": "code",
      "metadata": {
        "id": "uNbOo24Vm44E",
        "colab_type": "code",
        "colab": {
          "base_uri": "https://localhost:8080/",
          "height": 238
        },
        "outputId": "b71221f5-654f-4085-c78f-e21bee804dcd"
      },
      "source": [
        "(t+u).fillna(0.0)"
      ],
      "execution_count": 155,
      "outputs": [
        {
          "output_type": "execute_result",
          "data": {
            "text/plain": [
              "Calculo 1    0.0\n",
              "Filosofia    0.0\n",
              "Fisica       0.0\n",
              "G            0.0\n",
              "Q            0.0\n",
              "Quimica      0.0\n",
              "R            0.0\n",
              "S            0.0\n",
              "T            0.0\n",
              "X            0.0\n",
              "Y            0.0\n",
              "Z            0.0\n",
              "dtype: float64"
            ]
          },
          "metadata": {
            "tags": []
          },
          "execution_count": 155
        }
      ]
    },
    {
      "cell_type": "code",
      "metadata": {
        "id": "e1fvlbwvs8Su",
        "colab_type": "code",
        "colab": {}
      },
      "source": [
        "# Most real datasets are read in from an external file format.\n",
        "#aapl = pd.read_csv('AAPL.csv', parse_dates=['Date'], index_col='Date')\n",
        "#aapl.head()"
      ],
      "execution_count": 156,
      "outputs": []
    },
    {
      "cell_type": "code",
      "metadata": {
        "id": "Cb2MDlB6s8Sv",
        "colab_type": "code",
        "colab": {}
      },
      "source": [
        "# Slicing generalizes to two dimensions as you'd expect:\n",
        "#aapl.iloc[:2, :2]"
      ],
      "execution_count": 157,
      "outputs": []
    },
    {
      "cell_type": "code",
      "metadata": {
        "id": "W_v1OiPUs8Sw",
        "colab_type": "code",
        "colab": {}
      },
      "source": [
        "#aapl.loc[pd.Timestamp('2010-02-01'):pd.Timestamp('2010-02-04'), ['Close', 'Volume']]"
      ],
      "execution_count": 158,
      "outputs": []
    },
    {
      "cell_type": "markdown",
      "metadata": {
        "id": "I5m9OXC7s8Sy",
        "colab_type": "text"
      },
      "source": [
        "# Rolling Operations"
      ]
    },
    {
      "cell_type": "markdown",
      "metadata": {
        "id": "u028HF5rs8Sz",
        "colab_type": "text"
      },
      "source": [
        "<center><img src=\"images/rolling.gif\" alt=\"Drawing\" style=\"width: 75%;\"/></center>"
      ]
    },
    {
      "cell_type": "code",
      "metadata": {
        "id": "zOKpjp1ys8Sz",
        "colab_type": "code",
        "colab": {}
      },
      "source": [
        "#aapl.rolling(5)[['Close', 'Adj Close']].mean().plot();"
      ],
      "execution_count": 159,
      "outputs": []
    },
    {
      "cell_type": "code",
      "metadata": {
        "id": "rjBFTk9vs8S0",
        "colab_type": "code",
        "colab": {}
      },
      "source": [
        "# Drop `Volume`, since it's way bigger than everything else.\n",
        "#aapl.drop('Volume', axis=1).resample('2W').max().plot();"
      ],
      "execution_count": 160,
      "outputs": []
    },
    {
      "cell_type": "code",
      "metadata": {
        "id": "ozXlNgwss8S2",
        "colab_type": "code",
        "colab": {}
      },
      "source": [
        "# 30-day rolling exponentially-weighted stddev of returns.\n",
        "#aapl['Close'].pct_change().ewm(span=30).std().plot();"
      ],
      "execution_count": 161,
      "outputs": []
    },
    {
      "cell_type": "markdown",
      "metadata": {
        "id": "S3dXcXSXs8S3",
        "colab_type": "text"
      },
      "source": [
        "# \"Real World\" Data"
      ]
    },
    {
      "cell_type": "code",
      "metadata": {
        "id": "cYtJuVcTs8S4",
        "colab_type": "code",
        "colab": {
          "base_uri": "https://localhost:8080/",
          "height": 35
        },
        "outputId": "c78bdece-f5e4-4b64-d4ad-a56dfd3ec133"
      },
      "source": [
        "\"\"\"from demos.avocados import read_avocadata\n",
        "\n",
        "avocados = read_avocadata('2014', '2016')\n",
        "avocados.head()\"\"\""
      ],
      "execution_count": 162,
      "outputs": [
        {
          "output_type": "execute_result",
          "data": {
            "application/vnd.google.colaboratory.intrinsic+json": {
              "type": "string"
            },
            "text/plain": [
              "\"from demos.avocados import read_avocadata\\n\\navocados = read_avocadata('2014', '2016')\\navocados.head()\""
            ]
          },
          "metadata": {
            "tags": []
          },
          "execution_count": 162
        }
      ]
    },
    {
      "cell_type": "code",
      "metadata": {
        "id": "W7PMaxW_s8S5",
        "colab_type": "code",
        "colab": {}
      },
      "source": [
        "# Unlike numpy arrays, pandas DataFrames can have a different dtype for each column.\n",
        "#avocados.dtypes"
      ],
      "execution_count": 163,
      "outputs": []
    },
    {
      "cell_type": "code",
      "metadata": {
        "id": "EuqUXyf2s8S6",
        "colab_type": "code",
        "colab": {}
      },
      "source": [
        "# What's the regional average price of a HASS avocado every day?\n",
        "#hass = avocados[avocados.Variety == 'HASS']\n",
        "#hass.groupby(['Date', 'Region'])['Weighted Avg Price'].mean().unstack().ffill().plot();"
      ],
      "execution_count": 164,
      "outputs": []
    },
    {
      "cell_type": "code",
      "metadata": {
        "id": "kBI5VsY_s8S8",
        "colab_type": "code",
        "colab": {
          "base_uri": "https://localhost:8080/",
          "height": 103
        },
        "outputId": "643a9160-f52f-4f3a-8721-7865ce8091e1"
      },
      "source": [
        "\"\"\"def _organic_spread(group):\n",
        "\n",
        "    if len(group.columns) != 2:\n",
        "        return pd.Series(index=group.index, data=0.0)\n",
        "    \n",
        "    is_organic = group.columns.get_level_values('Organic').values.astype(bool)\n",
        "    organics = group.loc[:, is_organic].squeeze()\n",
        "    non_organics = group.loc[:, ~is_organic].squeeze()\n",
        "    diff = organics - non_organics\n",
        "    return diff\n",
        "\n",
        "def organic_spread_by_region(df):\n",
        "    What's the difference between the price of an organic \n",
        "    and non-organic avocado within each region?\n",
        "    \n",
        "    return (\n",
        "        df\n",
        "        .set_index(['Date', 'Region', 'Organic'])\n",
        "         ['Weighted Avg Price']\n",
        "        .unstack(level=['Region', 'Organic'])\n",
        "        .ffill()\n",
        "        .groupby(level='Region', axis=1)\n",
        "        .apply(_organic_spread)\n",
        "    )\"\"\""
      ],
      "execution_count": 165,
      "outputs": [
        {
          "output_type": "execute_result",
          "data": {
            "application/vnd.google.colaboratory.intrinsic+json": {
              "type": "string"
            },
            "text/plain": [
              "\"def _organic_spread(group):\\n\\n    if len(group.columns) != 2:\\n        return pd.Series(index=group.index, data=0.0)\\n    \\n    is_organic = group.columns.get_level_values('Organic').values.astype(bool)\\n    organics = group.loc[:, is_organic].squeeze()\\n    non_organics = group.loc[:, ~is_organic].squeeze()\\n    diff = organics - non_organics\\n    return diff\\n\\ndef organic_spread_by_region(df):\\n    What's the difference between the price of an organic \\n    and non-organic avocado within each region?\\n    \\n    return (\\n        df\\n        .set_index(['Date', 'Region', 'Organic'])\\n         ['Weighted Avg Price']\\n        .unstack(level=['Region', 'Organic'])\\n        .ffill()\\n        .groupby(level='Region', axis=1)\\n        .apply(_organic_spread)\\n    )\""
            ]
          },
          "metadata": {
            "tags": []
          },
          "execution_count": 165
        }
      ]
    },
    {
      "cell_type": "code",
      "metadata": {
        "id": "nknP0qQts8S9",
        "colab_type": "code",
        "colab": {
          "base_uri": "https://localhost:8080/",
          "height": 35
        },
        "outputId": "e4494c3f-d0fa-4ff7-fabd-a389f9b0e984"
      },
      "source": [
        "\"\"\"organic_spread_by_region(hass).plot();\n",
        "plt.gca().set_title(\"Daily Regional Organic Spread\");\n",
        "plt.legend(bbox_to_anchor=(1, 1));\"\"\""
      ],
      "execution_count": 166,
      "outputs": [
        {
          "output_type": "execute_result",
          "data": {
            "application/vnd.google.colaboratory.intrinsic+json": {
              "type": "string"
            },
            "text/plain": [
              "'organic_spread_by_region(hass).plot();\\nplt.gca().set_title(\"Daily Regional Organic Spread\");\\nplt.legend(bbox_to_anchor=(1, 1));'"
            ]
          },
          "metadata": {
            "tags": []
          },
          "execution_count": 166
        }
      ]
    },
    {
      "cell_type": "code",
      "metadata": {
        "id": "_FhX9j5Ws8TK",
        "colab_type": "code",
        "colab": {
          "base_uri": "https://localhost:8080/",
          "height": 35
        },
        "outputId": "2a0a1be6-5586-44c7-971d-68cc70f43d08"
      },
      "source": [
        "\"\"\"spread_correlation = organic_spread_by_region(hass).corr()\n",
        "spread_correlation\"\"\""
      ],
      "execution_count": 167,
      "outputs": [
        {
          "output_type": "execute_result",
          "data": {
            "application/vnd.google.colaboratory.intrinsic+json": {
              "type": "string"
            },
            "text/plain": [
              "'spread_correlation = organic_spread_by_region(hass).corr()\\nspread_correlation'"
            ]
          },
          "metadata": {
            "tags": []
          },
          "execution_count": 167
        }
      ]
    },
    {
      "cell_type": "code",
      "metadata": {
        "id": "VVjujM2Gs8TM",
        "colab_type": "code",
        "colab": {
          "base_uri": "https://localhost:8080/",
          "height": 52
        },
        "outputId": "19adfaab-2c71-4814-8083-371a517c53f5"
      },
      "source": [
        "\"\"\"import seaborn as sns\n",
        "grid = sns.clustermap(spread_correlation, annot=True)\n",
        "fig = grid.fig\n",
        "axes = fig.axes\n",
        "ax = axes[2]\n",
        "ax.set_xticklabels(ax.get_xticklabels(), rotation=45);\"\"\""
      ],
      "execution_count": 168,
      "outputs": [
        {
          "output_type": "execute_result",
          "data": {
            "application/vnd.google.colaboratory.intrinsic+json": {
              "type": "string"
            },
            "text/plain": [
              "'import seaborn as sns\\ngrid = sns.clustermap(spread_correlation, annot=True)\\nfig = grid.fig\\naxes = fig.axes\\nax = axes[2]\\nax.set_xticklabels(ax.get_xticklabels(), rotation=45);'"
            ]
          },
          "metadata": {
            "tags": []
          },
          "execution_count": 168
        }
      ]
    },
    {
      "cell_type": "markdown",
      "metadata": {
        "id": "apqx40zus8TO",
        "colab_type": "text"
      },
      "source": [
        "# Pandas Review\n",
        "\n",
        "- Pandas extends numpy with more complex datastructures and algorithms.\n",
        "- If you understand numpy, you understand 90% of pandas.\n",
        "- `groupby`, `set_index`, and `unstack` are powerful tools for working with categorical data.\n",
        "- Avocado prices are surprisingly interesting :)"
      ]
    },
    {
      "cell_type": "markdown",
      "metadata": {
        "id": "BvB3m4ADs8TP",
        "colab_type": "text"
      },
      "source": [
        "# Thanks!"
      ]
    }
  ]
}